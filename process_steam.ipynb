{
 "cells": [
  {
   "cell_type": "code",
   "execution_count": null,
   "id": "1e65d86e-7017-4432-8973-7d404891cde4",
   "metadata": {},
   "outputs": [],
   "source": [
    "from pyspark.sql import SparkSession\n",
    "from pyspark.sql.functions import col, sum as _sum, when\n",
    "\n",
    "spark = SparkSession.builder.getOrCreate()"
   ]
  },
  {
   "cell_type": "code",
   "execution_count": null,
   "id": "7dab9169-0903-4d2b-9af2-e4cdd505a8ec",
   "metadata": {},
   "outputs": [],
   "source": [
    "import pyspark.sql.functions as f"
   ]
  },
  {
   "cell_type": "code",
   "execution_count": null,
   "id": "a4e71081-f0c2-45b8-8ccb-109f2b779daa",
   "metadata": {},
   "outputs": [],
   "source": [
    "df = spark.read.json([\n",
    "    \"/home/jovyan/data/test.jsonl\",\n",
    "    \"/home/jovyan/data/test2.jsonl\"\n",
    "])\n",
    "df.select('steam_appid').distinct().count()"
   ]
  },
  {
   "cell_type": "code",
   "execution_count": null,
   "id": "6c41862a-807e-496f-af97-a893ef2320c1",
   "metadata": {},
   "outputs": [],
   "source": [
    "df = df.distinct()\n",
    "df.select('steam_appid').distinct().count()"
   ]
  },
  {
   "cell_type": "code",
   "execution_count": null,
   "id": "bf754da0-e65b-4cf7-80fd-64e0b20b2b86",
   "metadata": {},
   "outputs": [],
   "source": [
    "df.show(5)"
   ]
  },
  {
   "cell_type": "code",
   "execution_count": null,
   "id": "c8772703-d3f0-4531-af2f-bcf536514bf6",
   "metadata": {},
   "outputs": [],
   "source": [
    "df.printSchema()"
   ]
  },
  {
   "cell_type": "code",
   "execution_count": null,
   "id": "5fb49751-a57a-46c9-be66-b06ab92944f4",
   "metadata": {},
   "outputs": [],
   "source": [
    "df.describe().show()\n"
   ]
  },
  {
   "cell_type": "markdown",
   "id": "4a705884-f152-4a0c-b907-868d7694e8e4",
   "metadata": {},
   "source": [
    "# Remove duplicates"
   ]
  },
  {
   "cell_type": "code",
   "execution_count": null,
   "id": "d92d5a88-568c-4ae1-b784-b830e4591cc7",
   "metadata": {},
   "outputs": [],
   "source": [
    "df.groupBy(\"steam_appid\").agg(f.count(\"*\")).filter(col('count(1)')>1).show()"
   ]
  },
  {
   "cell_type": "code",
   "execution_count": null,
   "id": "830b089a-7f23-40f8-97a4-92d47311c614",
   "metadata": {},
   "outputs": [],
   "source": [
    "def find_differences_by_id(df, id_col):\n",
    "    dup_ids = df.groupBy(id_col).count().filter(col(\"count\") > 1).select(id_col)\n",
    "    dup_df = df.join(dup_ids, on=id_col, how=\"inner\")\n",
    "\n",
    "    cols_to_check = [c for c in df.columns if c != id_col]\n",
    "\n",
    "    diff_exprs = [\n",
    "        f.collect_set(col(c)).alias(c) for c in cols_to_check\n",
    "    ]\n",
    "\n",
    "    grouped = dup_df.groupBy(id_col).agg(*diff_exprs)\n",
    "\n",
    "    mismatch_exprs = [\n",
    "        (f.size(col(c)) > 1).alias(c) for c in cols_to_check\n",
    "    ]\n",
    "\n",
    "    mismatches = grouped.select(id_col, *mismatch_exprs)\n",
    "\n",
    "    mismatch_long = mismatches.selectExpr(\n",
    "        f\"`{id_col}`\", \n",
    "        \"stack(\" + str(len(cols_to_check)) + \", \" +\n",
    "        \", \".join([f\"'{c}', {c}\" for c in cols_to_check]) +\n",
    "        \") as (column, has_difference)\"\n",
    "    ).filter(\"has_difference = true\")\n",
    "\n",
    "    return mismatch_long\n"
   ]
  },
  {
   "cell_type": "code",
   "execution_count": null,
   "id": "f73fa899-1f41-4a0d-a23b-01a803b828e1",
   "metadata": {},
   "outputs": [],
   "source": [
    "result = find_differences_by_id(df, \"steam_appid\")\n",
    "result.show(100)"
   ]
  },
  {
   "cell_type": "code",
   "execution_count": null,
   "id": "0939bf4a-7934-4e3d-8fb4-c1bb2839bef8",
   "metadata": {},
   "outputs": [],
   "source": [
    "df.createOrReplaceTempView(\"df\")\n"
   ]
  },
  {
   "cell_type": "code",
   "execution_count": null,
   "id": "e140bb21-f657-442a-9dcb-9f3223e0bb79",
   "metadata": {},
   "outputs": [],
   "source": [
    "spark.sql(\"\"\"\n",
    "SELECT recommendations, ROW_NUMBER() OVER (PARTITION BY steam_appid ORDER BY recommendations DESC) AS rank FROM df WHERE steam_appid = '34330'\n",
    "\"\"\").show()"
   ]
  },
  {
   "cell_type": "code",
   "execution_count": null,
   "id": "cc167fa4-3650-4461-a6c6-97352be06bda",
   "metadata": {},
   "outputs": [],
   "source": [
    "df = spark.sql(\"\"\"\n",
    "SELECT *\n",
    "FROM\n",
    "(SELECT *, ROW_NUMBER() OVER (PARTITION BY steam_appid ORDER BY recommendations DESC) AS rank FROM df)\n",
    "WHERE rank = 1\n",
    "\"\"\").drop(\"rank\")"
   ]
  },
  {
   "cell_type": "code",
   "execution_count": null,
   "id": "2f6e3f5e-3245-4e62-84a3-ccf417b9383b",
   "metadata": {},
   "outputs": [],
   "source": []
  },
  {
   "cell_type": "code",
   "execution_count": null,
   "id": "6916766a-dfc7-4c93-9009-bc82e6db7362",
   "metadata": {},
   "outputs": [],
   "source": [
    "result = find_differences_by_id(df, \"steam_appid\")\n",
    "result.show(5)"
   ]
  },
  {
   "cell_type": "code",
   "execution_count": null,
   "id": "a35efd8c-1157-4a3d-8b4f-1c734f97b0f4",
   "metadata": {},
   "outputs": [],
   "source": [
    "df.count()"
   ]
  },
  {
   "cell_type": "code",
   "execution_count": null,
   "id": "63b952ec-2723-4f66-9155-122afe10cdc3",
   "metadata": {},
   "outputs": [],
   "source": []
  },
  {
   "cell_type": "markdown",
   "id": "35a63425-6e60-4a98-8834-73497e1a8d02",
   "metadata": {},
   "source": [
    "# Clean columns"
   ]
  },
  {
   "cell_type": "code",
   "execution_count": null,
   "id": "cd91ab29-abb8-4954-b358-d1400b7d73e3",
   "metadata": {},
   "outputs": [],
   "source": [
    "def get_null_counts(df):\n",
    "    null_counts = df.select([\n",
    "        _sum(f.when(col(c).isNull(), 1).otherwise(0)).alias(c)\n",
    "        for c in df.columns\n",
    "    ])\n",
    "    \n",
    "    result = null_counts.selectExpr(\n",
    "        \"stack({0}, {1}) as (column_name, null_count)\".format(\n",
    "            len(df.columns),\n",
    "            \", \".join([f\"'{c}', `{c}`\" for c in df.columns])\n",
    "        )\n",
    "    )\n",
    "    \n",
    "    return result.orderBy(f.desc(\"null_count\"))\n"
   ]
  },
  {
   "cell_type": "code",
   "execution_count": null,
   "id": "3d494d83-0f9c-44d6-b1c4-285759a19254",
   "metadata": {},
   "outputs": [],
   "source": [
    "null_summary = get_null_counts(df)\n",
    "null_summary = null_summary.withColumn(\"percent\", col(\"null_count\")/df.count())\n",
    "null_summary.show(100)"
   ]
  },
  {
   "cell_type": "code",
   "execution_count": null,
   "id": "902f79d6-b9c6-4235-8eb9-7a9343ce795c",
   "metadata": {},
   "outputs": [],
   "source": [
    "null_summary.filter('percent >=0.8').select('column_name').show()"
   ]
  },
  {
   "cell_type": "code",
   "execution_count": null,
   "id": "c01b4e30-c7a7-41cf-83c9-65490cabb092",
   "metadata": {},
   "outputs": [],
   "source": [
    "df.explain(mode=\"formatted\")"
   ]
  },
  {
   "cell_type": "code",
   "execution_count": null,
   "id": "3a3044a1-4808-4e0d-a099-66a408102ee0",
   "metadata": {},
   "outputs": [],
   "source": []
  }
 ],
 "metadata": {
  "kernelspec": {
   "display_name": "Python 3 (ipykernel)",
   "language": "python",
   "name": "python3"
  },
  "language_info": {
   "codemirror_mode": {
    "name": "ipython",
    "version": 3
   },
   "file_extension": ".py",
   "mimetype": "text/x-python",
   "name": "python",
   "nbconvert_exporter": "python",
   "pygments_lexer": "ipython3",
   "version": "3.11.6"
  }
 },
 "nbformat": 4,
 "nbformat_minor": 5
}
