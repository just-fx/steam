{
 "cells": [
  {
   "cell_type": "code",
   "execution_count": 1,
   "id": "1e65d86e-7017-4432-8973-7d404891cde4",
   "metadata": {},
   "outputs": [],
   "source": [
    "from pyspark.sql import SparkSession\n",
    "from pyspark.sql.functions import col, sum as _sum, when\n",
    "\n",
    "# spark = SparkSession.builder.getOrCreate()\n",
    "spark = SparkSession.builder \\\n",
    "    .master(\"local[1]\") \\\n",
    "    .config(\"spark.ui.port\", \"4040\") \\\n",
    "    .getOrCreate()\n"
   ]
  },
  {
   "cell_type": "code",
   "execution_count": 2,
   "id": "7dab9169-0903-4d2b-9af2-e4cdd505a8ec",
   "metadata": {},
   "outputs": [],
   "source": [
    "import pyspark.sql.functions as f"
   ]
  },
  {
   "cell_type": "code",
   "execution_count": 3,
   "id": "a4e71081-f0c2-45b8-8ccb-109f2b779daa",
   "metadata": {},
   "outputs": [
    {
     "data": {
      "text/plain": [
       "223874"
      ]
     },
     "execution_count": 3,
     "metadata": {},
     "output_type": "execute_result"
    }
   ],
   "source": [
    "df = spark.read.json([\n",
    "    \"/home/jovyan/data/test.jsonl\",\n",
    "    \"/home/jovyan/data/test2.jsonl\"\n",
    "])\n",
    "df.select('steam_appid').distinct().count()"
   ]
  },
  {
   "cell_type": "code",
   "execution_count": 4,
   "id": "6c41862a-807e-496f-af97-a893ef2320c1",
   "metadata": {},
   "outputs": [
    {
     "data": {
      "text/plain": [
       "223874"
      ]
     },
     "execution_count": 4,
     "metadata": {},
     "output_type": "execute_result"
    }
   ],
   "source": [
    "df = df.distinct()\n",
    "df.select('steam_appid').distinct().count()"
   ]
  },
  {
   "cell_type": "code",
   "execution_count": 5,
   "id": "bf754da0-e65b-4cf7-80fd-64e0b20b2b86",
   "metadata": {},
   "outputs": [
    {
     "name": "stdout",
     "output_type": "stream",
     "text": [
      "+--------------------+--------------------+---------------+--------------------+--------------------+--------------------+--------------------+--------------------+-------------------+------------------+------------+--------------------+--------------------+--------------------+----------+-----------------------+--------------------+--------------------+--------------------+-------+--------------------+------------------+----------------+--------------------+--------------------+--------------------+--------------------+--------+--------------------+--------------------+--------------------+--------------------+--------------------+---------------+--------------------+------------+--------------------+--------------------+--------------------+-----------+--------------------+--------------------+----+--------------------+\n",
      "|      about_the_game|        achievements|alternate_appid|          background|      background_raw|       capsule_image|     capsule_imagev5|          categories|content_descriptors|controller_support|       demos|detailed_description|          developers|                 dlc|drm_notice|ext_user_account_notice|            fullgame|              genres|        header_image|is_free|        legal_notice|linux_requirements|mac_requirements|          metacritic|              movies|                name|      package_groups|packages|     pc_requirements|           platforms|      price_overview|          publishers|             ratings|recommendations|        release_date|required_age|             reviews|         screenshots|   short_description|steam_appid|        support_info| supported_languages|type|             website|\n",
      "+--------------------+--------------------+---------------+--------------------+--------------------+--------------------+--------------------+--------------------+-------------------+------------------+------------+--------------------+--------------------+--------------------+----------+-----------------------+--------------------+--------------------+--------------------+-------+--------------------+------------------+----------------+--------------------+--------------------+--------------------+--------------------+--------+--------------------+--------------------+--------------------+--------------------+--------------------+---------------+--------------------+------------+--------------------+--------------------+--------------------+-----------+--------------------+--------------------+----+--------------------+\n",
      "|                    |                NULL|           NULL|https://store.aka...|https://store.aka...|https://shared.ak...|https://shared.ak...|   [{Game demo, 10}]|         {[], NULL}|              NULL|        NULL|                    |   [Digital Reality]|                NULL|      NULL|                   NULL|   {91100, SkyDrift}|                NULL|https://shared.ak...|   true|                NULL|                []|              []|          {73, NULL}|                NULL|       SkyDrift Demo|                  []|    NULL|                  []|{false, false, true}|                NULL|        [HandyGames]|                NULL|           NULL|{false, 29 Nov, 2...|           0|                NULL|                NULL|                    |      91110|{support@quanticl...|                NULL|demo|                NULL|\n",
      "|                    |                NULL|           NULL|https://store.aka...|https://store.aka...|https://shared.ak...|https://shared.ak...|[{Family Sharing,...|         {[], NULL}|              NULL|        NULL|                    |    [Telltale Games]|                NULL|      NULL|                   NULL|                NULL|                NULL|https://shared.ak...|  false|                NULL|                []|              []|                NULL|                NULL|Back to the Futur...|                  []|    NULL|                  []| {false, true, true}|                NULL|    [Telltale Games]|                NULL|           NULL|           {false, }|           0|                NULL|                NULL|                    |      94520|                {, }|                NULL|game|                NULL|\n",
      "|                    |                NULL|           NULL|https://store.aka...|https://store.aka...|https://shared.ak...|https://shared.ak...|[{Single-player, ...|         {[], NULL}|              NULL|        NULL|                    |       [Secret Base]|                NULL|      NULL|                   NULL|{105700, Tobe's V...|[{Adventure, 25},...|https://shared.ak...|   true|                NULL|                []|              []|          {75, NULL}|                NULL|Tobe's Vertical A...|                  []|    NULL|                  []|{false, false, true}|                NULL|                NULL|                NULL|           NULL|{false, 18 Jul, 2...|           0|                NULL|                NULL|                    |     105710|                {, }|             English|demo|                NULL|\n",
      "|You’ve tossed, bu...|{[{I Could Do Thi...|           NULL|https://store.aka...|https://shared.ak...|https://shared.ak...|https://shared.ak...|[{Single-player, ...|         {[], NULL}|              full|[{215020, }]|You’ve tossed, bu...|[Robot Entertainm...|[201802, 201804, ...|      NULL|                   NULL|                NULL|[{Action, 1}, {Ad...|https://shared.ak...|  false|© 2021 Robot Ente...|                []|              []|{83, https://www....|[{true, 256729816...|    Orcs Must Die! 2|[{, 0, false, def...| [15594]|{\"minimum\":\"<stro...|{false, false, true}|{PHP, 70, 11698, ...|[Robot Entertainm...|{\"pegi\":{\"rating\"...|        {12678}|{false, 30 Jul, 2...|           0|<strong>IGN: 9/10...|[{0, https://shar...|You’ve tossed, bu...|     201790|{support@robotent...|English<strong>*<...|game|https://robotente...|\n",
      "|Experience The El...|                NULL|           NULL|https://store.aka...|https://store.aka...|https://shared.ak...|https://shared.ak...|[{Single-player, ...|        {[5], NULL}|              NULL|        NULL|Experience The El...|[Bethesda Game St...|                NULL|      NULL|                   NULL|{72850, The Elder...|          [{RPG, 3}]|https://shared.ak...|   true|The Elder Scrolls...|                []|              []|                NULL|                NULL|Skyrim: High Reso...|[{, 0, false, def...| [13437]|{\"recommended\":\"<...|{false, false, true}|                NULL|[Bethesda Softworks]|                NULL|           NULL|{false, 7 Feb, 2012}|           0|                NULL|[{0, https://shar...|Experience The El...|     202485|                {, }|English, French, ...| dlc|http://elderscrol...|\n",
      "+--------------------+--------------------+---------------+--------------------+--------------------+--------------------+--------------------+--------------------+-------------------+------------------+------------+--------------------+--------------------+--------------------+----------+-----------------------+--------------------+--------------------+--------------------+-------+--------------------+------------------+----------------+--------------------+--------------------+--------------------+--------------------+--------+--------------------+--------------------+--------------------+--------------------+--------------------+---------------+--------------------+------------+--------------------+--------------------+--------------------+-----------+--------------------+--------------------+----+--------------------+\n",
      "only showing top 5 rows\n",
      "\n"
     ]
    }
   ],
   "source": [
    "df.show(5)"
   ]
  },
  {
   "cell_type": "code",
   "execution_count": 6,
   "id": "c8772703-d3f0-4531-af2f-bcf536514bf6",
   "metadata": {},
   "outputs": [
    {
     "name": "stdout",
     "output_type": "stream",
     "text": [
      "root\n",
      " |-- about_the_game: string (nullable = true)\n",
      " |-- achievements: struct (nullable = true)\n",
      " |    |-- highlighted: array (nullable = true)\n",
      " |    |    |-- element: struct (containsNull = true)\n",
      " |    |    |    |-- name: string (nullable = true)\n",
      " |    |    |    |-- path: string (nullable = true)\n",
      " |    |-- total: long (nullable = true)\n",
      " |-- alternate_appid: string (nullable = true)\n",
      " |-- background: string (nullable = true)\n",
      " |-- background_raw: string (nullable = true)\n",
      " |-- capsule_image: string (nullable = true)\n",
      " |-- capsule_imagev5: string (nullable = true)\n",
      " |-- categories: array (nullable = true)\n",
      " |    |-- element: struct (containsNull = true)\n",
      " |    |    |-- description: string (nullable = true)\n",
      " |    |    |-- id: long (nullable = true)\n",
      " |-- content_descriptors: struct (nullable = true)\n",
      " |    |-- ids: array (nullable = true)\n",
      " |    |    |-- element: long (containsNull = true)\n",
      " |    |-- notes: string (nullable = true)\n",
      " |-- controller_support: string (nullable = true)\n",
      " |-- demos: array (nullable = true)\n",
      " |    |-- element: struct (containsNull = true)\n",
      " |    |    |-- appid: long (nullable = true)\n",
      " |    |    |-- description: string (nullable = true)\n",
      " |-- detailed_description: string (nullable = true)\n",
      " |-- developers: array (nullable = true)\n",
      " |    |-- element: string (containsNull = true)\n",
      " |-- dlc: array (nullable = true)\n",
      " |    |-- element: long (containsNull = true)\n",
      " |-- drm_notice: string (nullable = true)\n",
      " |-- ext_user_account_notice: string (nullable = true)\n",
      " |-- fullgame: struct (nullable = true)\n",
      " |    |-- appid: string (nullable = true)\n",
      " |    |-- name: string (nullable = true)\n",
      " |-- genres: array (nullable = true)\n",
      " |    |-- element: struct (containsNull = true)\n",
      " |    |    |-- description: string (nullable = true)\n",
      " |    |    |-- id: string (nullable = true)\n",
      " |-- header_image: string (nullable = true)\n",
      " |-- is_free: boolean (nullable = true)\n",
      " |-- legal_notice: string (nullable = true)\n",
      " |-- linux_requirements: string (nullable = true)\n",
      " |-- mac_requirements: string (nullable = true)\n",
      " |-- metacritic: struct (nullable = true)\n",
      " |    |-- score: long (nullable = true)\n",
      " |    |-- url: string (nullable = true)\n",
      " |-- movies: array (nullable = true)\n",
      " |    |-- element: struct (containsNull = true)\n",
      " |    |    |-- highlight: boolean (nullable = true)\n",
      " |    |    |-- id: long (nullable = true)\n",
      " |    |    |-- mp4: struct (nullable = true)\n",
      " |    |    |    |-- 480: string (nullable = true)\n",
      " |    |    |    |-- max: string (nullable = true)\n",
      " |    |    |-- name: string (nullable = true)\n",
      " |    |    |-- thumbnail: string (nullable = true)\n",
      " |    |    |-- webm: struct (nullable = true)\n",
      " |    |    |    |-- 480: string (nullable = true)\n",
      " |    |    |    |-- max: string (nullable = true)\n",
      " |-- name: string (nullable = true)\n",
      " |-- package_groups: array (nullable = true)\n",
      " |    |-- element: struct (containsNull = true)\n",
      " |    |    |-- description: string (nullable = true)\n",
      " |    |    |-- display_type: string (nullable = true)\n",
      " |    |    |-- is_recurring_subscription: string (nullable = true)\n",
      " |    |    |-- name: string (nullable = true)\n",
      " |    |    |-- save_text: string (nullable = true)\n",
      " |    |    |-- selection_text: string (nullable = true)\n",
      " |    |    |-- subs: array (nullable = true)\n",
      " |    |    |    |-- element: struct (containsNull = true)\n",
      " |    |    |    |    |-- can_get_free_license: string (nullable = true)\n",
      " |    |    |    |    |-- is_free_license: boolean (nullable = true)\n",
      " |    |    |    |    |-- option_description: string (nullable = true)\n",
      " |    |    |    |    |-- option_text: string (nullable = true)\n",
      " |    |    |    |    |-- packageid: long (nullable = true)\n",
      " |    |    |    |    |-- percent_savings: long (nullable = true)\n",
      " |    |    |    |    |-- percent_savings_text: string (nullable = true)\n",
      " |    |    |    |    |-- price_in_cents_with_discount: long (nullable = true)\n",
      " |    |    |-- title: string (nullable = true)\n",
      " |-- packages: array (nullable = true)\n",
      " |    |-- element: long (containsNull = true)\n",
      " |-- pc_requirements: string (nullable = true)\n",
      " |-- platforms: struct (nullable = true)\n",
      " |    |-- linux: boolean (nullable = true)\n",
      " |    |-- mac: boolean (nullable = true)\n",
      " |    |-- windows: boolean (nullable = true)\n",
      " |-- price_overview: struct (nullable = true)\n",
      " |    |-- currency: string (nullable = true)\n",
      " |    |-- discount_percent: long (nullable = true)\n",
      " |    |-- final: long (nullable = true)\n",
      " |    |-- final_formatted: string (nullable = true)\n",
      " |    |-- initial: long (nullable = true)\n",
      " |    |-- initial_formatted: string (nullable = true)\n",
      " |    |-- recurring_sub: long (nullable = true)\n",
      " |    |-- recurring_sub_desc: string (nullable = true)\n",
      " |-- publishers: array (nullable = true)\n",
      " |    |-- element: string (containsNull = true)\n",
      " |-- ratings: string (nullable = true)\n",
      " |-- recommendations: struct (nullable = true)\n",
      " |    |-- total: long (nullable = true)\n",
      " |-- release_date: struct (nullable = true)\n",
      " |    |-- coming_soon: boolean (nullable = true)\n",
      " |    |-- date: string (nullable = true)\n",
      " |-- required_age: string (nullable = true)\n",
      " |-- reviews: string (nullable = true)\n",
      " |-- screenshots: array (nullable = true)\n",
      " |    |-- element: struct (containsNull = true)\n",
      " |    |    |-- id: long (nullable = true)\n",
      " |    |    |-- path_full: string (nullable = true)\n",
      " |    |    |-- path_thumbnail: string (nullable = true)\n",
      " |-- short_description: string (nullable = true)\n",
      " |-- steam_appid: long (nullable = true)\n",
      " |-- support_info: struct (nullable = true)\n",
      " |    |-- email: string (nullable = true)\n",
      " |    |-- url: string (nullable = true)\n",
      " |-- supported_languages: string (nullable = true)\n",
      " |-- type: string (nullable = true)\n",
      " |-- website: string (nullable = true)\n",
      "\n"
     ]
    }
   ],
   "source": [
    "df.printSchema()"
   ]
  },
  {
   "cell_type": "code",
   "execution_count": 7,
   "id": "5fb49751-a57a-46c9-be66-b06ab92944f4",
   "metadata": {},
   "outputs": [
    {
     "name": "stdout",
     "output_type": "stream",
     "text": [
      "+-------+--------------------+------------------+--------------------+--------------------+--------------------+--------------------+------------------+--------------------+------------------------+--------------------------+--------------------+---------------------+--------------------+--------------------+--------+--------------------+--------------------+------------------+------------------------+--------------------+------------------+--------------------+-----------+--------------------+\n",
      "|summary|      about_the_game|   alternate_appid|          background|      background_raw|       capsule_image|     capsule_imagev5|controller_support|detailed_description|              drm_notice|   ext_user_account_notice|        header_image|         legal_notice|  linux_requirements|    mac_requirements|    name|     pc_requirements|             ratings|      required_age|                 reviews|   short_description|       steam_appid| supported_languages|       type|             website|\n",
      "+-------+--------------------+------------------+--------------------+--------------------+--------------------+--------------------+------------------+--------------------+------------------------+--------------------------+--------------------+---------------------+--------------------+--------------------+--------+--------------------+--------------------+------------------+------------------------+--------------------+------------------+--------------------+-----------+--------------------+\n",
      "|  count|              223893|                14|              223893|              223893|              223893|              223893|             55687|              223893|                    1208|                      2048|              223893|                70537|              223893|              223893|  223893|              223893|              178050|            223893|                   12891|              223893|            223893|              207952|     223893|              102824|\n",
      "|   mean|                NULL|206317.64285714287|                NULL|                NULL|                NULL|                NULL|              NULL|                NULL|                    NULL|                      NULL|                NULL|   1439.7142857142858|                NULL|                NULL|Infinity|                NULL|                NULL|0.6658463160151504|                    NULL|                 1.0|1942528.7870679297|                NULL|       NULL|                NULL|\n",
      "| stddev|                NULL|341086.40801587264|                NULL|                NULL|                NULL|                NULL|              NULL|                NULL|                    NULL|                      NULL|                NULL|    982.8559939085201|                NULL|                NULL|     NaN|                NULL|                NULL|211.34749034289402|                    NULL|                NULL|1006721.9401962159|                NULL|       NULL|                NULL|\n",
      "|    min|                    |           1031360|https://store.aka...|https://shared.ak...|https://shared.ak...|https://shared.ak...|              full|                    |    -<br>- machine ac...|                        - |https://shared.ak...|                     |                  []|                  []|        |                  []|                    |                 0|    \\n\\t\\t\\t\\t\\t<p>\\n...|                    |                10|              Arabic|advertising|                    |\n",
      "|    max|🩸 Gore Mode Unle...|            900967|https://store.aka...|https://store.aka...|https://shared.ak...|https://shared.ak...|              full|🩸 Gore Mode Unle...|闪晃<br>闪晃 machine ...|타사 계정 필요: Google ...|https://shared.ak...|🔸 🔹 🔶 🔷【ᴄᴏᴘʏʀ...|{\"recommended\":\"D...|{\"recommended\":\"O...|      𣸩|{\"recommended\":\"<...|{\"video\":{\"use_ag...|              １８|焯 – 我超<br><br>值 –...|🪀💥YOU ARE A YOY...|           3789110|Vietnamese<strong...|      video|www.zombiedriver.com|\n",
      "+-------+--------------------+------------------+--------------------+--------------------+--------------------+--------------------+------------------+--------------------+------------------------+--------------------------+--------------------+---------------------+--------------------+--------------------+--------+--------------------+--------------------+------------------+------------------------+--------------------+------------------+--------------------+-----------+--------------------+\n",
      "\n"
     ]
    }
   ],
   "source": [
    "df.describe().show()\n"
   ]
  },
  {
   "cell_type": "markdown",
   "id": "4a705884-f152-4a0c-b907-868d7694e8e4",
   "metadata": {},
   "source": [
    "# Cleaning"
   ]
  },
  {
   "cell_type": "code",
   "execution_count": 8,
   "id": "d92d5a88-568c-4ae1-b784-b830e4591cc7",
   "metadata": {},
   "outputs": [
    {
     "name": "stdout",
     "output_type": "stream",
     "text": [
      "+-----------+--------+\n",
      "|steam_appid|count(1)|\n",
      "+-----------+--------+\n",
      "|     412020|       2|\n",
      "|        400|       2|\n",
      "|      10180|       2|\n",
      "|      33230|       2|\n",
      "|      32460|       2|\n",
      "|     244450|       2|\n",
      "|      38480|       2|\n",
      "|     311210|       3|\n",
      "|    2195250|       3|\n",
      "|      22330|       2|\n",
      "|    2669320|       2|\n",
      "|      34330|       2|\n",
      "|     238210|       2|\n",
      "|     359550|       2|\n",
      "|        620|       2|\n",
      "|      42680|       2|\n",
      "|    1426210|       2|\n",
      "+-----------+--------+\n",
      "\n"
     ]
    }
   ],
   "source": [
    "df.groupBy(\"steam_appid\").agg(f.count(\"*\")).filter(col('count(1)')>1).show()"
   ]
  },
  {
   "cell_type": "code",
   "execution_count": 9,
   "id": "830b089a-7f23-40f8-97a4-92d47311c614",
   "metadata": {},
   "outputs": [],
   "source": [
    "def find_differences_by_id(df, id_col):\n",
    "    dup_ids = df.groupBy(id_col).count().filter(col(\"count\") > 1).select(id_col)\n",
    "    dup_df = df.join(dup_ids, on=id_col, how=\"inner\")\n",
    "\n",
    "    cols_to_check = [c for c in df.columns if c != id_col]\n",
    "\n",
    "    diff_exprs = [\n",
    "        f.collect_set(col(c)).alias(c) for c in cols_to_check\n",
    "    ]\n",
    "\n",
    "    grouped = dup_df.groupBy(id_col).agg(*diff_exprs)\n",
    "\n",
    "    mismatch_exprs = [\n",
    "        (f.size(col(c)) > 1).alias(c) for c in cols_to_check\n",
    "    ]\n",
    "\n",
    "    mismatches = grouped.select(id_col, *mismatch_exprs)\n",
    "\n",
    "    mismatch_long = mismatches.selectExpr(\n",
    "        f\"`{id_col}`\", \n",
    "        \"stack(\" + str(len(cols_to_check)) + \", \" +\n",
    "        \", \".join([f\"'{c}', {c}\" for c in cols_to_check]) +\n",
    "        \") as (column, has_difference)\"\n",
    "    ).filter(\"has_difference = true\")\n",
    "\n",
    "    return mismatch_long\n"
   ]
  },
  {
   "cell_type": "code",
   "execution_count": 10,
   "id": "f73fa899-1f41-4a0d-a23b-01a803b828e1",
   "metadata": {},
   "outputs": [
    {
     "name": "stdout",
     "output_type": "stream",
     "text": [
      "+-----------+--------------------+--------------+\n",
      "|steam_appid|              column|has_difference|\n",
      "+-----------+--------------------+--------------+\n",
      "|      32460|      about_the_game|          true|\n",
      "|      32460|          background|          true|\n",
      "|      32460|      background_raw|          true|\n",
      "|      32460|       capsule_image|          true|\n",
      "|      32460|     capsule_imagev5|          true|\n",
      "|      32460|          categories|          true|\n",
      "|      32460|detailed_description|          true|\n",
      "|      32460|        header_image|          true|\n",
      "|      32460|                name|          true|\n",
      "|      32460|      package_groups|          true|\n",
      "|      32460|     pc_requirements|          true|\n",
      "|      32460|             ratings|          true|\n",
      "|      32460|         screenshots|          true|\n",
      "|      32460|   short_description|          true|\n",
      "|      32460|        support_info|          true|\n",
      "|      32460| supported_languages|          true|\n",
      "|      32460|                type|          true|\n",
      "|      32460|             website|          true|\n",
      "|      22330|      about_the_game|          true|\n",
      "|      22330|          background|          true|\n",
      "|      22330|      background_raw|          true|\n",
      "|      22330|       capsule_image|          true|\n",
      "|      22330|     capsule_imagev5|          true|\n",
      "|      22330|detailed_description|          true|\n",
      "|      22330|          developers|          true|\n",
      "|      22330|        header_image|          true|\n",
      "|      22330|                name|          true|\n",
      "|      22330|      package_groups|          true|\n",
      "|      22330|            packages|          true|\n",
      "|      22330|      price_overview|          true|\n",
      "|      22330|     recommendations|          true|\n",
      "|      22330|         screenshots|          true|\n",
      "|      22330|   short_description|          true|\n",
      "|      22330|        support_info|          true|\n",
      "|      22330| supported_languages|          true|\n",
      "|     238210|     recommendations|          true|\n",
      "|     412020|     recommendations|          true|\n",
      "|      38480|      about_the_game|          true|\n",
      "|      38480|          background|          true|\n",
      "|      38480|      background_raw|          true|\n",
      "|      38480|       capsule_image|          true|\n",
      "|      38480|     capsule_imagev5|          true|\n",
      "|      38480|detailed_description|          true|\n",
      "|      38480|              genres|          true|\n",
      "|      38480|        header_image|          true|\n",
      "|      38480|  linux_requirements|          true|\n",
      "|      38480|    mac_requirements|          true|\n",
      "|      38480|     pc_requirements|          true|\n",
      "|      38480|        release_date|          true|\n",
      "|      38480|         screenshots|          true|\n",
      "|      38480|   short_description|          true|\n",
      "|      38480|        support_info|          true|\n",
      "|    2669320|     recommendations|          true|\n",
      "|     311210|     recommendations|          true|\n",
      "|     244450|     recommendations|          true|\n",
      "|    2195250|      about_the_game|          true|\n",
      "|    2195250|          background|          true|\n",
      "|    2195250|      background_raw|          true|\n",
      "|    2195250|       capsule_image|          true|\n",
      "|    2195250|     capsule_imagev5|          true|\n",
      "|    2195250|detailed_description|          true|\n",
      "|    2195250|        header_image|          true|\n",
      "|    2195250|     recommendations|          true|\n",
      "|    2195250|         screenshots|          true|\n",
      "|     359550|     recommendations|          true|\n",
      "|        400|     recommendations|          true|\n",
      "|      10180|     recommendations|          true|\n",
      "|      33230|     recommendations|          true|\n",
      "|        620|     recommendations|          true|\n",
      "|      42680|     recommendations|          true|\n",
      "|      34330|     recommendations|          true|\n",
      "|    1426210|      about_the_game|          true|\n",
      "|    1426210|          background|          true|\n",
      "|    1426210|      background_raw|          true|\n",
      "|    1426210|       capsule_image|          true|\n",
      "|    1426210|     capsule_imagev5|          true|\n",
      "|    1426210|          categories|          true|\n",
      "|    1426210|detailed_description|          true|\n",
      "|    1426210|          developers|          true|\n",
      "|    1426210|              genres|          true|\n",
      "|    1426210|        header_image|          true|\n",
      "|    1426210|        legal_notice|          true|\n",
      "|    1426210|                name|          true|\n",
      "|    1426210|      package_groups|          true|\n",
      "|    1426210|            packages|          true|\n",
      "|    1426210|             ratings|          true|\n",
      "|    1426210|     recommendations|          true|\n",
      "|    1426210|        release_date|          true|\n",
      "|    1426210|         screenshots|          true|\n",
      "|    1426210|   short_description|          true|\n",
      "|    1426210| supported_languages|          true|\n",
      "+-----------+--------------------+--------------+\n",
      "\n"
     ]
    }
   ],
   "source": [
    "result = find_differences_by_id(df, \"steam_appid\")\n",
    "result.show(100)"
   ]
  },
  {
   "cell_type": "code",
   "execution_count": 11,
   "id": "0939bf4a-7934-4e3d-8fb4-c1bb2839bef8",
   "metadata": {},
   "outputs": [],
   "source": [
    "df.createOrReplaceTempView(\"df\")\n"
   ]
  },
  {
   "cell_type": "code",
   "execution_count": 12,
   "id": "e140bb21-f657-442a-9dcb-9f3223e0bb79",
   "metadata": {},
   "outputs": [
    {
     "name": "stdout",
     "output_type": "stream",
     "text": [
      "+---------------+----+\n",
      "|recommendations|rank|\n",
      "+---------------+----+\n",
      "|        {35065}|   1|\n",
      "|        {35062}|   2|\n",
      "+---------------+----+\n",
      "\n"
     ]
    }
   ],
   "source": [
    "spark.sql(\"\"\"\n",
    "SELECT recommendations, ROW_NUMBER() OVER (PARTITION BY steam_appid ORDER BY recommendations DESC) AS rank FROM df WHERE steam_appid = '34330'\n",
    "\"\"\").show()"
   ]
  },
  {
   "cell_type": "code",
   "execution_count": 13,
   "id": "cc167fa4-3650-4461-a6c6-97352be06bda",
   "metadata": {},
   "outputs": [],
   "source": [
    "df = spark.sql(\"\"\"\n",
    "SELECT *\n",
    "FROM\n",
    "(SELECT *, ROW_NUMBER() OVER (PARTITION BY steam_appid ORDER BY recommendations DESC) AS rank FROM df)\n",
    "WHERE rank = 1\n",
    "\"\"\").drop(\"rank\")"
   ]
  },
  {
   "cell_type": "code",
   "execution_count": 14,
   "id": "6916766a-dfc7-4c93-9009-bc82e6db7362",
   "metadata": {},
   "outputs": [
    {
     "name": "stdout",
     "output_type": "stream",
     "text": [
      "+-----------+------+--------------+\n",
      "|steam_appid|column|has_difference|\n",
      "+-----------+------+--------------+\n",
      "+-----------+------+--------------+\n",
      "\n"
     ]
    }
   ],
   "source": [
    "result = find_differences_by_id(df, \"steam_appid\")\n",
    "result.show(5)"
   ]
  },
  {
   "cell_type": "code",
   "execution_count": 15,
   "id": "a35efd8c-1157-4a3d-8b4f-1c734f97b0f4",
   "metadata": {},
   "outputs": [
    {
     "data": {
      "text/plain": [
       "223874"
      ]
     },
     "execution_count": 15,
     "metadata": {},
     "output_type": "execute_result"
    }
   ],
   "source": [
    "df.count()"
   ]
  },
  {
   "cell_type": "code",
   "execution_count": 16,
   "id": "63b952ec-2723-4f66-9155-122afe10cdc3",
   "metadata": {},
   "outputs": [
    {
     "name": "stdout",
     "output_type": "stream",
     "text": [
      "+-----------+--------+\n",
      "|steam_appid|count(1)|\n",
      "+-----------+--------+\n",
      "+-----------+--------+\n",
      "\n"
     ]
    }
   ],
   "source": [
    "df.groupBy(\"steam_appid\").agg(f.count(\"*\")).filter(col('count(1)')>1).show()"
   ]
  },
  {
   "cell_type": "code",
   "execution_count": null,
   "id": "c85a06c8-5816-4cc4-a331-8fc18813977e",
   "metadata": {},
   "outputs": [],
   "source": []
  },
  {
   "cell_type": "code",
   "execution_count": 17,
   "id": "cd91ab29-abb8-4954-b358-d1400b7d73e3",
   "metadata": {},
   "outputs": [],
   "source": [
    "def get_null_counts(df):\n",
    "    null_counts = df.select([\n",
    "        _sum(f.when(col(c).isNull(), 1).otherwise(0)).alias(c)\n",
    "        for c in df.columns\n",
    "    ])\n",
    "    \n",
    "    result = null_counts.selectExpr(\n",
    "        \"stack({0}, {1}) as (column_name, null_count)\".format(\n",
    "            len(df.columns),\n",
    "            \", \".join([f\"'{c}', `{c}`\" for c in df.columns])\n",
    "        )\n",
    "    )\n",
    "    \n",
    "    return result.orderBy(f.desc(\"null_count\"))\n"
   ]
  },
  {
   "cell_type": "code",
   "execution_count": 18,
   "id": "3d494d83-0f9c-44d6-b1c4-285759a19254",
   "metadata": {},
   "outputs": [
    {
     "name": "stdout",
     "output_type": "stream",
     "text": [
      "+--------------------+----------+--------------------+\n",
      "|         column_name|null_count|             percent|\n",
      "+--------------------+----------+--------------------+\n",
      "|     alternate_appid|    223860|  0.9999374648239635|\n",
      "|          drm_notice|    222669|  0.9946175080625709|\n",
      "|ext_user_account_...|    221832|  0.9908787978952447|\n",
      "|          metacritic|    218735|  0.9770451235963087|\n",
      "|             reviews|    210986|  0.9424319036600945|\n",
      "|                 dlc|    207705|  0.9277763384761071|\n",
      "|               demos|    204100|  0.9116735306467031|\n",
      "|     recommendations|    202386|  0.9040174383805176|\n",
      "|  controller_support|    168197|  0.7513020717010461|\n",
      "|        achievements|    166183|  0.7423059399483638|\n",
      "|        legal_notice|    153354|  0.6850013847074694|\n",
      "|            fullgame|    141271|  0.6310290609896638|\n",
      "|             website|    121069|  0.5407908019689647|\n",
      "|              movies|     86407|  0.3859626396991165|\n",
      "|      price_overview|     86339|  0.3856588974155105|\n",
      "|            packages|     84801|  0.3787889616480699|\n",
      "|             ratings|     45843|  0.2047714339315865|\n",
      "|              genres|     28239| 0.12613791686395026|\n",
      "|          publishers|     22349|  0.0998284749457284|\n",
      "| supported_languages|     15941| 0.07120523151415528|\n",
      "|         screenshots|     14911|  0.0666044292771827|\n",
      "|          categories|     12654| 0.05652286554043792|\n",
      "|          developers|      8371|0.037391568471550965|\n",
      "|      about_the_game|         0|                 0.0|\n",
      "|          background|         0|                 0.0|\n",
      "|      background_raw|         0|                 0.0|\n",
      "|       capsule_image|         0|                 0.0|\n",
      "|     capsule_imagev5|         0|                 0.0|\n",
      "| content_descriptors|         0|                 0.0|\n",
      "|detailed_description|         0|                 0.0|\n",
      "|        header_image|         0|                 0.0|\n",
      "|             is_free|         0|                 0.0|\n",
      "|  linux_requirements|         0|                 0.0|\n",
      "|    mac_requirements|         0|                 0.0|\n",
      "|                name|         0|                 0.0|\n",
      "|      package_groups|         0|                 0.0|\n",
      "|     pc_requirements|         0|                 0.0|\n",
      "|           platforms|         0|                 0.0|\n",
      "|        release_date|         0|                 0.0|\n",
      "|        required_age|         0|                 0.0|\n",
      "|   short_description|         0|                 0.0|\n",
      "|         steam_appid|         0|                 0.0|\n",
      "|        support_info|         0|                 0.0|\n",
      "|                type|         0|                 0.0|\n",
      "+--------------------+----------+--------------------+\n",
      "\n"
     ]
    }
   ],
   "source": [
    "null_summary = get_null_counts(df)\n",
    "null_summary = null_summary.withColumn(\"percent\", col(\"null_count\")/df.count())\n",
    "null_summary.show(100)"
   ]
  },
  {
   "cell_type": "code",
   "execution_count": 19,
   "id": "902f79d6-b9c6-4235-8eb9-7a9343ce795c",
   "metadata": {},
   "outputs": [],
   "source": [
    "null_columns = null_summary.filter('percent >=0.8').select('column_name').rdd.flatMap(lambda row:row).collect()"
   ]
  },
  {
   "cell_type": "code",
   "execution_count": 20,
   "id": "b8aa939b-4143-4785-9ccb-53ce58f58cd3",
   "metadata": {},
   "outputs": [],
   "source": [
    "df = df.drop(*null_columns)"
   ]
  },
  {
   "cell_type": "code",
   "execution_count": 21,
   "id": "00d40fed-c1c2-4fe0-908a-23683ee27e39",
   "metadata": {},
   "outputs": [
    {
     "name": "stdout",
     "output_type": "stream",
     "text": [
      "root\n",
      " |-- about_the_game: string (nullable = true)\n",
      " |-- achievements: struct (nullable = true)\n",
      " |    |-- highlighted: array (nullable = true)\n",
      " |    |    |-- element: struct (containsNull = true)\n",
      " |    |    |    |-- name: string (nullable = true)\n",
      " |    |    |    |-- path: string (nullable = true)\n",
      " |    |-- total: long (nullable = true)\n",
      " |-- background: string (nullable = true)\n",
      " |-- background_raw: string (nullable = true)\n",
      " |-- capsule_image: string (nullable = true)\n",
      " |-- capsule_imagev5: string (nullable = true)\n",
      " |-- categories: array (nullable = true)\n",
      " |    |-- element: struct (containsNull = true)\n",
      " |    |    |-- description: string (nullable = true)\n",
      " |    |    |-- id: long (nullable = true)\n",
      " |-- content_descriptors: struct (nullable = true)\n",
      " |    |-- ids: array (nullable = true)\n",
      " |    |    |-- element: long (containsNull = true)\n",
      " |    |-- notes: string (nullable = true)\n",
      " |-- controller_support: string (nullable = true)\n",
      " |-- detailed_description: string (nullable = true)\n",
      " |-- developers: array (nullable = true)\n",
      " |    |-- element: string (containsNull = true)\n",
      " |-- fullgame: struct (nullable = true)\n",
      " |    |-- appid: string (nullable = true)\n",
      " |    |-- name: string (nullable = true)\n",
      " |-- genres: array (nullable = true)\n",
      " |    |-- element: struct (containsNull = true)\n",
      " |    |    |-- description: string (nullable = true)\n",
      " |    |    |-- id: string (nullable = true)\n",
      " |-- header_image: string (nullable = true)\n",
      " |-- is_free: boolean (nullable = true)\n",
      " |-- legal_notice: string (nullable = true)\n",
      " |-- linux_requirements: string (nullable = true)\n",
      " |-- mac_requirements: string (nullable = true)\n",
      " |-- movies: array (nullable = true)\n",
      " |    |-- element: struct (containsNull = true)\n",
      " |    |    |-- highlight: boolean (nullable = true)\n",
      " |    |    |-- id: long (nullable = true)\n",
      " |    |    |-- mp4: struct (nullable = true)\n",
      " |    |    |    |-- 480: string (nullable = true)\n",
      " |    |    |    |-- max: string (nullable = true)\n",
      " |    |    |-- name: string (nullable = true)\n",
      " |    |    |-- thumbnail: string (nullable = true)\n",
      " |    |    |-- webm: struct (nullable = true)\n",
      " |    |    |    |-- 480: string (nullable = true)\n",
      " |    |    |    |-- max: string (nullable = true)\n",
      " |-- name: string (nullable = true)\n",
      " |-- package_groups: array (nullable = true)\n",
      " |    |-- element: struct (containsNull = true)\n",
      " |    |    |-- description: string (nullable = true)\n",
      " |    |    |-- display_type: string (nullable = true)\n",
      " |    |    |-- is_recurring_subscription: string (nullable = true)\n",
      " |    |    |-- name: string (nullable = true)\n",
      " |    |    |-- save_text: string (nullable = true)\n",
      " |    |    |-- selection_text: string (nullable = true)\n",
      " |    |    |-- subs: array (nullable = true)\n",
      " |    |    |    |-- element: struct (containsNull = true)\n",
      " |    |    |    |    |-- can_get_free_license: string (nullable = true)\n",
      " |    |    |    |    |-- is_free_license: boolean (nullable = true)\n",
      " |    |    |    |    |-- option_description: string (nullable = true)\n",
      " |    |    |    |    |-- option_text: string (nullable = true)\n",
      " |    |    |    |    |-- packageid: long (nullable = true)\n",
      " |    |    |    |    |-- percent_savings: long (nullable = true)\n",
      " |    |    |    |    |-- percent_savings_text: string (nullable = true)\n",
      " |    |    |    |    |-- price_in_cents_with_discount: long (nullable = true)\n",
      " |    |    |-- title: string (nullable = true)\n",
      " |-- packages: array (nullable = true)\n",
      " |    |-- element: long (containsNull = true)\n",
      " |-- pc_requirements: string (nullable = true)\n",
      " |-- platforms: struct (nullable = true)\n",
      " |    |-- linux: boolean (nullable = true)\n",
      " |    |-- mac: boolean (nullable = true)\n",
      " |    |-- windows: boolean (nullable = true)\n",
      " |-- price_overview: struct (nullable = true)\n",
      " |    |-- currency: string (nullable = true)\n",
      " |    |-- discount_percent: long (nullable = true)\n",
      " |    |-- final: long (nullable = true)\n",
      " |    |-- final_formatted: string (nullable = true)\n",
      " |    |-- initial: long (nullable = true)\n",
      " |    |-- initial_formatted: string (nullable = true)\n",
      " |    |-- recurring_sub: long (nullable = true)\n",
      " |    |-- recurring_sub_desc: string (nullable = true)\n",
      " |-- publishers: array (nullable = true)\n",
      " |    |-- element: string (containsNull = true)\n",
      " |-- ratings: string (nullable = true)\n",
      " |-- release_date: struct (nullable = true)\n",
      " |    |-- coming_soon: boolean (nullable = true)\n",
      " |    |-- date: string (nullable = true)\n",
      " |-- required_age: string (nullable = true)\n",
      " |-- screenshots: array (nullable = true)\n",
      " |    |-- element: struct (containsNull = true)\n",
      " |    |    |-- id: long (nullable = true)\n",
      " |    |    |-- path_full: string (nullable = true)\n",
      " |    |    |-- path_thumbnail: string (nullable = true)\n",
      " |-- short_description: string (nullable = true)\n",
      " |-- steam_appid: long (nullable = true)\n",
      " |-- support_info: struct (nullable = true)\n",
      " |    |-- email: string (nullable = true)\n",
      " |    |-- url: string (nullable = true)\n",
      " |-- supported_languages: string (nullable = true)\n",
      " |-- type: string (nullable = true)\n",
      " |-- website: string (nullable = true)\n",
      "\n"
     ]
    }
   ],
   "source": [
    "df.printSchema()"
   ]
  },
  {
   "cell_type": "code",
   "execution_count": 22,
   "id": "dd0a1be1-4164-4cbf-8f5f-cd7fcae2e4d7",
   "metadata": {},
   "outputs": [
    {
     "name": "stdout",
     "output_type": "stream",
     "text": [
      "+--------------------+\n",
      "|                name|\n",
      "+--------------------+\n",
      "|                NULL|\n",
      "|                NULL|\n",
      "|                NULL|\n",
      "|                NULL|\n",
      "|                NULL|\n",
      "|                NULL|\n",
      "|                NULL|\n",
      "|                NULL|\n",
      "|                NULL|\n",
      "|                NULL|\n",
      "|                NULL|\n",
      "|                NULL|\n",
      "|[Defiant, Submiss...|\n",
      "|[Someone Set Up U...|\n",
      "|                NULL|\n",
      "|[Double Cross, Ma...|\n",
      "|                NULL|\n",
      "|                NULL|\n",
      "|                NULL|\n",
      "|[Watch Your Head!...|\n",
      "+--------------------+\n",
      "only showing top 20 rows\n",
      "\n"
     ]
    }
   ],
   "source": [
    "df.select('achievements.highlighted.name').show()"
   ]
  },
  {
   "cell_type": "code",
   "execution_count": 23,
   "id": "882f6433-0091-46b9-9f31-01cb0fb0770d",
   "metadata": {},
   "outputs": [],
   "source": [
    "df_cleaned = df.withColumn('num_achievements', f.array_size('achievements.highlighted.name'))"
   ]
  },
  {
   "cell_type": "code",
   "execution_count": 24,
   "id": "3ab071e6-6e19-4dfe-b4a7-6f8e51d81355",
   "metadata": {},
   "outputs": [],
   "source": [
    "df.createOrReplaceTempView(\"df\")"
   ]
  },
  {
   "cell_type": "code",
   "execution_count": 25,
   "id": "17e7db7a-8f64-4823-80f6-41a3a53be322",
   "metadata": {},
   "outputs": [
    {
     "name": "stdout",
     "output_type": "stream",
     "text": [
      "+--------------------+--------+\n",
      "|            category|count(1)|\n",
      "+--------------------+--------+\n",
      "|       Single-player|  188762|\n",
      "|      Family Sharing|  148055|\n",
      "|  Steam Achievements|   90144|\n",
      "|Full controller s...|   55681|\n",
      "|         Steam Cloud|   53253|\n",
      "|Downloadable Content|   51532|\n",
      "|        Multi-player|   49361|\n",
      "|Partial Controlle...|   31107|\n",
      "|               Co-op|   30129|\n",
      "|                 PvP|   25744|\n",
      "| Steam Trading Cards|   24268|\n",
      "|          Online PvP|   21999|\n",
      "|           Game demo|   21947|\n",
      "|        Online Co-op|   19714|\n",
      "|  Steam Leaderboards|   19026|\n",
      "| Shared/Split Screen|   16949|\n",
      "|Remote Play Together|   12159|\n",
      "|Cross-Platform Mu...|   11334|\n",
      "|Shared/Split Scre...|   10056|\n",
      "|Shared/Split Scre...|    9693|\n",
      "+--------------------+--------+\n",
      "only showing top 20 rows\n",
      "\n"
     ]
    }
   ],
   "source": [
    "spark.sql(\"\"\"\n",
    "select category, count(*) from\n",
    "    (select explode(categories.description) as category from df)\n",
    "    group by category\n",
    "    order by count(*) desc\n",
    "\"\"\").show()"
   ]
  },
  {
   "cell_type": "code",
   "execution_count": 26,
   "id": "0b6947e7-a06b-4b0c-813f-ef0f2658a0ec",
   "metadata": {},
   "outputs": [
    {
     "name": "stdout",
     "output_type": "stream",
     "text": [
      "+------------------------------------------------------------------------------------------------------------------------------------+-------------+\n",
      "|categories                                                                                                                          |genres       |\n",
      "+------------------------------------------------------------------------------------------------------------------------------------+-------------+\n",
      "|[{Multi-player, 1}, {PvP, 49}, {Online PvP, 36}, {Shared/Split Screen PvP, 37}, {Valve Anti-Cheat enabled, 8}, {Family Sharing, 62}]|[{Action, 1}]|\n",
      "+------------------------------------------------------------------------------------------------------------------------------------+-------------+\n",
      "\n"
     ]
    }
   ],
   "source": [
    "spark.sql(\"\"\"\n",
    "select categories, genres from df\n",
    "limit 1\n",
    "\"\"\").show(truncate=False)"
   ]
  },
  {
   "cell_type": "code",
   "execution_count": 27,
   "id": "8efc8f3f-1792-47e5-b672-d4e9f287eb33",
   "metadata": {},
   "outputs": [
    {
     "name": "stdout",
     "output_type": "stream",
     "text": [
      "+--------------------+--------+\n",
      "|               genre|count(1)|\n",
      "+--------------------+--------+\n",
      "|               Indie|  126028|\n",
      "|              Action|   79642|\n",
      "|              Casual|   72861|\n",
      "|           Adventure|   71296|\n",
      "|          Simulation|   44852|\n",
      "|                 RPG|   43039|\n",
      "|            Strategy|   41416|\n",
      "|        Free To Play|   20107|\n",
      "|        Early Access|   13952|\n",
      "|              Sports|    8188|\n",
      "|              Racing|    7171|\n",
      "|Massively Multipl...|    5716|\n",
      "|Design & Illustra...|    3533|\n",
      "|      Web Publishing|    2846|\n",
      "|           Utilities|    1972|\n",
      "|           Education|    1660|\n",
      "|    Game Development|    1583|\n",
      "|Animation & Modeling|    1107|\n",
      "|             Violent|     852|\n",
      "|    Video Production|     730|\n",
      "+--------------------+--------+\n",
      "only showing top 20 rows\n",
      "\n"
     ]
    }
   ],
   "source": [
    "spark.sql(\"\"\"\n",
    "select genre, count(*) from\n",
    "    (select explode(genres.description) as genre from df)\n",
    "    group by 1\n",
    "    order by count(*) desc\n",
    "\"\"\").show()"
   ]
  },
  {
   "cell_type": "code",
   "execution_count": 28,
   "id": "b86a13bb-79d4-4a1f-a2f6-b8113af21ba3",
   "metadata": {},
   "outputs": [
    {
     "name": "stdout",
     "output_type": "stream",
     "text": [
      "+---------------------------------------------------------------------------------------------------------------------------------------------------------------------------------------------------------------------------------------------------------+\n",
      "|notes                                                                                                                                                                                                                                                    |\n",
      "+---------------------------------------------------------------------------------------------------------------------------------------------------------------------------------------------------------------------------------------------------------+\n",
      "|Violence\\r\\nLanguage\\r\\nGambling                                                                                                                                                                                                                         |\n",
      "|A brutal and savage world, filled with sensuality, made of flesh and blood. A tribute to the barbaric genre with an erotic touch reminiscent of the 1980s.                                                                                               |\n",
      "|Abiotic Factor contains violence and general mature content.                                                                                                                                                                                             |\n",
      "|This Game may contain content not appropriate for all ages, or may not be appropriate for viewing at work: Veiled Nudity, Upskirts and Revealing Outfits.                                                                                                |\n",
      "|All character are above the age of 18.\\r\\nInfrequent use of strong language, mild violence, blood, mild horror, suggestive themes.                                                                                                                       |\n",
      "|This game contains mild gun violence and blood                                                                                                                                                                                                           |\n",
      "|Cartoon violence, death, explosions                                                                                                                                                                                                                      |\n",
      "|Includes depictions of drinking and physical violence.                                                                                                                                                                                                   |\n",
      "|This game may contain content that is not suitable for all ages or for viewing at work: Scenes of violence or cruelty, Adult Content                                                                                                                     |\n",
      "|Tina: Swordswoman of the Scarlet Prison contains some strong language and partial nudity.                                                                                                                                                                |\n",
      "|Mature usage of words, photos of fake gore, and mature visuals.                                                                                                                                                                                          |\n",
      "|Mature content warning, required by Steam: This game contains mature content. Some of the events in the game are located in the strip club, which contains animated droid stripper and story implies the use of alcohol. You've been warned :D           |\n",
      "|Contains mature content including described sexual themes, portrayal of abusive relationships, and body horror.                                                                                                                                          |\n",
      "|This Game contains content that is not appropriate young players and may not be appropriate for viewing at work. It contains Nudity, Sexual Acts, Attempts of Non-consensual Sexual Acts, Mature Language, Unrealistic/Cartoon Violence and Alcohol use. |\n",
      "|Graphic violence                                                                                                                                                                                                                                         |\n",
      "|Contains descriptions of violent acts, drug use and sexually suggestive sound effects .                                                                                                                                                                  |\n",
      "|Some coarse language.                                                                                                                                                                                                                                    |\n",
      "|King of Halloween has supernatural themes. It has sexual references, graphic depiction of sexual acts and coarse language.                                                                                                                               |\n",
      "|Frequent references to drugs and drug usage, bad language.                                                                                                                                                                                               |\n",
      "|This game has dildos. A safe for work filter can be turned on, however.                                                                                                                                                                                  |\n",
      "+---------------------------------------------------------------------------------------------------------------------------------------------------------------------------------------------------------------------------------------------------------+\n",
      "only showing top 20 rows\n",
      "\n"
     ]
    }
   ],
   "source": [
    "df.select(\"content_descriptors.notes\").distinct().show(truncate=False)"
   ]
  },
  {
   "cell_type": "code",
   "execution_count": 29,
   "id": "ab3d79a1-a66b-4361-8728-b8d952305b53",
   "metadata": {},
   "outputs": [
    {
     "name": "stdout",
     "output_type": "stream",
     "text": [
      "+------------------+\n",
      "|controller_support|\n",
      "+------------------+\n",
      "|              full|\n",
      "|              NULL|\n",
      "+------------------+\n",
      "\n"
     ]
    }
   ],
   "source": [
    "df.select('controller_support').distinct().show()"
   ]
  },
  {
   "cell_type": "code",
   "execution_count": 30,
   "id": "b17b34a4-4bd3-4e19-b45f-84ae5dd8ddbe",
   "metadata": {},
   "outputs": [],
   "source": [
    "df_cleaned = df_cleaned.withColumn('has_controller_support', when(col('controller_support') == 'full', True).otherwise(False)).drop('controller_support')"
   ]
  },
  {
   "cell_type": "code",
   "execution_count": 31,
   "id": "4077f151-cb30-42b0-abe4-87834a62ce17",
   "metadata": {},
   "outputs": [
    {
     "name": "stdout",
     "output_type": "stream",
     "text": [
      "+-------------------------------+-----------------------------------+\n",
      "|name                           |name                               |\n",
      "+-------------------------------+-----------------------------------+\n",
      "|Half-Life 2                    |Half-Life 2: Demo                  |\n",
      "|Portal                         |Portal: First Slice                |\n",
      "|Rag Doll Kung Fu               |Rag Doll Kung Fu Demo              |\n",
      "|Darwinia                       |Darwinia Demo                      |\n",
      "|DEFCON                         |DEFCON Demo                        |\n",
      "|Multiwinia                     |Multiwinia Demo                    |\n",
      "|Arx Fatalis                    |Arx Fatalis Demo                   |\n",
      "|Shadowgrounds                  |Shadowgrounds Demo                 |\n",
      "|ThreadSpace: Hyperbol          |ThreadSpace: Hyperbol Demo         |\n",
      "|King's Bounty: Armored Princess|King's Bounty Armored Princess Demo|\n",
      "|Uninitialized                  |Painkiller Demo                    |\n",
      "|Painkiller Overdose            |Painkiller Overdose Demo           |\n",
      "|Bejeweled 2 Deluxe             |Bejeweled 2 Deluxe Free Demo       |\n",
      "|Chuzzle Deluxe                 |Chuzzle Deluxe Free Demo           |\n",
      "|Insaniquarium Deluxe           |Insaniquarium Deluxe Free Demo     |\n",
      "|Zuma Deluxe                    |Zuma Deluxe Free Demo              |\n",
      "|AstroPop Deluxe                |AstroPop Deluxe Free Demo          |\n",
      "|Bejeweled Deluxe               |Bejeweled Deluxe Free Demo         |\n",
      "|Big Money! Deluxe              |Big Money! Deluxe Free Demo        |\n",
      "|Dynomite Deluxe                |Dynomite Deluxe Free Demo          |\n",
      "+-------------------------------+-----------------------------------+\n",
      "only showing top 20 rows\n",
      "\n"
     ]
    }
   ],
   "source": [
    "spark.sql(\"\"\"\n",
    "select fullgame.name, name from df where fullgame.name != name\n",
    "\"\"\").show(truncate=False)"
   ]
  },
  {
   "cell_type": "code",
   "execution_count": 32,
   "id": "0404dd96-51a8-45ea-902b-a3c6e0957249",
   "metadata": {},
   "outputs": [],
   "source": [
    "df_cleaned = df_cleaned.withColumn('num_packages', f.array_size('packages'))"
   ]
  },
  {
   "cell_type": "code",
   "execution_count": 36,
   "id": "6c242927-a2f0-414c-a258-46ef2f03e3d8",
   "metadata": {},
   "outputs": [],
   "source": [
    " df_cleaned = df_cleaned.withColumns({'is_mac_supported':df_cleaned.platforms.mac, 'is_linux_supported':df_cleaned.platforms.linux,'is_windows_supported':df_cleaned.platforms.windows})"
   ]
  },
  {
   "cell_type": "code",
   "execution_count": 37,
   "id": "271af0b7-cbf9-45c9-89a1-92e33e05f1a3",
   "metadata": {},
   "outputs": [
    {
     "name": "stdout",
     "output_type": "stream",
     "text": [
      "+--------+\n",
      "|currency|\n",
      "+--------+\n",
      "|     PHP|\n",
      "|    NULL|\n",
      "+--------+\n",
      "\n"
     ]
    }
   ],
   "source": [
    "df_cleaned.select('price_overview.currency').distinct().show()"
   ]
  },
  {
   "cell_type": "code",
   "execution_count": 38,
   "id": "4a8aa0e7-20a9-4588-bc24-5d5ea5bd734e",
   "metadata": {},
   "outputs": [
    {
     "name": "stdout",
     "output_type": "stream",
     "text": [
      "+----------------+\n",
      "|discount_percent|\n",
      "+----------------+\n",
      "|              26|\n",
      "|              29|\n",
      "|              65|\n",
      "|              19|\n",
      "|              54|\n",
      "|               0|\n",
      "|              22|\n",
      "|              77|\n",
      "|              34|\n",
      "|              50|\n",
      "|              94|\n",
      "|              57|\n",
      "|              43|\n",
      "|              32|\n",
      "|              84|\n",
      "|              31|\n",
      "|              39|\n",
      "|              25|\n",
      "|              95|\n",
      "|              71|\n",
      "+----------------+\n",
      "only showing top 20 rows\n",
      "\n"
     ]
    }
   ],
   "source": [
    "df_cleaned.select('price_overview.discount_percent').distinct().show()"
   ]
  },
  {
   "cell_type": "code",
   "execution_count": 39,
   "id": "14cec18e-3cb6-4833-a752-6a357e973091",
   "metadata": {},
   "outputs": [
    {
     "name": "stdout",
     "output_type": "stream",
     "text": [
      "+-------------+\n",
      "|recurring_sub|\n",
      "+-------------+\n",
      "|       705729|\n",
      "|       774628|\n",
      "|       214296|\n",
      "|       979485|\n",
      "|       652938|\n",
      "|       212320|\n",
      "|       350099|\n",
      "|       543658|\n",
      "|       264676|\n",
      "|       397465|\n",
      "|       241413|\n",
      "|       157579|\n",
      "|       241397|\n",
      "|       425251|\n",
      "|       700793|\n",
      "|      1062615|\n",
      "|       496383|\n",
      "|       282166|\n",
      "|       282709|\n",
      "|       244138|\n",
      "+-------------+\n",
      "only showing top 20 rows\n",
      "\n"
     ]
    }
   ],
   "source": [
    "df_cleaned.select('price_overview.recurring_sub').distinct().show()"
   ]
  },
  {
   "cell_type": "code",
   "execution_count": 40,
   "id": "d91e3e3f-8fab-4f46-b92a-0c5661cf8185",
   "metadata": {},
   "outputs": [
    {
     "name": "stdout",
     "output_type": "stream",
     "text": [
      "+-----------------------------------------------------------------------------------------------------+\n",
      "|recurring_sub_desc                                                                                   |\n",
      "+-----------------------------------------------------------------------------------------------------+\n",
      "|P142.00 at checkout, auto-renewed every 1 month(s) at P142.00.                                       |\n",
      "|P35.95 at checkout, auto-renewed every 1 month(s) at P109.95.                                        |\n",
      "|P319.95 at checkout, auto-renewed every 1 month(s) at P239.96.                                       |\n",
      "|P319.95 at checkout, auto-renewed every 1 month(s) at P319.95.                                       |\n",
      "|P34.95 at checkout, auto-renewed every 1 month(s) at P34.95.                                         |\n",
      "|P1,115.00 at checkout, auto-renewed every 1 month(s) at P1,115.00 as determined by your game account.|\n",
      "|P149.00 at checkout, auto-renewed every 1 month(s) at P149.00.                                       |\n",
      "|P291.00 at checkout, auto-renewed every 1 month(s) at P291.00.                                       |\n",
      "|P449.95 at checkout, auto-renewed every 1 month(s) at P289.95.                                       |\n",
      "|P499.95 at checkout, auto-renewed every 1 month(s) at P289.95.                                       |\n",
      "|P649.95 at checkout, auto-renewed every 1 month(s) at P289.95.                                       |\n",
      "|P189.95 at checkout, auto-renewed every 1 month(s) at P189.95.                                       |\n",
      "|P369.95 at checkout, auto-renewed every 1 month(s) at P219.95.                                       |\n",
      "|P69.95 at checkout, auto-renewed every 1 month(s) at P69.95.                                         |\n",
      "|P159.95 at checkout, auto-renewed every 1 month(s) at P159.95.                                       |\n",
      "|P649.95 at checkout, auto-renewed every 1 month(s) at P159.95.                                       |\n",
      "|P165.95 at checkout, auto-renewed every 1 month(s) at P159.95.                                       |\n",
      "|P190.00 at checkout, auto-renewed every 1 month(s) at P499.95.                                       |\n",
      "|P69.95 at checkout, auto-renewed every 1 month(s) at P35.95.                                         |\n",
      "|P419.95 at checkout, auto-renewed every 1 month(s) at P314.96.                                       |\n",
      "+-----------------------------------------------------------------------------------------------------+\n",
      "only showing top 20 rows\n",
      "\n"
     ]
    }
   ],
   "source": [
    "df_cleaned.select('price_overview.recurring_sub_desc').distinct().show(truncate=False)"
   ]
  },
  {
   "cell_type": "code",
   "execution_count": 41,
   "id": "d7467f1a-452e-4131-bb95-ce2c7bc7d517",
   "metadata": {},
   "outputs": [
    {
     "name": "stdout",
     "output_type": "stream",
     "text": [
      "+--------------------+--------+\n",
      "|           publisher|count(1)|\n",
      "+--------------------+--------+\n",
      "|         TigerQiuQiu|    2305|\n",
      "|              KOMODO|    2287|\n",
      "|KOEI TECMO GAMES ...|    1451|\n",
      "|           N3V Games|     864|\n",
      "|    CAPCOM Co., Ltd.|     812|\n",
      "|                SEGA|     663|\n",
      "|Dovetail Games - ...|     646|\n",
      "| Paradox Interactive|     592|\n",
      "| Gotcha Gotcha Games|     589|\n",
      "|      Big Fish Games|     520|\n",
      "|BANDAI NAMCO Ente...|     513|\n",
      "|        PlayWay S.A.|     511|\n",
      "|         Square Enix|     502|\n",
      "|         XSEED Games|     458|\n",
      "| Marvelous USA, Inc.|     441|\n",
      "|          THQ Nordic|     441|\n",
      "|             Ubisoft|     399|\n",
      "|     Electronic Arts|     387|\n",
      "|     Choice of Games|     386|\n",
      "|   NIS America, Inc.|     368|\n",
      "+--------------------+--------+\n",
      "only showing top 20 rows\n",
      "\n"
     ]
    }
   ],
   "source": [
    "spark.sql(\"\"\"\n",
    "select publisher, count(*) from\n",
    "    (select explode(publishers) as publisher from df)\n",
    "    group by publisher\n",
    "    order by count(*) desc\n",
    "\"\"\").show()"
   ]
  },
  {
   "cell_type": "code",
   "execution_count": 42,
   "id": "97e3b3d7-5d64-4c99-b2f1-dcb16cb1af02",
   "metadata": {
    "scrolled": true
   },
   "outputs": [
    {
     "name": "stdout",
     "output_type": "stream",
     "text": [
      "+----------------------------------------------------------------------------------------------------------------------------------------------------------------------------------------------------------------------------------------------------------------------------------------------------------------------------------------------------------------------------------------------------------------------------------------------------------------------------------------------------------------------------------------------------------------------------------------------------------------------------------------------------------------------------+\n",
      "|ratings                                                                                                                                                                                                                                                                                                                                                                                                                                                                                                                                                                                                                                                                     |\n",
      "+----------------------------------------------------------------------------------------------------------------------------------------------------------------------------------------------------------------------------------------------------------------------------------------------------------------------------------------------------------------------------------------------------------------------------------------------------------------------------------------------------------------------------------------------------------------------------------------------------------------------------------------------------------------------------+\n",
      "|{\"esrb\":{\"rating\":\"e\",\"descriptors\":\"Alcohol Reference\\r\\n\\r\\nTobacco Reference\\r\\n\\r\\nMild Violence\"},\"pegi\":{\"rating\":\"12\"},\"oflc\":{\"descriptors\":\"%oflcDescriptors%\"},\"nzoflc\":{\"descriptors\":\"%NZoflcDescriptors%\"},\"usk\":{\"rating\":\"6\"},\"dejus\":{\"rating_generated\":\"1\",\"rating\":\"10\",\"required_age\":\"10\",\"banned\":\"0\",\"use_age_gate\":\"0\",\"descriptors\":\"Violência\"},\"steam_germany\":{\"rating_generated\":\"1\",\"rating\":\"12\",\"required_age\":\"12\",\"banned\":\"0\",\"use_age_gate\":\"0\",\"descriptors\":\"Gewalt\"}}                                                                                                                                                                |\n",
      "|{\"esrb\":{\"rating\":\"e\",\"descriptors\":\"Alcohol Reference\\r\\n\\r\\nTobacco Reference\\r\\n\\r\\nMild Violence\"},\"pegi\":{\"rating\":\"12\"},\"oflc\":{\"descriptors\":\"%oflcDescriptors%\"},\"nzoflc\":{\"descriptors\":\"%NZoflcDescriptors%\"},\"usk\":{\"rating\":\"6\"}}                                                                                                                                                                                                                                                                                                                                                                                                                               |\n",
      "|{\"esrb\":{\"rating\":\"t\",\"descriptors\":\"Alcohol Reference\\r\\n\\r\\nLanguage\\r\\n\\r\\nMild Violence\"}}                                                                                                                                                                                                                                                                                                                                                                                                                                                                                                                                                                              |\n",
      "|{\"esrb\":{\"rating\":\"e\",\"descriptors\":\"Mild Violence\"},\"dejus\":{\"rating_generated\":\"1\",\"rating\":\"10\",\"required_age\":\"10\",\"banned\":\"0\",\"use_age_gate\":\"0\",\"descriptors\":\"Atos criminosos\\nViolência\"},\"steam_germany\":{\"rating_generated\":\"1\",\"rating\":\"12\",\"required_age\":\"12\",\"banned\":\"0\",\"use_age_gate\":\"0\",\"descriptors\":\"Gewalt\"}}                                                                                                                                                                                                                                                                                                                                       |\n",
      "|{\"esrb\":{\"rating\":\"e\",\"descriptors\":\"Crude Humor\\r\\n\\r\\nUse of Alcohol\"},\"dejus\":{\"rating_generated\":\"1\",\"rating\":\"l\",\"required_age\":\"0\",\"banned\":\"0\",\"use_age_gate\":\"0\",\"descriptors\":\"\"},\"steam_germany\":{\"rating_generated\":\"1\",\"rating\":\"0\",\"required_age\":\"0\",\"banned\":\"0\",\"use_age_gate\":\"0\",\"descriptors\":\"\"}}                                                                                                                                                                                                                                                                                                                                                       |\n",
      "|{\"esrb\":{\"rating\":\"e\",\"descriptors\":\"Comic Mischief<br>\"},\"pegi\":{\"rating\":\"3\"},\"oflc\":{\"rating\":\"g\"},\"nzoflc\":{\"rating\":\"g\"}}                                                                                                                                                                                                                                                                                                                                                                                                                                                                                                                                              |\n",
      "|{\"esrb\":{\"rating\":\"t\",\"descriptors\":\"Blood\\r\\nMild Language\\r\\nMild Suggestive Themes\\r\\nUse of Alcohol\\r\\nViolence\",\"display_online_notice\":\"true\"},\"pegi\":{\"rating\":\"15\"},\"usk\":{\"rating\":\"12\"},\"oflc\":{\"rating\":\"m\"},\"dejus\":{\"rating_generated\":\"1\",\"rating\":\"14\",\"required_age\":\"14\",\"banned\":\"0\",\"use_age_gate\":\"0\",\"descriptors\":\"Violência\\nDrogas lícitas\"},\"steam_germany\":{\"rating_generated\":\"1\",\"rating\":\"16\",\"required_age\":\"16\",\"banned\":\"0\",\"use_age_gate\":\"0\",\"descriptors\":\"Gewalt\"}}                                                                                                                                                                     |\n",
      "|{\"oflc\":{\"descriptors\":\"%oflcDescriptors%\"},\"nzoflc\":{\"descriptors\":\"%NZoflcDescriptors%\"},\"esrb\":{\"rating\":\"e\"},\"pegi\":{\"rating\":\"3\"},\"usk\":{\"rating\":\"0\"}}                                                                                                                                                                                                                                                                                                                                                                                                                                                                                                                |\n",
      "|{\"esrb\":{\"rating\":\"t\",\"descriptors\":\"Blood\\n\\r\\nViolence\\n\"},\"pegi\":{\"rating\":\"7\",\"descriptors\":\"Violence\"},\"usk\":{\"rating\":\"12\"},\"oflc\":{\"rating\":\"ma15\"},\"nzoflc\":{\"rating\":\"ma15\"}}                                                                                                                                                                                                                                                                                                                                                                                                                                                                                      |\n",
      "|{\"esrb\":{\"rating\":\"t\",\"descriptors\":\"Alcohol and Tobacco Reference\\r\\nCrude Humor\\r\\nLanguage\\r\\nMild Blood\\r\\nMild Animated Blood\\r\\nFantasy Violence\",\"display_online_notice\":\"true\"},\"pegi\":{\"rating\":\"7\",\"descriptors\":\"Violence\"},\"dejus\":{\"rating_generated\":\"1\",\"rating\":\"10\",\"required_age\":\"10\",\"banned\":\"0\",\"use_age_gate\":\"0\",\"descriptors\":\"Violência\"},\"steam_germany\":{\"rating_generated\":\"1\",\"rating\":\"12\",\"required_age\":\"12\",\"banned\":\"0\",\"use_age_gate\":\"0\",\"descriptors\":\"Gewalt\"}}                                                                                                                                                                      |\n",
      "|{\"esrb\":{\"rating\":\"t\",\"descriptors\":\"Animated violence, mature sexual themes\",\"use_age_gate\":\"true\",\"required_age\":\"13\"},\"usk\":{\"rating\":\"12\",\"use_age_gate\":\"true\",\"required_age\":\"12\"},\"oflc\":{\"rating\":\"ma15\",\"use_age_gate\":\"true\",\"required_age\":\"15\"},\"pegi\":{\"use_age_gate\":\"true\",\"required_age\":\"12\"}}                                                                                                                                                                                                                                                                                                                                                             |\n",
      "|{\"usk\":{\"rating\":\"16\"},\"pegi\":{\"rating\":\"16\",\"descriptors\":\"Violence\"}}                                                                                                                                                                                                                                                                                                                                                                                                                                                                                                                                                                                                     |\n",
      "|{\"dejus\":{\"rating_generated\":\"1\",\"rating\":\"12\",\"required_age\":\"12\",\"banned\":\"0\",\"use_age_gate\":\"0\",\"descriptors\":\"Drogas lícitas\\nConteúdo sexual\\nLinguagem imprópria\"},\"steam_germany\":{\"rating_generated\":\"1\",\"rating\":\"12\",\"required_age\":\"12\",\"banned\":\"0\",\"use_age_gate\":\"0\",\"descriptors\":\"Alkohol / Tabak\\nSexuelle Andeutungen\\nGewalt\"}}                                                                                                                                                                                                                                                                                                                          |\n",
      "|{\"esrb\":{\"required_age\":\"18\"},\"pegi\":{\"required_age\":\"18\"},\"crl\":{\"rating\":\"18\",\"use_age_gate\":\"true\",\"required_age\":\"18\"},\"dejus\":{\"rating_generated\":\"1\",\"rating\":\"14\",\"required_age\":\"14\",\"banned\":\"0\",\"use_age_gate\":\"0\",\"descriptors\":\"Violência\\nAtos criminosos\"},\"steam_germany\":{\"rating_generated\":\"1\",\"rating\":\"16\",\"required_age\":\"16\",\"banned\":\"0\",\"use_age_gate\":\"0\",\"descriptors\":\"Drastische Gewalt\\nAlkohol / Tabak\"}}                                                                                                                                                                                                                                     |\n",
      "|{\"esrb\":{\"required_age\":\"17\",\"rating\":\"m\",\"descriptors\":\"Violence\\r\\nBlood\\r\\nStrong Language\\r\\nPartial Nudity\\r\\nStrong Sexual Content\",\"use_age_gate\":\"true\"},\"pegi\":{\"required_age\":\"17\"},\"bbfc\":{\"required_age\":\"17\"},\"usk\":{\"required_age\":\"17\"},\"oflc\":{\"required_age\":\"17\"},\"nzoflc\":{\"required_age\":\"17\"},\"cero\":{\"required_age\":\"17\"},\"kgrb\":{\"required_age\":\"17\"},\"dejus\":{\"required_age\":\"17\"},\"mda\":{\"required_age\":\"17\"},\"fpb\":{\"required_age\":\"17\"},\"csrr\":{\"required_age\":\"17\"},\"crl\":{\"required_age\":\"17\"},\"steam_germany\":{\"rating_generated\":\"1\",\"rating\":\"12\",\"required_age\":\"12\",\"banned\":\"0\",\"use_age_gate\":\"0\",\"descriptors\":\"Sexuelle Andeutungen\"}}|\n",
      "|{\"usk\":{\"rating\":\"0\"},\"pegi\":{\"rating\":\"3\"},\"dejus\":{\"rating_generated\":\"1\",\"rating\":\"l\",\"required_age\":\"0\",\"banned\":\"0\",\"use_age_gate\":\"0\",\"descriptors\":\"\"},\"steam_germany\":{\"rating_generated\":\"1\",\"rating\":\"0\",\"required_age\":\"0\",\"banned\":\"0\",\"use_age_gate\":\"0\",\"descriptors\":\"\"}}                                                                                                                                                                                                                                                                                                                                                                                    |\n",
      "|{\"dejus\":{\"rating_generated\":\"1\",\"rating\":\"14\",\"required_age\":\"14\",\"banned\":\"0\",\"use_age_gate\":\"0\",\"descriptors\":\"Nudez\"},\"steam_germany\":{\"rating_generated\":\"1\",\"rating\":\"16\",\"required_age\":\"16\",\"banned\":\"0\",\"use_age_gate\":\"0\",\"descriptors\":\"Sexuelle Inhalte\"}}                                                                                                                                                                                                                                                                                                                                                                                                      |\n",
      "|{\"dejus\":{\"rating_generated\":\"1\",\"rating\":\"14\",\"required_age\":\"14\",\"banned\":\"0\",\"use_age_gate\":\"0\",\"descriptors\":\"Drogas ilícitas\\nLinguagem imprópria\\nAtos criminosos\"},\"steam_germany\":{\"rating_generated\":\"1\",\"rating\":\"14\",\"required_age\":\"14\",\"banned\":\"0\",\"use_age_gate\":\"0\",\"descriptors\":\"Drogen\"}}                                                                                                                                                                                                                                                                                                                                                                |\n",
      "|{\"esrb\":{\"rating\":\"t\",\"descriptors\":\"Blood\\r\\nViolence\\r\\nMild Language\\r\\nUse of Alcohol\"},\"pegi\":{\"rating\":\"12\",\"descriptors\":\"Violence\\r\\nMild Language\"},\"dejus\":{\"rating_generated\":\"1\",\"rating\":\"10\",\"required_age\":\"10\",\"banned\":\"0\",\"use_age_gate\":\"0\",\"descriptors\":\"Violência\"},\"steam_germany\":{\"rating_generated\":\"1\",\"rating\":\"12\",\"required_age\":\"12\",\"banned\":\"0\",\"use_age_gate\":\"0\",\"descriptors\":\"Gewalt\"}}                                                                                                                                                                                                                                                |\n",
      "|{\"dejus\":{\"rating_generated\":\"1\",\"rating\":\"18\",\"required_age\":\"18\",\"banned\":\"0\",\"use_age_gate\":\"0\",\"descriptors\":\"Violência Extrema\\nLinguagem imprópria\"},\"steam_germany\":{\"rating_generated\":\"1\",\"rating\":\"18\",\"required_age\":\"18\",\"banned\":\"0\",\"use_age_gate\":\"0\",\"descriptors\":\"Drastische Gewalt\"}}                                                                                                                                                                                                                                                                                                                                                                    |\n",
      "+----------------------------------------------------------------------------------------------------------------------------------------------------------------------------------------------------------------------------------------------------------------------------------------------------------------------------------------------------------------------------------------------------------------------------------------------------------------------------------------------------------------------------------------------------------------------------------------------------------------------------------------------------------------------------+\n",
      "only showing top 20 rows\n",
      "\n"
     ]
    }
   ],
   "source": [
    "df_cleaned.select('ratings').distinct().show(truncate=False)"
   ]
  },
  {
   "cell_type": "code",
   "execution_count": 61,
   "id": "c6ac142e-1e11-47d3-89ac-789ff2113c69",
   "metadata": {},
   "outputs": [],
   "source": [
    "schema = MapType(StringType(), MapType(StringType(), StringType()))\n",
    "df_cleaned = df.withColumn(\"parsed_ratings\", f.from_json(col(\"ratings\"), schema))"
   ]
  },
  {
   "cell_type": "code",
   "execution_count": 62,
   "id": "378fadfc-b60e-4bfc-8d74-e22c4221201c",
   "metadata": {},
   "outputs": [
    {
     "name": "stdout",
     "output_type": "stream",
     "text": [
      "+-------------+\n",
      "|          col|\n",
      "+-------------+\n",
      "|          crl|\n",
      "|         kgrb|\n",
      "|        dejus|\n",
      "|         cero|\n",
      "|       nzoflc|\n",
      "|         pegi|\n",
      "|         oflc|\n",
      "|          usk|\n",
      "|          fpb|\n",
      "|         csrr|\n",
      "|        cadpa|\n",
      "|steam_germany|\n",
      "|         bbfc|\n",
      "|        video|\n",
      "|        agcom|\n",
      "|          mda|\n",
      "|         esrb|\n",
      "+-------------+\n",
      "\n"
     ]
    }
   ],
   "source": [
    "df_cleaned.select(explode(map_keys(col(\"parsed_ratings\")))) \\\n",
    "              .distinct() \\\n",
    "              .show()"
   ]
  },
  {
   "cell_type": "code",
   "execution_count": 64,
   "id": "f59c4942-e8a6-4279-af91-92c74a3662ea",
   "metadata": {},
   "outputs": [],
   "source": [
    "ratings = df_cleaned.select(explode(map_keys(col(\"parsed_ratings\")))) \\\n",
    "              .distinct() \\\n",
    "              .collect()"
   ]
  },
  {
   "cell_type": "code",
   "execution_count": 73,
   "id": "5c553ca3-627b-4c3b-91ac-a507bfc50f56",
   "metadata": {},
   "outputs": [
    {
     "data": {
      "text/plain": [
       "['crl',\n",
       " 'kgrb',\n",
       " 'dejus',\n",
       " 'cero',\n",
       " 'nzoflc',\n",
       " 'pegi',\n",
       " 'oflc',\n",
       " 'usk',\n",
       " 'fpb',\n",
       " 'csrr',\n",
       " 'cadpa',\n",
       " 'steam_germany',\n",
       " 'bbfc',\n",
       " 'video',\n",
       " 'agcom',\n",
       " 'mda',\n",
       " 'esrb']"
      ]
     },
     "execution_count": 73,
     "metadata": {},
     "output_type": "execute_result"
    }
   ],
   "source": [
    "rating_systems = [row.col for row in ratings]\n",
    "rating_systems"
   ]
  },
  {
   "cell_type": "code",
   "execution_count": 74,
   "id": "a72dfca5-0afa-472b-a50d-4d3900e8a96b",
   "metadata": {},
   "outputs": [],
   "source": [
    "df_cleaned = df_cleaned.withColumns({rating: col('parsed_ratings')[rating] for rating in rating_systems})"
   ]
  },
  {
   "cell_type": "code",
   "execution_count": 49,
   "id": "9545f4f9-8404-4d2e-8395-409634da45c7",
   "metadata": {},
   "outputs": [
    {
     "name": "stdout",
     "output_type": "stream",
     "text": [
      "+---------------------------------------+\n",
      "|to_date(release_date.date, d MMM, yyyy)|\n",
      "+---------------------------------------+\n",
      "|2007-04-20                             |\n",
      "|2012-04-17                             |\n",
      "|2013-03-26                             |\n",
      "|2013-05-21                             |\n",
      "|2013-09-09                             |\n",
      "|2013-01-22                             |\n",
      "|2014-09-26                             |\n",
      "|2021-06-22                             |\n",
      "|2014-11-12                             |\n",
      "|2015-05-19                             |\n",
      "|2015-03-09                             |\n",
      "|2018-08-10                             |\n",
      "|2016-03-01                             |\n",
      "|2017-08-11                             |\n",
      "|2018-05-28                             |\n",
      "|2017-09-11                             |\n",
      "|2024-09-18                             |\n",
      "|2022-03-28                             |\n",
      "|2021-08-27                             |\n",
      "|2019-06-04                             |\n",
      "+---------------------------------------+\n",
      "only showing top 20 rows\n",
      "\n"
     ]
    }
   ],
   "source": [
    "df_cleaned.select(f.to_date('release_date.date', 'd MMM, yyyy')).distinct().show(truncate=False)"
   ]
  },
  {
   "cell_type": "code",
   "execution_count": 56,
   "id": "ae1c8bd7-ecc4-4c11-aab9-e963737798bc",
   "metadata": {},
   "outputs": [],
   "source": [
    "df_cleaned = df.withColumn('release_date', f.to_date(df.release_date.date, 'd MMM, yyyy'))"
   ]
  },
  {
   "cell_type": "code",
   "execution_count": 58,
   "id": "89138293-a328-4e6e-a89f-2ca120603480",
   "metadata": {},
   "outputs": [
    {
     "name": "stdout",
     "output_type": "stream",
     "text": [
      "+---------------------------------------+\n",
      "|max(to_date(release_date, d MMM, yyyy))|\n",
      "+---------------------------------------+\n",
      "|                             7777-03-31|\n",
      "+---------------------------------------+\n",
      "\n"
     ]
    }
   ],
   "source": [
    "df_cleaned.select(f.max(f.to_date('release_date', 'd MMM, yyyy'))).show()"
   ]
  },
  {
   "cell_type": "code",
   "execution_count": 59,
   "id": "7a850345-dc75-42f0-a222-d1aab7fe0495",
   "metadata": {},
   "outputs": [
    {
     "name": "stdout",
     "output_type": "stream",
     "text": [
      "+---------------------------------------+\n",
      "|min(to_date(release_date, d MMM, yyyy))|\n",
      "+---------------------------------------+\n",
      "|                             1969-12-31|\n",
      "+---------------------------------------+\n",
      "\n"
     ]
    }
   ],
   "source": [
    "df_cleaned.select(f.min(f.to_date('release_date', 'd MMM, yyyy'))).show()"
   ]
  },
  {
   "cell_type": "code",
   "execution_count": 65,
   "id": "6b8f6e9f-a146-488f-87bf-4e9c749f6ba2",
   "metadata": {},
   "outputs": [
    {
     "name": "stdout",
     "output_type": "stream",
     "text": [
      "+------------+\n",
      "|required_age|\n",
      "+------------+\n",
      "|           7|\n",
      "|          15|\n",
      "|          11|\n",
      "|           3|\n",
      "|           8|\n",
      "|          16|\n",
      "|           0|\n",
      "|           5|\n",
      "|         18+|\n",
      "|          18|\n",
      "|          17|\n",
      "|           6|\n",
      "|        １８|\n",
      "|           1|\n",
      "|          7+|\n",
      "|          20|\n",
      "|          10|\n",
      "|           4|\n",
      "|          12|\n",
      "|          13|\n",
      "+------------+\n",
      "only showing top 20 rows\n",
      "\n"
     ]
    }
   ],
   "source": [
    "df_cleaned.select('required_age').distinct().show()"
   ]
  },
  {
   "cell_type": "code",
   "execution_count": 66,
   "id": "7db45be5-6d5a-4c94-b0d6-1f22deffc37f",
   "metadata": {},
   "outputs": [
    {
     "name": "stdout",
     "output_type": "stream",
     "text": [
      "+-----------+\n",
      "|       type|\n",
      "+-----------+\n",
      "|advertising|\n",
      "|        dlc|\n",
      "|    episode|\n",
      "|      music|\n",
      "|     series|\n",
      "|      video|\n",
      "|   hardware|\n",
      "|       demo|\n",
      "|       game|\n",
      "|        mod|\n",
      "+-----------+\n",
      "\n"
     ]
    }
   ],
   "source": [
    "df_cleaned.select('type').distinct().show()"
   ]
  },
  {
   "cell_type": "code",
   "execution_count": 69,
   "id": "dedda894-1bf0-4f40-9183-5b6b69d1b0d1",
   "metadata": {},
   "outputs": [
    {
     "name": "stdout",
     "output_type": "stream",
     "text": [
      "+------------------------------------------------------------------------------------------------------------------------------------------------------------------------------------------------------------------------------------------------------------------------------------------------------------------------------------------------------------------------------------------------------------------------------------------------------------------------------------+\n",
      "|supported_languages                                                                                                                                                                                                                                                                                                                                                                                                                                                                 |\n",
      "+------------------------------------------------------------------------------------------------------------------------------------------------------------------------------------------------------------------------------------------------------------------------------------------------------------------------------------------------------------------------------------------------------------------------------------------------------------------------------------+\n",
      "|English<strong>*</strong>, French<strong>*</strong>, German<strong>*</strong>, Italian<strong>*</strong>, Spanish - Spain<strong>*</strong>, Czech, Polish, Russian<strong>*</strong><br><strong>*</strong>languages with full audio support                                                                                                                                                                                                                                        |\n",
      "|English<strong>*</strong>, Russian<strong>*</strong>, German<strong>*</strong>, Polish, Czech<br><strong>*</strong>languages with full audio support                                                                                                                                                                                                                                                                                                                                |\n",
      "|English<strong>*</strong>, French<strong>*</strong>, German<strong>*</strong>, Russian<strong>*</strong><br><strong>*</strong>languages with full audio support                                                                                                                                                                                                                                                                                                                     |\n",
      "|English, French, Spanish - Spain, Portuguese - Brazil                                                                                                                                                                                                                                                                                                                                                                                                                               |\n",
      "|English<strong>*</strong>, French<strong>*</strong>, Italian<strong>*</strong>, German<strong>*</strong>, Spanish - Spain<strong>*</strong>, Portuguese - Brazil<strong>*</strong><br><strong>*</strong>languages with full audio support                                                                                                                                                                                                                                           |\n",
      "|English<strong>*</strong>, French, German, Russian, Turkish, Spanish - Spain, Indonesian<br><strong>*</strong>languages with full audio support                                                                                                                                                                                                                                                                                                                                     |\n",
      "|English, French, German, Spanish - Spain, Portuguese - Brazil                                                                                                                                                                                                                                                                                                                                                                                                                       |\n",
      "|English, French, German, Finnish, Hungarian, Korean, Russian, Turkish                                                                                                                                                                                                                                                                                                                                                                                                               |\n",
      "|English<strong>*</strong>, Polish<strong>*</strong>, Russian<strong>*</strong>, German<strong>*</strong>, Spanish - Spain<strong>*</strong>, Czech<strong>*</strong>, French<strong>*</strong>, Traditional Chinese<strong>*</strong>, Simplified Chinese<strong>*</strong>, Japanese<strong>*</strong>, Korean<strong>*</strong>, Danish<strong>*</strong>, Portuguese - Brazil<strong>*</strong>, Turkish<strong>*</strong><br><strong>*</strong>languages with full audio support|\n",
      "|English, Russian, Japanese, Traditional Chinese                                                                                                                                                                                                                                                                                                                                                                                                                                     |\n",
      "|English<strong>*</strong>, German, Spanish - Spain<br><strong>*</strong>languages with full audio support                                                                                                                                                                                                                                                                                                                                                                           |\n",
      "|English, Italian, Portuguese - Brazil                                                                                                                                                                                                                                                                                                                                                                                                                                               |\n",
      "|English<strong>*</strong>, Russian<strong>*</strong>, French<strong>*</strong>, Swedish<strong>*</strong>, German<strong>*</strong><br><strong>*</strong>languages with full audio support                                                                                                                                                                                                                                                                                          |\n",
      "|Polish, English, Czech, Hungarian, French, German, Spanish - Spain, Italian                                                                                                                                                                                                                                                                                                                                                                                                         |\n",
      "|English<strong>*</strong>, Italian, German, Spanish - Spain, Japanese, Polish, Portuguese - Brazil, Russian, Simplified Chinese, Spanish - Latin America, Traditional Chinese, French, Korean, Turkish, Ukrainian<br><strong>*</strong>languages with full audio support                                                                                                                                                                                                            |\n",
      "|English, German, Portuguese - Brazil, Spanish - Spain, Russian, Italian, Czech, French, Spanish - Latin America                                                                                                                                                                                                                                                                                                                                                                     |\n",
      "|English, Russian, French, Italian, German, Spanish - Spain, Simplified Chinese                                                                                                                                                                                                                                                                                                                                                                                                      |\n",
      "|English<strong>*</strong>, French, German, Spanish - Spain, Korean, Portuguese - Brazil, Russian, Simplified Chinese, Traditional Chinese, Italian, Arabic, Bulgarian, Czech, Danish, Dutch, Finnish, Greek, Hungarian, Japanese, Norwegian, Polish, Portuguese - Portugal, Romanian, Swedish, Thai, Turkish, Ukrainian<br><strong>*</strong>languages with full audio support                                                                                                      |\n",
      "|English<strong>*</strong>, French<strong>*</strong>, Italian<strong>*</strong>, German<strong>*</strong>, Spanish - Spain<strong>*</strong>, Arabic, Simplified Chinese, Traditional Chinese, Korean, Japanese<strong>*</strong>, Dutch, Polish, Portuguese - Brazil<strong>*</strong>, Russian<strong>*</strong>, Czech<br><strong>*</strong>languages with full audio support                                                                                                     |\n",
      "|English, French, Italian, German, Spanish - Spain, Simplified Chinese, Portuguese - Brazil, Russian, Polish, Danish, Dutch, Korean, Turkish, Ukrainian, Bulgarian                                                                                                                                                                                                                                                                                                                   |\n",
      "+------------------------------------------------------------------------------------------------------------------------------------------------------------------------------------------------------------------------------------------------------------------------------------------------------------------------------------------------------------------------------------------------------------------------------------------------------------------------------------+\n",
      "only showing top 20 rows\n",
      "\n"
     ]
    }
   ],
   "source": [
    "df_cleaned.select('supported_languages').distinct().show(truncate=False)"
   ]
  },
  {
   "cell_type": "markdown",
   "id": "79546f2a-1c8c-4162-9740-aaeda2ee7a59",
   "metadata": {},
   "source": [
    "# EDA"
   ]
  },
  {
   "cell_type": "code",
   "execution_count": null,
   "id": "4ebc9dcf-d763-4cf8-b055-5c390e1a9a4b",
   "metadata": {},
   "outputs": [],
   "source": [
    "df_cleaned.groupBy('type').agg(f.count(\"*\").alias('counts')).orderBy('counts', ascending=False).show()"
   ]
  },
  {
   "cell_type": "code",
   "execution_count": null,
   "id": "df0e5a9d-4436-4be4-857e-55eff73318e8",
   "metadata": {},
   "outputs": [],
   "source": []
  },
  {
   "cell_type": "code",
   "execution_count": null,
   "id": "d2964b47-11f8-4811-a50e-543c16031a5c",
   "metadata": {},
   "outputs": [],
   "source": []
  },
  {
   "cell_type": "code",
   "execution_count": null,
   "id": "f70d61cd-4aa9-4cde-aed9-47ecb76c6da2",
   "metadata": {},
   "outputs": [],
   "source": []
  },
  {
   "cell_type": "code",
   "execution_count": null,
   "id": "c01b4e30-c7a7-41cf-83c9-65490cabb092",
   "metadata": {},
   "outputs": [],
   "source": [
    "df.explain(mode=\"formatted\")"
   ]
  },
  {
   "cell_type": "code",
   "execution_count": null,
   "id": "3a3044a1-4808-4e0d-a099-66a408102ee0",
   "metadata": {},
   "outputs": [],
   "source": []
  },
  {
   "cell_type": "code",
   "execution_count": null,
   "id": "3f57a28a-7ae1-45e2-938b-0f2f873f8008",
   "metadata": {},
   "outputs": [],
   "source": []
  }
 ],
 "metadata": {
  "kernelspec": {
   "display_name": "Python 3 (ipykernel)",
   "language": "python",
   "name": "python3"
  },
  "language_info": {
   "codemirror_mode": {
    "name": "ipython",
    "version": 3
   },
   "file_extension": ".py",
   "mimetype": "text/x-python",
   "name": "python",
   "nbconvert_exporter": "python",
   "pygments_lexer": "ipython3",
   "version": "3.11.6"
  }
 },
 "nbformat": 4,
 "nbformat_minor": 5
}
