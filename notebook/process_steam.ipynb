{
 "cells": [
  {
   "cell_type": "code",
   "execution_count": null,
   "id": "1e65d86e-7017-4432-8973-7d404891cde4",
   "metadata": {},
   "outputs": [
    {
     "name": "stderr",
     "output_type": "stream",
     "text": [
      "25/07/10 20:56:47 WARN Utils: Your hostname, RLC-Light-Trooper.local resolves to a loopback address: 127.0.0.1; using 192.168.1.10 instead (on interface en0)\n",
      "25/07/10 20:56:47 WARN Utils: Set SPARK_LOCAL_IP if you need to bind to another address\n",
      "Setting default log level to \"WARN\".\n",
      "To adjust logging level use sc.setLogLevel(newLevel). For SparkR, use setLogLevel(newLevel).\n",
      "25/07/10 20:56:54 WARN NativeCodeLoader: Unable to load native-hadoop library for your platform... using builtin-java classes where applicable\n"
     ]
    }
   ],
   "source": [
    "from pyspark.sql import SparkSession\n",
    "from pyspark.sql.functions import col, sum as _sum, expr, regexp_replace, split, from_json, to_json\n",
    "from pyspark.sql.types import StructType, StructField, StringType, ArrayType, IntegerType\n",
    "from pyspark.sql import functions as f\n",
    "\n",
    "import pandas as pd\n",
    "\n",
    "# spark = SparkSession.builder.getOrCreate()\n",
    "spark = SparkSession.builder \\\n",
    "    .master(\"local[1]\") \\\n",
    "    .config(\"spark.ui.port\", \"4040\") \\\n",
    "    .getOrCreate()\n"
   ]
  },
  {
   "cell_type": "code",
   "execution_count": 2,
   "id": "8c867a0e",
   "metadata": {},
   "outputs": [
    {
     "name": "stderr",
     "output_type": "stream",
     "text": [
      "                                                                                \r"
     ]
    }
   ],
   "source": [
    "df = spark.read.json([\"/Users/ruizlorenzochavez/Downloads/steam/data/steam_data_2025-06-03.jsonl\"])"
   ]
  },
  {
   "cell_type": "code",
   "execution_count": 3,
   "id": "7154d048",
   "metadata": {},
   "outputs": [],
   "source": [
    "pd_df = pd.read_json(\"/Users/ruizlorenzochavez/Downloads/steam/data/steam_data_2025-06-03.jsonl\", lines=True)"
   ]
  },
  {
   "cell_type": "code",
   "execution_count": 4,
   "id": "c8772703-d3f0-4531-af2f-bcf536514bf6",
   "metadata": {},
   "outputs": [
    {
     "name": "stdout",
     "output_type": "stream",
     "text": [
      "root\n",
      " |-- about_the_game: string (nullable = true)\n",
      " |-- achievements: struct (nullable = true)\n",
      " |    |-- highlighted: array (nullable = true)\n",
      " |    |    |-- element: struct (containsNull = true)\n",
      " |    |    |    |-- name: string (nullable = true)\n",
      " |    |    |    |-- path: string (nullable = true)\n",
      " |    |-- total: long (nullable = true)\n",
      " |-- alternate_appid: string (nullable = true)\n",
      " |-- background: string (nullable = true)\n",
      " |-- background_raw: string (nullable = true)\n",
      " |-- capsule_image: string (nullable = true)\n",
      " |-- capsule_imagev5: string (nullable = true)\n",
      " |-- categories: array (nullable = true)\n",
      " |    |-- element: struct (containsNull = true)\n",
      " |    |    |-- description: string (nullable = true)\n",
      " |    |    |-- id: long (nullable = true)\n",
      " |-- content_descriptors: struct (nullable = true)\n",
      " |    |-- ids: array (nullable = true)\n",
      " |    |    |-- element: long (containsNull = true)\n",
      " |    |-- notes: string (nullable = true)\n",
      " |-- controller_support: string (nullable = true)\n",
      " |-- demos: array (nullable = true)\n",
      " |    |-- element: struct (containsNull = true)\n",
      " |    |    |-- appid: long (nullable = true)\n",
      " |    |    |-- description: string (nullable = true)\n",
      " |-- detailed_description: string (nullable = true)\n",
      " |-- developers: array (nullable = true)\n",
      " |    |-- element: string (containsNull = true)\n",
      " |-- dlc: array (nullable = true)\n",
      " |    |-- element: long (containsNull = true)\n",
      " |-- drm_notice: string (nullable = true)\n",
      " |-- ext_user_account_notice: string (nullable = true)\n",
      " |-- fullgame: struct (nullable = true)\n",
      " |    |-- appid: string (nullable = true)\n",
      " |    |-- name: string (nullable = true)\n",
      " |-- genres: array (nullable = true)\n",
      " |    |-- element: struct (containsNull = true)\n",
      " |    |    |-- description: string (nullable = true)\n",
      " |    |    |-- id: string (nullable = true)\n",
      " |-- header_image: string (nullable = true)\n",
      " |-- is_free: boolean (nullable = true)\n",
      " |-- legal_notice: string (nullable = true)\n",
      " |-- linux_requirements: string (nullable = true)\n",
      " |-- mac_requirements: string (nullable = true)\n",
      " |-- metacritic: struct (nullable = true)\n",
      " |    |-- score: long (nullable = true)\n",
      " |    |-- url: string (nullable = true)\n",
      " |-- movies: array (nullable = true)\n",
      " |    |-- element: struct (containsNull = true)\n",
      " |    |    |-- highlight: boolean (nullable = true)\n",
      " |    |    |-- id: long (nullable = true)\n",
      " |    |    |-- mp4: struct (nullable = true)\n",
      " |    |    |    |-- 480: string (nullable = true)\n",
      " |    |    |    |-- max: string (nullable = true)\n",
      " |    |    |-- name: string (nullable = true)\n",
      " |    |    |-- thumbnail: string (nullable = true)\n",
      " |    |    |-- webm: struct (nullable = true)\n",
      " |    |    |    |-- 480: string (nullable = true)\n",
      " |    |    |    |-- max: string (nullable = true)\n",
      " |-- name: string (nullable = true)\n",
      " |-- package_groups: array (nullable = true)\n",
      " |    |-- element: struct (containsNull = true)\n",
      " |    |    |-- description: string (nullable = true)\n",
      " |    |    |-- display_type: string (nullable = true)\n",
      " |    |    |-- is_recurring_subscription: string (nullable = true)\n",
      " |    |    |-- name: string (nullable = true)\n",
      " |    |    |-- save_text: string (nullable = true)\n",
      " |    |    |-- selection_text: string (nullable = true)\n",
      " |    |    |-- subs: array (nullable = true)\n",
      " |    |    |    |-- element: struct (containsNull = true)\n",
      " |    |    |    |    |-- can_get_free_license: string (nullable = true)\n",
      " |    |    |    |    |-- is_free_license: boolean (nullable = true)\n",
      " |    |    |    |    |-- option_description: string (nullable = true)\n",
      " |    |    |    |    |-- option_text: string (nullable = true)\n",
      " |    |    |    |    |-- packageid: long (nullable = true)\n",
      " |    |    |    |    |-- percent_savings: long (nullable = true)\n",
      " |    |    |    |    |-- percent_savings_text: string (nullable = true)\n",
      " |    |    |    |    |-- price_in_cents_with_discount: long (nullable = true)\n",
      " |    |    |-- title: string (nullable = true)\n",
      " |-- packages: array (nullable = true)\n",
      " |    |-- element: long (containsNull = true)\n",
      " |-- pc_requirements: string (nullable = true)\n",
      " |-- platforms: struct (nullable = true)\n",
      " |    |-- linux: boolean (nullable = true)\n",
      " |    |-- mac: boolean (nullable = true)\n",
      " |    |-- windows: boolean (nullable = true)\n",
      " |-- price_overview: struct (nullable = true)\n",
      " |    |-- currency: string (nullable = true)\n",
      " |    |-- discount_percent: long (nullable = true)\n",
      " |    |-- final: long (nullable = true)\n",
      " |    |-- final_formatted: string (nullable = true)\n",
      " |    |-- initial: long (nullable = true)\n",
      " |    |-- initial_formatted: string (nullable = true)\n",
      " |    |-- recurring_sub: long (nullable = true)\n",
      " |    |-- recurring_sub_desc: string (nullable = true)\n",
      " |-- publishers: array (nullable = true)\n",
      " |    |-- element: string (containsNull = true)\n",
      " |-- ratings: string (nullable = true)\n",
      " |-- recommendations: struct (nullable = true)\n",
      " |    |-- total: long (nullable = true)\n",
      " |-- release_date: struct (nullable = true)\n",
      " |    |-- coming_soon: boolean (nullable = true)\n",
      " |    |-- date: string (nullable = true)\n",
      " |-- required_age: string (nullable = true)\n",
      " |-- reviews: string (nullable = true)\n",
      " |-- screenshots: array (nullable = true)\n",
      " |    |-- element: struct (containsNull = true)\n",
      " |    |    |-- id: long (nullable = true)\n",
      " |    |    |-- path_full: string (nullable = true)\n",
      " |    |    |-- path_thumbnail: string (nullable = true)\n",
      " |-- short_description: string (nullable = true)\n",
      " |-- steam_appid: long (nullable = true)\n",
      " |-- support_info: struct (nullable = true)\n",
      " |    |-- email: string (nullable = true)\n",
      " |    |-- url: string (nullable = true)\n",
      " |-- supported_languages: string (nullable = true)\n",
      " |-- type: string (nullable = true)\n",
      " |-- website: string (nullable = true)\n",
      "\n"
     ]
    }
   ],
   "source": [
    "df.printSchema()"
   ]
  },
  {
   "cell_type": "markdown",
   "id": "4a705884-f152-4a0c-b907-868d7694e8e4",
   "metadata": {},
   "source": [
    "# Remove duplicates"
   ]
  },
  {
   "cell_type": "code",
   "execution_count": 5,
   "id": "d92d5a88-568c-4ae1-b784-b830e4591cc7",
   "metadata": {},
   "outputs": [
    {
     "name": "stderr",
     "output_type": "stream",
     "text": [
      "[Stage 1:==================================================>      (15 + 1) / 17]\r"
     ]
    },
    {
     "name": "stdout",
     "output_type": "stream",
     "text": [
      "+-----------+--------+\n",
      "|steam_appid|count(1)|\n",
      "+-----------+--------+\n",
      "|     223810|       2|\n",
      "|     209160|       2|\n",
      "|     212500|       2|\n",
      "|     238210|       2|\n",
      "|     221560|       2|\n",
      "|     245550|       2|\n",
      "|     108800|       2|\n",
      "|     242840|       2|\n",
      "|     412020|       2|\n",
      "|     240760|       2|\n",
      "|     311210|       3|\n",
      "|     631780|       5|\n",
      "|     288290|       5|\n",
      "|     329790|       2|\n",
      "|     211670|       3|\n",
      "|     359550|       5|\n",
      "|     244450|       2|\n",
      "|     320120|       2|\n",
      "|     209650|       2|\n",
      "|     106010|       2|\n",
      "+-----------+--------+\n",
      "only showing top 20 rows\n",
      "\n"
     ]
    },
    {
     "name": "stderr",
     "output_type": "stream",
     "text": [
      "                                                                                \r"
     ]
    }
   ],
   "source": [
    "df.groupBy(\"steam_appid\").agg(f.count(\"*\")).filter(col('count(1)')>1).show()"
   ]
  },
  {
   "cell_type": "code",
   "execution_count": 6,
   "id": "830b089a-7f23-40f8-97a4-92d47311c614",
   "metadata": {},
   "outputs": [],
   "source": [
    "def find_differences_by_id(df, id_col):\n",
    "    dup_ids = df.groupBy(id_col).count().filter(col(\"count\") > 1).select(id_col)\n",
    "    dup_df = df.join(dup_ids, on=id_col, how=\"inner\")\n",
    "\n",
    "    cols_to_check = [c for c in df.columns if c != id_col]\n",
    "\n",
    "    diff_exprs = [\n",
    "        f.collect_set(col(c)).alias(c) for c in cols_to_check\n",
    "    ]\n",
    "\n",
    "    grouped = dup_df.groupBy(id_col).agg(*diff_exprs)\n",
    "\n",
    "    mismatch_exprs = [\n",
    "        (f.size(col(c)) > 1).alias(c) for c in cols_to_check\n",
    "    ]\n",
    "\n",
    "    mismatches = grouped.select(id_col, *mismatch_exprs)\n",
    "\n",
    "    mismatch_long = mismatches.selectExpr(\n",
    "        f\"`{id_col}`\", \n",
    "        \"stack(\" + str(len(cols_to_check)) + \", \" +\n",
    "        \", \".join([f\"'{c}', {c}\" for c in cols_to_check]) +\n",
    "        \") as (column, has_difference)\"\n",
    "    ).filter(\"has_difference = true\")\n",
    "\n",
    "    return mismatch_long\n"
   ]
  },
  {
   "cell_type": "code",
   "execution_count": 7,
   "id": "f73fa899-1f41-4a0d-a23b-01a803b828e1",
   "metadata": {},
   "outputs": [
    {
     "name": "stderr",
     "output_type": "stream",
     "text": [
      "25/07/10 21:02:36 WARN SparkStringUtils: Truncated the string representation of a plan since it was too large. This behavior can be adjusted by setting 'spark.sql.debug.maxToStringFields'.\n",
      "                                                                                \r"
     ]
    },
    {
     "name": "stdout",
     "output_type": "stream",
     "text": [
      "+-----------+--------------------+--------------+\n",
      "|steam_appid|              column|has_difference|\n",
      "+-----------+--------------------+--------------+\n",
      "|     238210|     recommendations|          true|\n",
      "|     412020|     recommendations|          true|\n",
      "|    2669320|     recommendations|          true|\n",
      "|     311210|     recommendations|          true|\n",
      "|    2195250|      about_the_game|          true|\n",
      "|    2195250|          background|          true|\n",
      "|    2195250|      background_raw|          true|\n",
      "|    2195250|       capsule_image|          true|\n",
      "|    2195250|     capsule_imagev5|          true|\n",
      "|    2195250|detailed_description|          true|\n",
      "|    2195250|        header_image|          true|\n",
      "|    2195250|     recommendations|          true|\n",
      "|    2195250|         screenshots|          true|\n",
      "|     359550|     recommendations|          true|\n",
      "|     244450|     recommendations|          true|\n",
      "|    1426210|      about_the_game|          true|\n",
      "|    1426210|          background|          true|\n",
      "|    1426210|      background_raw|          true|\n",
      "|    1426210|       capsule_image|          true|\n",
      "|    1426210|     capsule_imagev5|          true|\n",
      "|    1426210|          categories|          true|\n",
      "|    1426210|detailed_description|          true|\n",
      "|    1426210|          developers|          true|\n",
      "|    1426210|              genres|          true|\n",
      "|    1426210|        header_image|          true|\n",
      "|    1426210|        legal_notice|          true|\n",
      "|    1426210|                name|          true|\n",
      "|    1426210|      package_groups|          true|\n",
      "|    1426210|            packages|          true|\n",
      "|    1426210|             ratings|          true|\n",
      "|    1426210|     recommendations|          true|\n",
      "|    1426210|        release_date|          true|\n",
      "|    1426210|         screenshots|          true|\n",
      "|    1426210|   short_description|          true|\n",
      "|    1426210| supported_languages|          true|\n",
      "+-----------+--------------------+--------------+\n",
      "\n"
     ]
    },
    {
     "name": "stderr",
     "output_type": "stream",
     "text": [
      "                                                                                \r"
     ]
    }
   ],
   "source": [
    "result = find_differences_by_id(df, \"steam_appid\")\n",
    "result.show(100)"
   ]
  },
  {
   "cell_type": "code",
   "execution_count": 8,
   "id": "0939bf4a-7934-4e3d-8fb4-c1bb2839bef8",
   "metadata": {},
   "outputs": [],
   "source": [
    "df.createOrReplaceTempView(\"df\")"
   ]
  },
  {
   "cell_type": "code",
   "execution_count": 9,
   "id": "e140bb21-f657-442a-9dcb-9f3223e0bb79",
   "metadata": {},
   "outputs": [
    {
     "name": "stderr",
     "output_type": "stream",
     "text": [
      "[Stage 14:=================================================>      (15 + 1) / 17]\r"
     ]
    },
    {
     "name": "stdout",
     "output_type": "stream",
     "text": [
      "+---------------+----+\n",
      "|recommendations|rank|\n",
      "+---------------+----+\n",
      "|        {35065}|   1|\n",
      "+---------------+----+\n",
      "\n"
     ]
    },
    {
     "name": "stderr",
     "output_type": "stream",
     "text": [
      "                                                                                \r"
     ]
    }
   ],
   "source": [
    "spark.sql(\"\"\"\n",
    "SELECT recommendations, ROW_NUMBER() OVER (PARTITION BY steam_appid ORDER BY recommendations DESC) AS rank FROM df WHERE steam_appid = '34330'\n",
    "\"\"\").show()"
   ]
  },
  {
   "cell_type": "code",
   "execution_count": 10,
   "id": "cc167fa4-3650-4461-a6c6-97352be06bda",
   "metadata": {},
   "outputs": [],
   "source": [
    "df = spark.sql(\"\"\"\n",
    "SELECT *\n",
    "FROM\n",
    "(SELECT *, ROW_NUMBER() OVER (PARTITION BY steam_appid ORDER BY recommendations DESC) AS rank FROM df)\n",
    "WHERE rank = 1\n",
    "\"\"\").drop(\"rank\")"
   ]
  },
  {
   "cell_type": "code",
   "execution_count": 11,
   "id": "6916766a-dfc7-4c93-9009-bc82e6db7362",
   "metadata": {},
   "outputs": [
    {
     "name": "stderr",
     "output_type": "stream",
     "text": [
      "[Stage 18:====================================================>   (16 + 1) / 17]\r"
     ]
    },
    {
     "name": "stdout",
     "output_type": "stream",
     "text": [
      "+-----------+------+--------------+\n",
      "|steam_appid|column|has_difference|\n",
      "+-----------+------+--------------+\n",
      "+-----------+------+--------------+\n",
      "\n"
     ]
    },
    {
     "name": "stderr",
     "output_type": "stream",
     "text": [
      "                                                                                \r"
     ]
    }
   ],
   "source": [
    "result = find_differences_by_id(df, \"steam_appid\")\n",
    "result.show(5)"
   ]
  },
  {
   "cell_type": "markdown",
   "id": "35a63425-6e60-4a98-8834-73497e1a8d02",
   "metadata": {},
   "source": [
    "# Omit columns with mostly null values"
   ]
  },
  {
   "cell_type": "code",
   "execution_count": 12,
   "id": "cd91ab29-abb8-4954-b358-d1400b7d73e3",
   "metadata": {},
   "outputs": [],
   "source": [
    "def get_null_counts(df):\n",
    "    null_counts = df.select([\n",
    "        _sum(f.when(col(c).isNull(), 1).otherwise(0)).alias(c)\n",
    "        for c in df.columns\n",
    "    ])\n",
    "    \n",
    "    result = null_counts.selectExpr(\n",
    "        \"stack({0}, {1}) as (column_name, null_count)\".format(\n",
    "            len(df.columns),\n",
    "            \", \".join([f\"'{c}', `{c}`\" for c in df.columns])\n",
    "        )\n",
    "    )\n",
    "    \n",
    "    return result.orderBy(f.desc(\"null_count\"))\n"
   ]
  },
  {
   "cell_type": "code",
   "execution_count": 13,
   "id": "3d494d83-0f9c-44d6-b1c4-285759a19254",
   "metadata": {},
   "outputs": [
    {
     "name": "stderr",
     "output_type": "stream",
     "text": [
      "[Stage 29:==========================================>              (9 + 1) / 12]\r"
     ]
    },
    {
     "name": "stdout",
     "output_type": "stream",
     "text": [
      "+--------------------+----------+-------------------+\n",
      "|         column_name|null_count|            percent|\n",
      "+--------------------+----------+-------------------+\n",
      "|     alternate_appid|    222006| 0.9999729744338144|\n",
      "|          drm_notice|    220829| 0.9946714592004036|\n",
      "|ext_user_account_...|    219984| 0.9908653586292633|\n",
      "|          metacritic|    217702|  0.980586634956669|\n",
      "|             reviews|    209313| 0.9428003891681531|\n",
      "|                 dlc|    206005| 0.9279002936778192|\n",
      "|               demos|    202498| 0.9121038502423292|\n",
      "|     recommendations|    201408| 0.9071942057186098|\n",
      "|  controller_support|    166462|  0.749788299731546|\n",
      "|        achievements|    164656|  0.741653604309677|\n",
      "|        legal_notice|    152393| 0.6864178512873178|\n",
      "|            fullgame|    140101| 0.6310514746950615|\n",
      "|             website|    120511| 0.5428130010990397|\n",
      "|      price_overview|     85779| 0.3863710069725961|\n",
      "|              movies|     84831|0.38210096751526945|\n",
      "|            packages|     84279| 0.3796146154261932|\n",
      "|             ratings|     45312| 0.2040970758337387|\n",
      "|              genres|     28190| 0.1269751184620651|\n",
      "|          publishers|     21918|0.09872439327603913|\n",
      "| supported_languages|     15848|0.07138352881826207|\n",
      "|         screenshots|     14652| 0.0659964326252635|\n",
      "|          categories|     12649|0.05697439778030016|\n",
      "|          developers|      8348|0.03760157108624759|\n",
      "|      about_the_game|         0|                0.0|\n",
      "|          background|         0|                0.0|\n",
      "|      background_raw|         0|                0.0|\n",
      "|       capsule_image|         0|                0.0|\n",
      "|     capsule_imagev5|         0|                0.0|\n",
      "| content_descriptors|         0|                0.0|\n",
      "|detailed_description|         0|                0.0|\n",
      "|        header_image|         0|                0.0|\n",
      "|             is_free|         0|                0.0|\n",
      "|  linux_requirements|         0|                0.0|\n",
      "|    mac_requirements|         0|                0.0|\n",
      "|                name|         0|                0.0|\n",
      "|      package_groups|         0|                0.0|\n",
      "|     pc_requirements|         0|                0.0|\n",
      "|           platforms|         0|                0.0|\n",
      "|        release_date|         0|                0.0|\n",
      "|        required_age|         0|                0.0|\n",
      "|   short_description|         0|                0.0|\n",
      "|         steam_appid|         0|                0.0|\n",
      "|        support_info|         0|                0.0|\n",
      "|                type|         0|                0.0|\n",
      "+--------------------+----------+-------------------+\n",
      "\n"
     ]
    },
    {
     "name": "stderr",
     "output_type": "stream",
     "text": [
      "                                                                                \r"
     ]
    }
   ],
   "source": [
    "null_summary = get_null_counts(df)\n",
    "null_summary = null_summary.withColumn(\"percent\", col(\"null_count\")/df.count())\n",
    "null_summary.show(100)"
   ]
  },
  {
   "cell_type": "code",
   "execution_count": 14,
   "id": "902f79d6-b9c6-4235-8eb9-7a9343ce795c",
   "metadata": {},
   "outputs": [
    {
     "name": "stderr",
     "output_type": "stream",
     "text": [
      "                                                                                \r"
     ]
    }
   ],
   "source": [
    "null_columns = null_summary.filter('percent >=0.6').select('column_name').rdd.flatMap(lambda row:row).collect()"
   ]
  },
  {
   "cell_type": "code",
   "execution_count": 15,
   "id": "b8aa939b-4143-4785-9ccb-53ce58f58cd3",
   "metadata": {},
   "outputs": [],
   "source": [
    "df = df.drop(*null_columns)"
   ]
  },
  {
   "cell_type": "markdown",
   "id": "85401be1",
   "metadata": {},
   "source": [
    "# Tidying column values"
   ]
  },
  {
   "cell_type": "code",
   "execution_count": 16,
   "id": "fb6b00ec",
   "metadata": {},
   "outputs": [
    {
     "name": "stdout",
     "output_type": "stream",
     "text": [
      "root\n",
      " |-- about_the_game: string (nullable = true)\n",
      " |-- background: string (nullable = true)\n",
      " |-- background_raw: string (nullable = true)\n",
      " |-- capsule_image: string (nullable = true)\n",
      " |-- capsule_imagev5: string (nullable = true)\n",
      " |-- categories: array (nullable = true)\n",
      " |    |-- element: struct (containsNull = true)\n",
      " |    |    |-- description: string (nullable = true)\n",
      " |    |    |-- id: long (nullable = true)\n",
      " |-- content_descriptors: struct (nullable = true)\n",
      " |    |-- ids: array (nullable = true)\n",
      " |    |    |-- element: long (containsNull = true)\n",
      " |    |-- notes: string (nullable = true)\n",
      " |-- detailed_description: string (nullable = true)\n",
      " |-- developers: array (nullable = true)\n",
      " |    |-- element: string (containsNull = true)\n",
      " |-- genres: array (nullable = true)\n",
      " |    |-- element: struct (containsNull = true)\n",
      " |    |    |-- description: string (nullable = true)\n",
      " |    |    |-- id: string (nullable = true)\n",
      " |-- header_image: string (nullable = true)\n",
      " |-- is_free: boolean (nullable = true)\n",
      " |-- linux_requirements: string (nullable = true)\n",
      " |-- mac_requirements: string (nullable = true)\n",
      " |-- movies: array (nullable = true)\n",
      " |    |-- element: struct (containsNull = true)\n",
      " |    |    |-- highlight: boolean (nullable = true)\n",
      " |    |    |-- id: long (nullable = true)\n",
      " |    |    |-- mp4: struct (nullable = true)\n",
      " |    |    |    |-- 480: string (nullable = true)\n",
      " |    |    |    |-- max: string (nullable = true)\n",
      " |    |    |-- name: string (nullable = true)\n",
      " |    |    |-- thumbnail: string (nullable = true)\n",
      " |    |    |-- webm: struct (nullable = true)\n",
      " |    |    |    |-- 480: string (nullable = true)\n",
      " |    |    |    |-- max: string (nullable = true)\n",
      " |-- name: string (nullable = true)\n",
      " |-- package_groups: array (nullable = true)\n",
      " |    |-- element: struct (containsNull = true)\n",
      " |    |    |-- description: string (nullable = true)\n",
      " |    |    |-- display_type: string (nullable = true)\n",
      " |    |    |-- is_recurring_subscription: string (nullable = true)\n",
      " |    |    |-- name: string (nullable = true)\n",
      " |    |    |-- save_text: string (nullable = true)\n",
      " |    |    |-- selection_text: string (nullable = true)\n",
      " |    |    |-- subs: array (nullable = true)\n",
      " |    |    |    |-- element: struct (containsNull = true)\n",
      " |    |    |    |    |-- can_get_free_license: string (nullable = true)\n",
      " |    |    |    |    |-- is_free_license: boolean (nullable = true)\n",
      " |    |    |    |    |-- option_description: string (nullable = true)\n",
      " |    |    |    |    |-- option_text: string (nullable = true)\n",
      " |    |    |    |    |-- packageid: long (nullable = true)\n",
      " |    |    |    |    |-- percent_savings: long (nullable = true)\n",
      " |    |    |    |    |-- percent_savings_text: string (nullable = true)\n",
      " |    |    |    |    |-- price_in_cents_with_discount: long (nullable = true)\n",
      " |    |    |-- title: string (nullable = true)\n",
      " |-- packages: array (nullable = true)\n",
      " |    |-- element: long (containsNull = true)\n",
      " |-- pc_requirements: string (nullable = true)\n",
      " |-- platforms: struct (nullable = true)\n",
      " |    |-- linux: boolean (nullable = true)\n",
      " |    |-- mac: boolean (nullable = true)\n",
      " |    |-- windows: boolean (nullable = true)\n",
      " |-- price_overview: struct (nullable = true)\n",
      " |    |-- currency: string (nullable = true)\n",
      " |    |-- discount_percent: long (nullable = true)\n",
      " |    |-- final: long (nullable = true)\n",
      " |    |-- final_formatted: string (nullable = true)\n",
      " |    |-- initial: long (nullable = true)\n",
      " |    |-- initial_formatted: string (nullable = true)\n",
      " |    |-- recurring_sub: long (nullable = true)\n",
      " |    |-- recurring_sub_desc: string (nullable = true)\n",
      " |-- publishers: array (nullable = true)\n",
      " |    |-- element: string (containsNull = true)\n",
      " |-- ratings: string (nullable = true)\n",
      " |-- release_date: struct (nullable = true)\n",
      " |    |-- coming_soon: boolean (nullable = true)\n",
      " |    |-- date: string (nullable = true)\n",
      " |-- required_age: string (nullable = true)\n",
      " |-- screenshots: array (nullable = true)\n",
      " |    |-- element: struct (containsNull = true)\n",
      " |    |    |-- id: long (nullable = true)\n",
      " |    |    |-- path_full: string (nullable = true)\n",
      " |    |    |-- path_thumbnail: string (nullable = true)\n",
      " |-- short_description: string (nullable = true)\n",
      " |-- steam_appid: long (nullable = true)\n",
      " |-- support_info: struct (nullable = true)\n",
      " |    |-- email: string (nullable = true)\n",
      " |    |-- url: string (nullable = true)\n",
      " |-- supported_languages: string (nullable = true)\n",
      " |-- type: string (nullable = true)\n",
      " |-- website: string (nullable = true)\n",
      "\n"
     ]
    }
   ],
   "source": [
    "df.printSchema()"
   ]
  },
  {
   "cell_type": "code",
   "execution_count": 17,
   "id": "995c537a",
   "metadata": {},
   "outputs": [],
   "source": [
    "# Flattening genre and category columns\n",
    "df = df.withColumn(\"genre_descriptions\", expr(\"transform(genres, x -> x.description)\"))\n",
    "df = df.withColumn(\"category_descriptions\", expr(\"transform(categories, x -> x.description)\"))"
   ]
  },
  {
   "cell_type": "code",
   "execution_count": 18,
   "id": "5c678a45",
   "metadata": {},
   "outputs": [],
   "source": [
    "# Remove 'P' and ',' then cast to float\n",
    "df = df.withColumns({\"currency\": \"price_overview.currency\",\n",
    "                     \"initial_price\": regexp_replace(col(\"price_overview.initial_formatted\"), \"[P,]\", \"\").cast(\"float\"),\n",
    "                     \"final_price\": regexp_replace(col(\"price_overview.final_formatted\"), \"[P,]\", \"\").cast(\"float\"),\n",
    "                     \"discount\": \"price_overview.discount_percent\"\n",
    "                     })"
   ]
  },
  {
   "cell_type": "code",
   "execution_count": 19,
   "id": "0b085289",
   "metadata": {},
   "outputs": [],
   "source": [
    "# Cleaning up language list\n",
    "df = df.withColumn(\"languages_clean\", regexp_replace(regexp_replace(col(\"supported_languages\"), \"<[^>]+>\", \"\"), \"\\\\*\", \"\"))\n",
    "df = df.withColumn(\"languages_clean\",regexp_replace(col(\"languages_clean\"), \"languages with full audio support\", \"\"))\n",
    "df = df.withColumn(\"languages\", split(col(\"languages_clean\"), \",\\\\s*\"))\n",
    "df = df.withColumn(\"languages\", expr(\"transform(languages, x -> trim(regexp_replace(x, ' - .*', '')))\"))\n",
    "df = df.withColumn(\"languages\", expr(\"transform(languages, x -> regexp_replace(x, ' - .*', ''))\"))"
   ]
  },
  {
   "cell_type": "code",
   "execution_count": 20,
   "id": "231b259d",
   "metadata": {},
   "outputs": [],
   "source": [
    "# Adding supported OS columns\n",
    "df = df.withColumns({\"linux\": \"platforms.linux\",\n",
    "                     \"mac\": \"platforms.mac\",\n",
    "                     \"pc\": \"platforms.windows\"})"
   ]
  },
  {
   "cell_type": "code",
   "execution_count": 21,
   "id": "5173110a",
   "metadata": {},
   "outputs": [],
   "source": [
    "def clean_requirements(df, column):\n",
    "    # Define schema for JSON\n",
    "    schema = StructType() \\\n",
    "        .add(\"minimum\", StringType()) \\\n",
    "        .add(\"recommended\", StringType())\n",
    "\n",
    "    cleaned_col = regexp_replace(\n",
    "        regexp_replace(\n",
    "            regexp_replace(\n",
    "                regexp_replace(\n",
    "                    regexp_replace(col(column), \"<[^>]+>\", \"\"),  # Remove HTML tags\n",
    "                    \"\\\\\\\\[nt]\", \"\"  # Remove \\n and \\t\n",
    "                ),\n",
    "                \"\\\\*\", \"\"  # Remove asterisks\n",
    "            ),\n",
    "            \"&nbsp;\", \"\"  # Remove HTML space entities (optional)\n",
    "        ),\n",
    "        \"\\\\s{2,}\", \" \"  # Replace multiple spaces with a single space\n",
    "    )\n",
    "\n",
    "    # Add cleaned column and parse it as JSON\n",
    "    df = df.withColumn(f\"{column}_clean\", cleaned_col)\n",
    "    df = df.withColumn(f\"{column}_map\", from_json(col(f\"{column}_clean\"), schema))\n",
    "\n",
    "    return df\n",
    "    \n",
    "df = clean_requirements(df, \"linux_requirements\")\n",
    "df = clean_requirements(df, \"mac_requirements\")\n",
    "df = clean_requirements(df, \"pc_requirements\")"
   ]
  },
  {
   "cell_type": "code",
   "execution_count": 22,
   "id": "6975b7cf",
   "metadata": {},
   "outputs": [],
   "source": [
    "# Unpacking release date\n",
    "df = df.withColumns({\"upcoming\": \"release_date.coming_soon\",\n",
    "                     \"date_released\": \"release_date.date\"})"
   ]
  },
  {
   "cell_type": "code",
   "execution_count": 23,
   "id": "1a5bacd7",
   "metadata": {},
   "outputs": [
    {
     "data": {
      "text/plain": [
       "[('ratings', 'string')]"
      ]
     },
     "execution_count": 23,
     "metadata": {},
     "output_type": "execute_result"
    }
   ],
   "source": [
    "df.select(\"ratings\").dtypes"
   ]
  },
  {
   "cell_type": "code",
   "execution_count": null,
   "id": "82584433",
   "metadata": {},
   "outputs": [],
   "source": [
    "# Reading ratings into StructType from String\n",
    "ratings_schema = StructType([\n",
    "    StructField(\"esrb\", StructType([\n",
    "        StructField(\"descriptors\", ArrayType(StringType()), True),\n",
    "        StructField(\"rating\", StringType(), True),\n",
    "        StructField(\"required_age\", IntegerType(), True)\n",
    "    ])),\n",
    "    StructField(\"pegi\", StructType([\n",
    "        StructField(\"descriptors\", ArrayType(StringType()), True),\n",
    "        StructField(\"rating\", StringType(), True),\n",
    "        StructField(\"required_age\", IntegerType(), True)\n",
    "    ]))\n",
    "])\n",
    "\n",
    "df = df.withColumn(\"ratings\", from_json(\"ratings\", ratings_schema))\n",
    "\n",
    "# PEGI & ESRB rating cleaning\n",
    "def clean_ratings(df, column, new_name):\n",
    "    cleaned_expr = f\"\"\"\n",
    "        transform(\n",
    "            {column},\n",
    "            x -> regexp_replace(regexp_replace(x, '<br\\\\\\\\s*/?>', ''), '<[^>]+>', '')\n",
    "        )\n",
    "    \"\"\"\n",
    "    return df.withColumn(new_name, expr(cleaned_expr))\n",
    "# ESRB\n",
    "df = clean_ratings(df, \"ratings.esrb.descriptors\", \"esrb_desc\")\n",
    "df = df.withColumns({\"esrb_rating\": \"ratings.esrb.rating\",\n",
    "                     \"esrb_age\": \"ratings.esrb.required_age\"})\n",
    "\n",
    "# PEGI\n",
    "df = clean_ratings(df, \"ratings.pegi.descriptors\", \"pegi_desc\")\n",
    "df = df.withColumns({\"pegi_ratings\": \"ratings.pegi.rating\",\n",
    "                     \"pegi_age\": \"ratings.pegi.required_age\"})"
   ]
  },
  {
   "cell_type": "code",
   "execution_count": 27,
   "id": "0d39b061",
   "metadata": {},
   "outputs": [
    {
     "name": "stdout",
     "output_type": "stream",
     "text": [
      "== Physical Plan ==\n",
      "AdaptiveSparkPlan (15)\n",
      "+- Project (14)\n",
      "   +- Project (13)\n",
      "      +- Project (12)\n",
      "         +- Project (11)\n",
      "            +- Project (10)\n",
      "               +- Project (9)\n",
      "                  +- Filter (8)\n",
      "                     +- Window (7)\n",
      "                        +- WindowGroupLimit (6)\n",
      "                           +- Sort (5)\n",
      "                              +- Exchange (4)\n",
      "                                 +- WindowGroupLimit (3)\n",
      "                                    +- Sort (2)\n",
      "                                       +- Scan json  (1)\n",
      "\n",
      "\n",
      "(1) Scan json \n",
      "Output [33]: [about_the_game#8, background#11, background_raw#12, capsule_image#13, capsule_imagev5#14, categories#15, content_descriptors#16, detailed_description#19, developers#20, genres#25, header_image#26, is_free#27, linux_requirements#29, mac_requirements#30, movies#32, name#33, package_groups#34, packages#35, pc_requirements#36, platforms#37, price_overview#38, publishers#39, ratings#40, recommendations#41, release_date#42, required_age#43, screenshots#45, short_description#46, steam_appid#47L, support_info#48, supported_languages#49, type#50, website#51]\n",
      "Batched: false\n",
      "Location: InMemoryFileIndex [file:/Users/ruizlorenzochavez/Downloads/steam/data/steam_data_2025-06-03.jsonl]\n",
      "ReadSchema: struct<about_the_game:string,background:string,background_raw:string,capsule_image:string,capsule_imagev5:string,categories:array<struct<description:string,id:bigint>>,content_descriptors:struct<ids:array<bigint>,notes:string>,detailed_description:string,developers:array<string>,genres:array<struct<description:string,id:string>>,header_image:string,is_free:boolean,linux_requirements:string,mac_requirements:string,movies:array<struct<highlight:boolean,id:bigint,mp4:struct<480:string,max:string>,name:string,thumbnail:string,webm:struct<480:string,max:string>>>,name:string,package_groups:array<struct<description:string,display_type:string,is_recurring_subscription:string,name:string,save_text:string,selection_text:string,subs:array<struct<can_get_free_license:string,is_free_license:boolean,option_description:string,option_text:string,packageid:bigint,percent_savings:bigint,percent_savings_text:string,price_in_cents_with_discount:bigint>>,title:string>>,packages:array<bigint>,pc_requirements:string,platforms:struct<linux:boolean,mac:boolean,windows:boolean>,price_overview:struct<currency:string,discount_percent:bigint,final:bigint,final_formatted:string,initial:bigint,initial_formatted:string,recurring_sub:bigint,recurring_sub_desc:string>,publishers:array<string>,ratings:string,recommendations:struct<total:bigint>,release_date:struct<coming_soon:boolean,date:string>,required_age:string,screenshots:array<struct<id:bigint,path_full:string,path_thumbnail:string>>,short_description:string,steam_appid:bigint,support_info:struct<email:string,url:string>,supported_languages:string,type:string,website:string>\n",
      "\n",
      "(2) Sort\n",
      "Input [33]: [about_the_game#8, background#11, background_raw#12, capsule_image#13, capsule_imagev5#14, categories#15, content_descriptors#16, detailed_description#19, developers#20, genres#25, header_image#26, is_free#27, linux_requirements#29, mac_requirements#30, movies#32, name#33, package_groups#34, packages#35, pc_requirements#36, platforms#37, price_overview#38, publishers#39, ratings#40, recommendations#41, release_date#42, required_age#43, screenshots#45, short_description#46, steam_appid#47L, support_info#48, supported_languages#49, type#50, website#51]\n",
      "Arguments: [steam_appid#47L ASC NULLS FIRST, recommendations#41 DESC NULLS LAST], false, 0\n",
      "\n",
      "(3) WindowGroupLimit\n",
      "Input [33]: [about_the_game#8, background#11, background_raw#12, capsule_image#13, capsule_imagev5#14, categories#15, content_descriptors#16, detailed_description#19, developers#20, genres#25, header_image#26, is_free#27, linux_requirements#29, mac_requirements#30, movies#32, name#33, package_groups#34, packages#35, pc_requirements#36, platforms#37, price_overview#38, publishers#39, ratings#40, recommendations#41, release_date#42, required_age#43, screenshots#45, short_description#46, steam_appid#47L, support_info#48, supported_languages#49, type#50, website#51]\n",
      "Arguments: [steam_appid#47L], [recommendations#41 DESC NULLS LAST], row_number(), 1, Partial\n",
      "\n",
      "(4) Exchange\n",
      "Input [33]: [about_the_game#8, background#11, background_raw#12, capsule_image#13, capsule_imagev5#14, categories#15, content_descriptors#16, detailed_description#19, developers#20, genres#25, header_image#26, is_free#27, linux_requirements#29, mac_requirements#30, movies#32, name#33, package_groups#34, packages#35, pc_requirements#36, platforms#37, price_overview#38, publishers#39, ratings#40, recommendations#41, release_date#42, required_age#43, screenshots#45, short_description#46, steam_appid#47L, support_info#48, supported_languages#49, type#50, website#51]\n",
      "Arguments: hashpartitioning(steam_appid#47L, 200), ENSURE_REQUIREMENTS, [plan_id=1508]\n",
      "\n",
      "(5) Sort\n",
      "Input [33]: [about_the_game#8, background#11, background_raw#12, capsule_image#13, capsule_imagev5#14, categories#15, content_descriptors#16, detailed_description#19, developers#20, genres#25, header_image#26, is_free#27, linux_requirements#29, mac_requirements#30, movies#32, name#33, package_groups#34, packages#35, pc_requirements#36, platforms#37, price_overview#38, publishers#39, ratings#40, recommendations#41, release_date#42, required_age#43, screenshots#45, short_description#46, steam_appid#47L, support_info#48, supported_languages#49, type#50, website#51]\n",
      "Arguments: [steam_appid#47L ASC NULLS FIRST, recommendations#41 DESC NULLS LAST], false, 0\n",
      "\n",
      "(6) WindowGroupLimit\n",
      "Input [33]: [about_the_game#8, background#11, background_raw#12, capsule_image#13, capsule_imagev5#14, categories#15, content_descriptors#16, detailed_description#19, developers#20, genres#25, header_image#26, is_free#27, linux_requirements#29, mac_requirements#30, movies#32, name#33, package_groups#34, packages#35, pc_requirements#36, platforms#37, price_overview#38, publishers#39, ratings#40, recommendations#41, release_date#42, required_age#43, screenshots#45, short_description#46, steam_appid#47L, support_info#48, supported_languages#49, type#50, website#51]\n",
      "Arguments: [steam_appid#47L], [recommendations#41 DESC NULLS LAST], row_number(), 1, Final\n",
      "\n",
      "(7) Window\n",
      "Input [33]: [about_the_game#8, background#11, background_raw#12, capsule_image#13, capsule_imagev5#14, categories#15, content_descriptors#16, detailed_description#19, developers#20, genres#25, header_image#26, is_free#27, linux_requirements#29, mac_requirements#30, movies#32, name#33, package_groups#34, packages#35, pc_requirements#36, platforms#37, price_overview#38, publishers#39, ratings#40, recommendations#41, release_date#42, required_age#43, screenshots#45, short_description#46, steam_appid#47L, support_info#48, supported_languages#49, type#50, website#51]\n",
      "Arguments: [row_number() windowspecdefinition(steam_appid#47L, recommendations#41 DESC NULLS LAST, specifiedwindowframe(RowFrame, unboundedpreceding$(), currentrow$())) AS rank#4033], [steam_appid#47L], [recommendations#41 DESC NULLS LAST]\n",
      "\n",
      "(8) Filter\n",
      "Input [34]: [about_the_game#8, background#11, background_raw#12, capsule_image#13, capsule_imagev5#14, categories#15, content_descriptors#16, detailed_description#19, developers#20, genres#25, header_image#26, is_free#27, linux_requirements#29, mac_requirements#30, movies#32, name#33, package_groups#34, packages#35, pc_requirements#36, platforms#37, price_overview#38, publishers#39, ratings#40, recommendations#41, release_date#42, required_age#43, screenshots#45, short_description#46, steam_appid#47L, support_info#48, supported_languages#49, type#50, website#51, rank#4033]\n",
      "Condition : (rank#4033 = 1)\n",
      "\n",
      "(9) Project\n",
      "Output [39]: [about_the_game#8, background#11, background_raw#12, capsule_image#13, capsule_imagev5#14, categories#15, content_descriptors#16, detailed_description#19, developers#20, genres#25, header_image#26, is_free#27, linux_requirements#29, mac_requirements#30, movies#32, name#33, package_groups#34, packages#35, pc_requirements#36, platforms#37, price_overview#38, publishers#39, ratings#40, release_date#42, required_age#43, screenshots#45, short_description#46, steam_appid#47L, support_info#48, supported_languages#49, type#50, website#51, transform(genres#25, lambdafunction(lambda x#5352.description, lambda x#5352, false)) AS genre_descriptions#5351, transform(categories#15, lambdafunction(lambda x#5387.description, lambda x#5387, false)) AS category_descriptions#5386, price_overview#38.currency AS currency#5422, cast(regexp_replace(price_overview#38.initial_formatted, [P,], , 1) as float) AS initial_price#5423, cast(regexp_replace(price_overview#38.final_formatted, [P,], , 1) as float) AS final_price#5424, price_overview#38.discount_percent AS discount#5425L, regexp_replace(regexp_replace(regexp_replace(supported_languages#49, <[^>]+>, , 1), \\*, , 1), languages with full audio support, , 1) AS languages_clean#5508]\n",
      "Input [34]: [about_the_game#8, background#11, background_raw#12, capsule_image#13, capsule_imagev5#14, categories#15, content_descriptors#16, detailed_description#19, developers#20, genres#25, header_image#26, is_free#27, linux_requirements#29, mac_requirements#30, movies#32, name#33, package_groups#34, packages#35, pc_requirements#36, platforms#37, price_overview#38, publishers#39, ratings#40, recommendations#41, release_date#42, required_age#43, screenshots#45, short_description#46, steam_appid#47L, support_info#48, supported_languages#49, type#50, website#51, rank#4033]\n",
      "\n",
      "(10) Project\n",
      "Output [44]: [about_the_game#8, background#11, background_raw#12, capsule_image#13, capsule_imagev5#14, categories#15, content_descriptors#16, detailed_description#19, developers#20, genres#25, header_image#26, is_free#27, linux_requirements#29, mac_requirements#30, movies#32, name#33, package_groups#34, packages#35, pc_requirements#36, platforms#37, price_overview#38, publishers#39, ratings#40, release_date#42, required_age#43, screenshots#45, short_description#46, steam_appid#47L, support_info#48, supported_languages#49, type#50, website#51, genre_descriptions#5351, category_descriptions#5386, currency#5422, initial_price#5423, final_price#5424, discount#5425L, languages_clean#5508, transform(transform(split(languages_clean#5508, ,\\s*, -1), lambdafunction(trim(regexp_replace(lambda x#5590,  - .*, , 1), None), lambda x#5590, false)), lambdafunction(regexp_replace(lambda x#5632,  - .*, , 1), lambda x#5632, false)) AS languages#5631, platforms#37.linux AS linux#5673, platforms#37.mac AS mac#5674, platforms#37.windows AS pc#5675, regexp_replace(regexp_replace(regexp_replace(regexp_replace(regexp_replace(linux_requirements#29, <[^>]+>, , 1), \\\\[nt], , 1), \\*, , 1), &nbsp;, , 1), \\s{2,},  , 1) AS linux_requirements_clean#5722]\n",
      "Input [39]: [about_the_game#8, background#11, background_raw#12, capsule_image#13, capsule_imagev5#14, categories#15, content_descriptors#16, detailed_description#19, developers#20, genres#25, header_image#26, is_free#27, linux_requirements#29, mac_requirements#30, movies#32, name#33, package_groups#34, packages#35, pc_requirements#36, platforms#37, price_overview#38, publishers#39, ratings#40, release_date#42, required_age#43, screenshots#45, short_description#46, steam_appid#47L, support_info#48, supported_languages#49, type#50, website#51, genre_descriptions#5351, category_descriptions#5386, currency#5422, initial_price#5423, final_price#5424, discount#5425L, languages_clean#5508]\n",
      "\n",
      "(11) Project\n",
      "Output [46]: [about_the_game#8, background#11, background_raw#12, capsule_image#13, capsule_imagev5#14, categories#15, content_descriptors#16, detailed_description#19, developers#20, genres#25, header_image#26, is_free#27, linux_requirements#29, mac_requirements#30, movies#32, name#33, package_groups#34, packages#35, pc_requirements#36, platforms#37, price_overview#38, publishers#39, ratings#40, release_date#42, required_age#43, screenshots#45, short_description#46, steam_appid#47L, support_info#48, supported_languages#49, type#50, website#51, genre_descriptions#5351, category_descriptions#5386, currency#5422, initial_price#5423, final_price#5424, discount#5425L, languages_clean#5508, languages#5631, linux#5673, mac#5674, pc#5675, linux_requirements_clean#5722, from_json(StructField(minimum,StringType,true), StructField(recommended,StringType,true), linux_requirements_clean#5722, Some(Asia/Manila)) AS linux_requirements_map#5767, regexp_replace(regexp_replace(regexp_replace(regexp_replace(regexp_replace(mac_requirements#30, <[^>]+>, , 1), \\\\[nt], , 1), \\*, , 1), &nbsp;, , 1), \\s{2,},  , 1) AS mac_requirements_clean#5813]\n",
      "Input [44]: [about_the_game#8, background#11, background_raw#12, capsule_image#13, capsule_imagev5#14, categories#15, content_descriptors#16, detailed_description#19, developers#20, genres#25, header_image#26, is_free#27, linux_requirements#29, mac_requirements#30, movies#32, name#33, package_groups#34, packages#35, pc_requirements#36, platforms#37, price_overview#38, publishers#39, ratings#40, release_date#42, required_age#43, screenshots#45, short_description#46, steam_appid#47L, support_info#48, supported_languages#49, type#50, website#51, genre_descriptions#5351, category_descriptions#5386, currency#5422, initial_price#5423, final_price#5424, discount#5425L, languages_clean#5508, languages#5631, linux#5673, mac#5674, pc#5675, linux_requirements_clean#5722]\n",
      "\n",
      "(12) Project\n",
      "Output [48]: [about_the_game#8, background#11, background_raw#12, capsule_image#13, capsule_imagev5#14, categories#15, content_descriptors#16, detailed_description#19, developers#20, genres#25, header_image#26, is_free#27, linux_requirements#29, mac_requirements#30, movies#32, name#33, package_groups#34, packages#35, pc_requirements#36, platforms#37, price_overview#38, publishers#39, ratings#40, release_date#42, required_age#43, screenshots#45, short_description#46, steam_appid#47L, support_info#48, supported_languages#49, type#50, website#51, genre_descriptions#5351, category_descriptions#5386, currency#5422, initial_price#5423, final_price#5424, discount#5425L, languages_clean#5508, languages#5631, linux#5673, mac#5674, pc#5675, linux_requirements_clean#5722, linux_requirements_map#5767, mac_requirements_clean#5813, from_json(StructField(minimum,StringType,true), StructField(recommended,StringType,true), mac_requirements_clean#5813, Some(Asia/Manila)) AS mac_requirements_map#5860, regexp_replace(regexp_replace(regexp_replace(regexp_replace(regexp_replace(pc_requirements#36, <[^>]+>, , 1), \\\\[nt], , 1), \\*, , 1), &nbsp;, , 1), \\s{2,},  , 1) AS pc_requirements_clean#5908]\n",
      "Input [46]: [about_the_game#8, background#11, background_raw#12, capsule_image#13, capsule_imagev5#14, categories#15, content_descriptors#16, detailed_description#19, developers#20, genres#25, header_image#26, is_free#27, linux_requirements#29, mac_requirements#30, movies#32, name#33, package_groups#34, packages#35, pc_requirements#36, platforms#37, price_overview#38, publishers#39, ratings#40, release_date#42, required_age#43, screenshots#45, short_description#46, steam_appid#47L, support_info#48, supported_languages#49, type#50, website#51, genre_descriptions#5351, category_descriptions#5386, currency#5422, initial_price#5423, final_price#5424, discount#5425L, languages_clean#5508, languages#5631, linux#5673, mac#5674, pc#5675, linux_requirements_clean#5722, linux_requirements_map#5767, mac_requirements_clean#5813]\n",
      "\n",
      "(13) Project\n",
      "Output [51]: [about_the_game#8, background#11, background_raw#12, capsule_image#13, capsule_imagev5#14, categories#15, content_descriptors#16, detailed_description#19, developers#20, genres#25, header_image#26, is_free#27, linux_requirements#29, mac_requirements#30, movies#32, name#33, package_groups#34, packages#35, pc_requirements#36, platforms#37, price_overview#38, publishers#39, from_json(StructField(esrb,StructType(StructField(descriptors,ArrayType(StringType,true),true),StructField(rating,StringType,true),StructField(required_age,IntegerType,true)),true), StructField(pegi,StructType(StructField(descriptors,ArrayType(StringType,true),true),StructField(rating,StringType,true),StructField(required_age,IntegerType,true)),true), ratings#40, Some(Asia/Manila)) AS ratings#6064, release_date#42, required_age#43, screenshots#45, short_description#46, steam_appid#47L, support_info#48, supported_languages#49, type#50, website#51, genre_descriptions#5351, category_descriptions#5386, currency#5422, initial_price#5423, final_price#5424, discount#5425L, languages_clean#5508, languages#5631, linux#5673, mac#5674, pc#5675, linux_requirements_clean#5722, linux_requirements_map#5767, mac_requirements_clean#5813, mac_requirements_map#5860, pc_requirements_clean#5908, from_json(StructField(minimum,StringType,true), StructField(recommended,StringType,true), pc_requirements_clean#5908, Some(Asia/Manila)) AS pc_requirements_map#5957, release_date#42.coming_soon AS upcoming#6007, release_date#42.date AS date_released#6008]\n",
      "Input [48]: [about_the_game#8, background#11, background_raw#12, capsule_image#13, capsule_imagev5#14, categories#15, content_descriptors#16, detailed_description#19, developers#20, genres#25, header_image#26, is_free#27, linux_requirements#29, mac_requirements#30, movies#32, name#33, package_groups#34, packages#35, pc_requirements#36, platforms#37, price_overview#38, publishers#39, ratings#40, release_date#42, required_age#43, screenshots#45, short_description#46, steam_appid#47L, support_info#48, supported_languages#49, type#50, website#51, genre_descriptions#5351, category_descriptions#5386, currency#5422, initial_price#5423, final_price#5424, discount#5425L, languages_clean#5508, languages#5631, linux#5673, mac#5674, pc#5675, linux_requirements_clean#5722, linux_requirements_map#5767, mac_requirements_clean#5813, mac_requirements_map#5860, pc_requirements_clean#5908]\n",
      "\n",
      "(14) Project\n",
      "Output [57]: [about_the_game#8, background#11, background_raw#12, capsule_image#13, capsule_imagev5#14, categories#15, content_descriptors#16, detailed_description#19, developers#20, genres#25, header_image#26, is_free#27, linux_requirements#29, mac_requirements#30, movies#32, name#33, package_groups#34, packages#35, pc_requirements#36, platforms#37, price_overview#38, publishers#39, ratings#6064, release_date#42, required_age#43, screenshots#45, short_description#46, steam_appid#47L, support_info#48, supported_languages#49, type#50, website#51, genre_descriptions#5351, category_descriptions#5386, currency#5422, initial_price#5423, final_price#5424, discount#5425L, languages_clean#5508, languages#5631, linux#5673, mac#5674, pc#5675, linux_requirements_clean#5722, linux_requirements_map#5767, mac_requirements_clean#5813, mac_requirements_map#5860, pc_requirements_clean#5908, pc_requirements_map#5957, upcoming#6007, date_released#6008, transform(ratings#6064.esrb.descriptors, lambdafunction(regexp_replace(regexp_replace(lambda x#6118, <br\\s*/?>, , 1), <[^>]+>, , 1), lambda x#6118, false)) AS esrb_desc#6116, ratings#6064.esrb.rating AS esrb_rating#6171, ratings#6064.esrb.required_age AS esrb_age#6172, transform(ratings#6064.pegi.descriptors, lambdafunction(regexp_replace(regexp_replace(lambda x#6231, <br\\s*/?>, , 1), <[^>]+>, , 1), lambda x#6231, false)) AS pegi_desc#6229, ratings#6064.pegi.rating AS pegi_ratings#6287, ratings#6064.pegi.required_age AS pegi_age#6288]\n",
      "Input [51]: [about_the_game#8, background#11, background_raw#12, capsule_image#13, capsule_imagev5#14, categories#15, content_descriptors#16, detailed_description#19, developers#20, genres#25, header_image#26, is_free#27, linux_requirements#29, mac_requirements#30, movies#32, name#33, package_groups#34, packages#35, pc_requirements#36, platforms#37, price_overview#38, publishers#39, ratings#6064, release_date#42, required_age#43, screenshots#45, short_description#46, steam_appid#47L, support_info#48, supported_languages#49, type#50, website#51, genre_descriptions#5351, category_descriptions#5386, currency#5422, initial_price#5423, final_price#5424, discount#5425L, languages_clean#5508, languages#5631, linux#5673, mac#5674, pc#5675, linux_requirements_clean#5722, linux_requirements_map#5767, mac_requirements_clean#5813, mac_requirements_map#5860, pc_requirements_clean#5908, pc_requirements_map#5957, upcoming#6007, date_released#6008]\n",
      "\n",
      "(15) AdaptiveSparkPlan\n",
      "Output [57]: [about_the_game#8, background#11, background_raw#12, capsule_image#13, capsule_imagev5#14, categories#15, content_descriptors#16, detailed_description#19, developers#20, genres#25, header_image#26, is_free#27, linux_requirements#29, mac_requirements#30, movies#32, name#33, package_groups#34, packages#35, pc_requirements#36, platforms#37, price_overview#38, publishers#39, ratings#6064, release_date#42, required_age#43, screenshots#45, short_description#46, steam_appid#47L, support_info#48, supported_languages#49, type#50, website#51, genre_descriptions#5351, category_descriptions#5386, currency#5422, initial_price#5423, final_price#5424, discount#5425L, languages_clean#5508, languages#5631, linux#5673, mac#5674, pc#5675, linux_requirements_clean#5722, linux_requirements_map#5767, mac_requirements_clean#5813, mac_requirements_map#5860, pc_requirements_clean#5908, pc_requirements_map#5957, upcoming#6007, date_released#6008, esrb_desc#6116, esrb_rating#6171, esrb_age#6172, pegi_desc#6229, pegi_ratings#6287, pegi_age#6288]\n",
      "Arguments: isFinalPlan=false\n",
      "\n",
      "\n"
     ]
    }
   ],
   "source": [
    "df.explain(mode=\"formatted\")"
   ]
  },
  {
   "cell_type": "code",
   "execution_count": 28,
   "id": "160e9af6",
   "metadata": {},
   "outputs": [
    {
     "name": "stderr",
     "output_type": "stream",
     "text": [
      "[Stage 39:====================================================>   (16 + 1) / 17]\r"
     ]
    },
    {
     "name": "stdout",
     "output_type": "stream",
     "text": [
      "+-----------+--------------------+--------------------+-----------+--------------------+---------------------+-------+--------+-------------+-----------+--------+--------------------+-----+----------------------+-----+--------------------+----+--------------------+--------+-------------+---------+-----------+--------+---------+------------+--------+\n",
      "|steam_appid|                name|          developers|       type|  genre_descriptions|category_descriptions|is_free|currency|initial_price|final_price|discount|           languages|linux|linux_requirements_map|  mac|mac_requirements_map|  pc| pc_requirements_map|upcoming|date_released|esrb_desc|esrb_rating|esrb_age|pegi_desc|pegi_ratings|pegi_age|\n",
      "+-----------+--------------------+--------------------+-----------+--------------------+---------------------+-------+--------+-------------+-----------+--------+--------------------+-----+----------------------+-----+--------------------+----+--------------------+--------+-------------+---------+-----------+--------+---------+------------+--------+\n",
      "|      22330|The Elder Scrolls...|[Bethesda Game St...|       game|                NULL| [Single-player, S...|  false|     PHP|       629.95|     157.48|      75|           [English]|false|          {NULL, NULL}|false|        {NULL, NULL}|true|{OS : Windows XP,...|   false| 16 Jun, 2009|     NULL|          m|    NULL|     NULL|        NULL|    NULL|\n",
      "|      34330| Total War: SHOGUN 2|[CREATIVE ASSEMBL...|       game|          [Strategy]| [Single-player, M...|  false|     PHP|         NULL|     994.95|       0|[English, Czech, ...| true|  {Minimum:OS: Stea...| true|{OS: macOS 10.14....|true|{Minimum:OS : Win...|   false| 15 Mar, 2011|     NULL|          t|    NULL|     NULL|          16|    NULL|\n",
      "|      38480|       Earthworm Jim|[Shiny Entertainm...|       game| [Action, Adventure]| [Single-player, F...|  false|     PHP|         NULL|     499.95|       0|           [English]| true|          {NULL, NULL}| true|        {NULL, NULL}|true|{OS: WindowsProce...|   false|  4 Nov, 2009|     NULL|       NULL|    NULL|     NULL|        NULL|    NULL|\n",
      "|      42680|Call of Duty®: Mo...|[Infinity Ward, S...|       game|            [Action]| [Single-player, M...|  false|     PHP|       2400.0|     1200.0|      50|[English, German,...|false|          {NULL, NULL}|false|{Operating System...|true|{OS Version: Wind...|   false|  7 Nov, 2011|     NULL|          m|    NULL|     NULL|          18|    NULL|\n",
      "|      50650|       Darksiders II|       [Vigil Games]|advertising|[Action, Adventur...| [Single-player, S...|  false|    NULL|         NULL|       NULL|    NULL|[Czech, Dutch, En...|false|          {NULL, NULL}|false|        {NULL, NULL}|true|{Minimum:OS : Win...|   false|             |     NULL|          m|    NULL|     NULL|          16|    NULL|\n",
      "|      90200|Farming Simulator...|   [Giants Software]|       game|        [Simulation]| [Single-player, M...|  false|     PHP|         NULL|     249.95|       0|   [English, German]|false|          {NULL, NULL}| true|{Minimum:OS: Mac ...|true|{Minimum:OS : Mic...|   false| 29 Oct, 2010|     NULL|          e|    NULL|     NULL|           3|    NULL|\n",
      "|      90207|Farming Simulator...|   [Giants Software]|        dlc|        [Simulation]| [Single-player, M...|  false|     PHP|         NULL|     159.95|       0|   [English, German]|false|          {NULL, NULL}|false|        {NULL, NULL}|true|{OS :Windows® XP ...|   false| 18 May, 2012|     NULL|       NULL|    NULL|     NULL|        NULL|    NULL|\n",
      "|      90208|Farming Simulator...|   [Giants Software]|        dlc|        [Simulation]| [Single-player, M...|  false|     PHP|         NULL|     159.95|       0|           [English]|false|          {NULL, NULL}|false|        {NULL, NULL}|true|{Minimum:OS : Mic...|   false| 29 Sep, 2011|     NULL|       NULL|    NULL|     NULL|        NULL|    NULL|\n",
      "|      90209|Farming Simulator...|   [Giants Software]|        dlc|        [Simulation]| [Single-player, M...|  false|     PHP|         NULL|     159.95|       0|           [English]|false|          {NULL, NULL}|false|        {NULL, NULL}|true|{Minimum:OS : Mic...|   false| 24 Jun, 2011|     NULL|       NULL|    NULL|     NULL|        NULL|    NULL|\n",
      "|      90210|Farming Simulator...|   [Giants Software]|        dlc|        [Simulation]| [Single-player, M...|  false|     PHP|         NULL|     159.95|       0|           [English]|false|          {NULL, NULL}|false|        {NULL, NULL}|true|{Minimum:OS : Mic...|   false| 20 Dec, 2010|     NULL|       NULL|    NULL|     NULL|        NULL|    NULL|\n",
      "|      90400|Blue Toad Murder ...|[Relentless Softw...|       game| [Adventure, Casual]| [Single-player, M...|  false|     PHP|         NULL|     165.95|       0|           [English]|false|          {NULL, NULL}|false|        {NULL, NULL}|true|{OS: XP/Vista/7Pr...|   false|  3 Dec, 2010|     NULL|        e10|    NULL|     NULL|           7|    NULL|\n",
      "|      90410|Blue Toad Murder ...|[Relentless Softw...|       demo| [Adventure, Casual]| [Single-player, M...|   true|    NULL|         NULL|       NULL|    NULL|           [English]|false|          {NULL, NULL}|false|        {NULL, NULL}|true|{OS: XP/Vista/7Pr...|   false| 15 Dec, 2010|     NULL|        e10|    NULL|     NULL|           7|    NULL|\n",
      "|      90500| Guardians of Graxia|                NULL|       game|          [Strategy]| [Single-player, S...|  false|    NULL|         NULL|       NULL|    NULL|           [English]|false|          {NULL, NULL}|false|        {NULL, NULL}|true|{OS : Windows XP,...|   false|  1 Nov, 2010|     NULL|       NULL|    NULL|     NULL|        NULL|    NULL|\n",
      "|      90503|Guardians of Grax...|  [Petroglyph Games]|        dlc|          [Strategy]| [Single-player, D...|  false|    NULL|         NULL|       NULL|    NULL|           [English]|false|          {NULL, NULL}|false|        {NULL, NULL}|true|{OS : Windows XP,...|   false|             |     NULL|       NULL|    NULL|     NULL|        NULL|    NULL|\n",
      "|      90504|Guardians of Grax...|                NULL|        dlc|          [Strategy]| [Single-player, D...|  false|    NULL|         NULL|       NULL|    NULL|           [English]|false|          {NULL, NULL}|false|        {NULL, NULL}|true|{OS : Windows XP,...|   false|  1 Feb, 2011|     NULL|       NULL|    NULL|     NULL|        NULL|    NULL|\n",
      "|      90520|Guardians of Grax...|        [Petroglyph]|       demo|          [Strategy]| [Single-player, G...|   true|    NULL|         NULL|       NULL|    NULL|           [English]|false|          {NULL, NULL}|false|        {NULL, NULL}|true|{OS: Windows XP, ...|   false|  2 Feb, 2011|     NULL|       NULL|    NULL|     NULL|        NULL|    NULL|\n",
      "|      91100|            SkyDrift|   [Digital Reality]|       game|     [Indie, Racing]| [Single-player, M...|  false|     PHP|         NULL|      349.0|       0|[English, French,...|false|          {NULL, NULL}|false|        {NULL, NULL}|true|{Minimum:OS : x86...|   false| 21 Nov, 2011|     NULL|       NULL|    NULL|     NULL|        NULL|    NULL|\n",
      "|      91104|SkyDrift: Extreme...|   [Digital Reality]|        dlc|            [Racing]| [Single-player, M...|  false|     PHP|         NULL|      69.95|       0|[English, French,...|false|          {NULL, NULL}|false|        {NULL, NULL}|true|{Minimum:OS : x86...|   false| 28 Nov, 2011|     NULL|       NULL|    NULL|     NULL|        NULL|    NULL|\n",
      "|      91106|SkyDrift: Gladiat...|   [Digital Reality]|        dlc|            [Racing]| [Single-player, M...|  false|     PHP|         NULL|      100.0|       0|[English, French,...|false|          {NULL, NULL}|false|        {NULL, NULL}|true|{Minimum:OS : x86...|   false| 28 Nov, 2011|     NULL|       NULL|    NULL|     NULL|        NULL|    NULL|\n",
      "|      91110|       SkyDrift Demo|   [Digital Reality]|       demo|                NULL|          [Game demo]|   true|    NULL|         NULL|       NULL|    NULL|                NULL|false|          {NULL, NULL}|false|        {NULL, NULL}|true|        {NULL, NULL}|   false| 29 Nov, 2011|     NULL|       NULL|    NULL|     NULL|        NULL|    NULL|\n",
      "+-----------+--------------------+--------------------+-----------+--------------------+---------------------+-------+--------+-------------+-----------+--------+--------------------+-----+----------------------+-----+--------------------+----+--------------------+--------+-------------+---------+-----------+--------+---------+------------+--------+\n",
      "only showing top 20 rows\n",
      "\n"
     ]
    },
    {
     "name": "stderr",
     "output_type": "stream",
     "text": [
      "                                                                                \r"
     ]
    }
   ],
   "source": [
    "select_cols = [\"steam_appid\", \n",
    "               \"name\", \n",
    "               \"developers\", \n",
    "               \"type\", \n",
    "               \"genre_descriptions\", \n",
    "               \"category_descriptions\", \n",
    "               \"is_free\",\n",
    "               \"currency\",\n",
    "               \"initial_price\",\n",
    "               \"final_price\",\n",
    "               \"discount\",\n",
    "               \"languages\",\n",
    "               \"linux\",\n",
    "               \"linux_requirements_map\",\n",
    "               \"mac\",\n",
    "               \"mac_requirements_map\",\n",
    "               \"pc\",\n",
    "               \"pc_requirements_map\",\n",
    "               \"upcoming\",\n",
    "               \"date_released\",\n",
    "               \"esrb_desc\",\n",
    "               \"esrb_rating\",\n",
    "               \"esrb_age\",\n",
    "               \"pegi_desc\",\n",
    "               \"pegi_ratings\",\n",
    "               \"pegi_age\"]\n",
    "processed_df = df.select(*select_cols)\n",
    "processed_df.orderBy(col(\"steam_appid\").asc()).show()"
   ]
  },
  {
   "cell_type": "markdown",
   "id": "53519bd2",
   "metadata": {},
   "source": [
    "# Exporting processed data to json"
   ]
  },
  {
   "cell_type": "code",
   "execution_count": null,
   "id": "9b52459d",
   "metadata": {},
   "outputs": [
    {
     "name": "stderr",
     "output_type": "stream",
     "text": [
      "                                                                                \r"
     ]
    }
   ],
   "source": [
    "df.coalesce(1).write.mode(\"append\").json(\"/Users/ruizlorenzochavez/Downloads/steam/data/processed_json\")"
   ]
  }
 ],
 "metadata": {
  "kernelspec": {
   "display_name": "dataeng",
   "language": "python",
   "name": "python3"
  },
  "language_info": {
   "codemirror_mode": {
    "name": "ipython",
    "version": 3
   },
   "file_extension": ".py",
   "mimetype": "text/x-python",
   "name": "python",
   "nbconvert_exporter": "python",
   "pygments_lexer": "ipython3",
   "version": "3.10.0"
  }
 },
 "nbformat": 4,
 "nbformat_minor": 5
}
