{
 "cells": [
  {
   "cell_type": "code",
   "execution_count": 4,
   "id": "1e65d86e-7017-4432-8973-7d404891cde4",
   "metadata": {},
   "outputs": [],
   "source": [
    "from pyspark.sql import SparkSession\n",
    "from pyspark.sql.functions import col, sum as _sum, when\n",
    "\n",
    "# spark = SparkSession.builder.getOrCreate()\n",
    "spark = SparkSession.builder \\\n",
    "    .master(\"local[1]\") \\\n",
    "    .config(\"spark.ui.port\", \"4040\") \\\n",
    "    .getOrCreate()\n"
   ]
  },
  {
   "cell_type": "code",
   "execution_count": 5,
   "id": "7dab9169-0903-4d2b-9af2-e4cdd505a8ec",
   "metadata": {},
   "outputs": [],
   "source": [
    "import pyspark.sql.functions as f"
   ]
  },
  {
   "cell_type": "code",
   "execution_count": 6,
   "id": "a4e71081-f0c2-45b8-8ccb-109f2b779daa",
   "metadata": {},
   "outputs": [
    {
     "data": {
      "text/plain": [
       "223874"
      ]
     },
     "execution_count": 6,
     "metadata": {},
     "output_type": "execute_result"
    }
   ],
   "source": [
    "df = spark.read.json([\n",
    "    \"/home/jovyan/data/test.jsonl\",\n",
    "    \"/home/jovyan/data/test2.jsonl\"\n",
    "])\n",
    "df.select('steam_appid').distinct().count()"
   ]
  },
  {
   "cell_type": "code",
   "execution_count": 7,
   "id": "6c41862a-807e-496f-af97-a893ef2320c1",
   "metadata": {},
   "outputs": [
    {
     "data": {
      "text/plain": [
       "223874"
      ]
     },
     "execution_count": 7,
     "metadata": {},
     "output_type": "execute_result"
    }
   ],
   "source": [
    "df = df.distinct()\n",
    "df.select('steam_appid').distinct().count()"
   ]
  },
  {
   "cell_type": "code",
   "execution_count": 8,
   "id": "bf754da0-e65b-4cf7-80fd-64e0b20b2b86",
   "metadata": {},
   "outputs": [
    {
     "name": "stdout",
     "output_type": "stream",
     "text": [
      "+--------------------+--------------------+---------------+--------------------+--------------------+--------------------+--------------------+--------------------+-------------------+------------------+------------+--------------------+--------------------+--------------------+----------+-----------------------+--------------------+--------------------+--------------------+-------+--------------------+------------------+----------------+--------------------+--------------------+--------------------+--------------------+--------+--------------------+--------------------+--------------------+--------------------+--------------------+---------------+--------------------+------------+--------------------+--------------------+--------------------+-----------+--------------------+--------------------+----+--------------------+\n",
      "|      about_the_game|        achievements|alternate_appid|          background|      background_raw|       capsule_image|     capsule_imagev5|          categories|content_descriptors|controller_support|       demos|detailed_description|          developers|                 dlc|drm_notice|ext_user_account_notice|            fullgame|              genres|        header_image|is_free|        legal_notice|linux_requirements|mac_requirements|          metacritic|              movies|                name|      package_groups|packages|     pc_requirements|           platforms|      price_overview|          publishers|             ratings|recommendations|        release_date|required_age|             reviews|         screenshots|   short_description|steam_appid|        support_info| supported_languages|type|             website|\n",
      "+--------------------+--------------------+---------------+--------------------+--------------------+--------------------+--------------------+--------------------+-------------------+------------------+------------+--------------------+--------------------+--------------------+----------+-----------------------+--------------------+--------------------+--------------------+-------+--------------------+------------------+----------------+--------------------+--------------------+--------------------+--------------------+--------+--------------------+--------------------+--------------------+--------------------+--------------------+---------------+--------------------+------------+--------------------+--------------------+--------------------+-----------+--------------------+--------------------+----+--------------------+\n",
      "|                    |                NULL|           NULL|https://store.aka...|https://store.aka...|https://shared.ak...|https://shared.ak...|   [{Game demo, 10}]|         {[], NULL}|              NULL|        NULL|                    |   [Digital Reality]|                NULL|      NULL|                   NULL|   {91100, SkyDrift}|                NULL|https://shared.ak...|   true|                NULL|                []|              []|          {73, NULL}|                NULL|       SkyDrift Demo|                  []|    NULL|                  []|{false, false, true}|                NULL|        [HandyGames]|                NULL|           NULL|{false, 29 Nov, 2...|           0|                NULL|                NULL|                    |      91110|{support@quanticl...|                NULL|demo|                NULL|\n",
      "|                    |                NULL|           NULL|https://store.aka...|https://store.aka...|https://shared.ak...|https://shared.ak...|[{Family Sharing,...|         {[], NULL}|              NULL|        NULL|                    |    [Telltale Games]|                NULL|      NULL|                   NULL|                NULL|                NULL|https://shared.ak...|  false|                NULL|                []|              []|                NULL|                NULL|Back to the Futur...|                  []|    NULL|                  []| {false, true, true}|                NULL|    [Telltale Games]|                NULL|           NULL|           {false, }|           0|                NULL|                NULL|                    |      94520|                {, }|                NULL|game|                NULL|\n",
      "|                    |                NULL|           NULL|https://store.aka...|https://store.aka...|https://shared.ak...|https://shared.ak...|[{Single-player, ...|         {[], NULL}|              NULL|        NULL|                    |       [Secret Base]|                NULL|      NULL|                   NULL|{105700, Tobe's V...|[{Adventure, 25},...|https://shared.ak...|   true|                NULL|                []|              []|          {75, NULL}|                NULL|Tobe's Vertical A...|                  []|    NULL|                  []|{false, false, true}|                NULL|                NULL|                NULL|           NULL|{false, 18 Jul, 2...|           0|                NULL|                NULL|                    |     105710|                {, }|             English|demo|                NULL|\n",
      "|You’ve tossed, bu...|{[{I Could Do Thi...|           NULL|https://store.aka...|https://shared.ak...|https://shared.ak...|https://shared.ak...|[{Single-player, ...|         {[], NULL}|              full|[{215020, }]|You’ve tossed, bu...|[Robot Entertainm...|[201802, 201804, ...|      NULL|                   NULL|                NULL|[{Action, 1}, {Ad...|https://shared.ak...|  false|© 2021 Robot Ente...|                []|              []|{83, https://www....|[{true, 256729816...|    Orcs Must Die! 2|[{, 0, false, def...| [15594]|{\"minimum\":\"<stro...|{false, false, true}|{PHP, 70, 11698, ...|[Robot Entertainm...|{\"pegi\":{\"rating\"...|        {12678}|{false, 30 Jul, 2...|           0|<strong>IGN: 9/10...|[{0, https://shar...|You’ve tossed, bu...|     201790|{support@robotent...|English<strong>*<...|game|https://robotente...|\n",
      "|Experience The El...|                NULL|           NULL|https://store.aka...|https://store.aka...|https://shared.ak...|https://shared.ak...|[{Single-player, ...|        {[5], NULL}|              NULL|        NULL|Experience The El...|[Bethesda Game St...|                NULL|      NULL|                   NULL|{72850, The Elder...|          [{RPG, 3}]|https://shared.ak...|   true|The Elder Scrolls...|                []|              []|                NULL|                NULL|Skyrim: High Reso...|[{, 0, false, def...| [13437]|{\"recommended\":\"<...|{false, false, true}|                NULL|[Bethesda Softworks]|                NULL|           NULL|{false, 7 Feb, 2012}|           0|                NULL|[{0, https://shar...|Experience The El...|     202485|                {, }|English, French, ...| dlc|http://elderscrol...|\n",
      "+--------------------+--------------------+---------------+--------------------+--------------------+--------------------+--------------------+--------------------+-------------------+------------------+------------+--------------------+--------------------+--------------------+----------+-----------------------+--------------------+--------------------+--------------------+-------+--------------------+------------------+----------------+--------------------+--------------------+--------------------+--------------------+--------+--------------------+--------------------+--------------------+--------------------+--------------------+---------------+--------------------+------------+--------------------+--------------------+--------------------+-----------+--------------------+--------------------+----+--------------------+\n",
      "only showing top 5 rows\n",
      "\n"
     ]
    }
   ],
   "source": [
    "df.show(5)"
   ]
  },
  {
   "cell_type": "code",
   "execution_count": 9,
   "id": "c8772703-d3f0-4531-af2f-bcf536514bf6",
   "metadata": {},
   "outputs": [
    {
     "name": "stdout",
     "output_type": "stream",
     "text": [
      "root\n",
      " |-- about_the_game: string (nullable = true)\n",
      " |-- achievements: struct (nullable = true)\n",
      " |    |-- highlighted: array (nullable = true)\n",
      " |    |    |-- element: struct (containsNull = true)\n",
      " |    |    |    |-- name: string (nullable = true)\n",
      " |    |    |    |-- path: string (nullable = true)\n",
      " |    |-- total: long (nullable = true)\n",
      " |-- alternate_appid: string (nullable = true)\n",
      " |-- background: string (nullable = true)\n",
      " |-- background_raw: string (nullable = true)\n",
      " |-- capsule_image: string (nullable = true)\n",
      " |-- capsule_imagev5: string (nullable = true)\n",
      " |-- categories: array (nullable = true)\n",
      " |    |-- element: struct (containsNull = true)\n",
      " |    |    |-- description: string (nullable = true)\n",
      " |    |    |-- id: long (nullable = true)\n",
      " |-- content_descriptors: struct (nullable = true)\n",
      " |    |-- ids: array (nullable = true)\n",
      " |    |    |-- element: long (containsNull = true)\n",
      " |    |-- notes: string (nullable = true)\n",
      " |-- controller_support: string (nullable = true)\n",
      " |-- demos: array (nullable = true)\n",
      " |    |-- element: struct (containsNull = true)\n",
      " |    |    |-- appid: long (nullable = true)\n",
      " |    |    |-- description: string (nullable = true)\n",
      " |-- detailed_description: string (nullable = true)\n",
      " |-- developers: array (nullable = true)\n",
      " |    |-- element: string (containsNull = true)\n",
      " |-- dlc: array (nullable = true)\n",
      " |    |-- element: long (containsNull = true)\n",
      " |-- drm_notice: string (nullable = true)\n",
      " |-- ext_user_account_notice: string (nullable = true)\n",
      " |-- fullgame: struct (nullable = true)\n",
      " |    |-- appid: string (nullable = true)\n",
      " |    |-- name: string (nullable = true)\n",
      " |-- genres: array (nullable = true)\n",
      " |    |-- element: struct (containsNull = true)\n",
      " |    |    |-- description: string (nullable = true)\n",
      " |    |    |-- id: string (nullable = true)\n",
      " |-- header_image: string (nullable = true)\n",
      " |-- is_free: boolean (nullable = true)\n",
      " |-- legal_notice: string (nullable = true)\n",
      " |-- linux_requirements: string (nullable = true)\n",
      " |-- mac_requirements: string (nullable = true)\n",
      " |-- metacritic: struct (nullable = true)\n",
      " |    |-- score: long (nullable = true)\n",
      " |    |-- url: string (nullable = true)\n",
      " |-- movies: array (nullable = true)\n",
      " |    |-- element: struct (containsNull = true)\n",
      " |    |    |-- highlight: boolean (nullable = true)\n",
      " |    |    |-- id: long (nullable = true)\n",
      " |    |    |-- mp4: struct (nullable = true)\n",
      " |    |    |    |-- 480: string (nullable = true)\n",
      " |    |    |    |-- max: string (nullable = true)\n",
      " |    |    |-- name: string (nullable = true)\n",
      " |    |    |-- thumbnail: string (nullable = true)\n",
      " |    |    |-- webm: struct (nullable = true)\n",
      " |    |    |    |-- 480: string (nullable = true)\n",
      " |    |    |    |-- max: string (nullable = true)\n",
      " |-- name: string (nullable = true)\n",
      " |-- package_groups: array (nullable = true)\n",
      " |    |-- element: struct (containsNull = true)\n",
      " |    |    |-- description: string (nullable = true)\n",
      " |    |    |-- display_type: string (nullable = true)\n",
      " |    |    |-- is_recurring_subscription: string (nullable = true)\n",
      " |    |    |-- name: string (nullable = true)\n",
      " |    |    |-- save_text: string (nullable = true)\n",
      " |    |    |-- selection_text: string (nullable = true)\n",
      " |    |    |-- subs: array (nullable = true)\n",
      " |    |    |    |-- element: struct (containsNull = true)\n",
      " |    |    |    |    |-- can_get_free_license: string (nullable = true)\n",
      " |    |    |    |    |-- is_free_license: boolean (nullable = true)\n",
      " |    |    |    |    |-- option_description: string (nullable = true)\n",
      " |    |    |    |    |-- option_text: string (nullable = true)\n",
      " |    |    |    |    |-- packageid: long (nullable = true)\n",
      " |    |    |    |    |-- percent_savings: long (nullable = true)\n",
      " |    |    |    |    |-- percent_savings_text: string (nullable = true)\n",
      " |    |    |    |    |-- price_in_cents_with_discount: long (nullable = true)\n",
      " |    |    |-- title: string (nullable = true)\n",
      " |-- packages: array (nullable = true)\n",
      " |    |-- element: long (containsNull = true)\n",
      " |-- pc_requirements: string (nullable = true)\n",
      " |-- platforms: struct (nullable = true)\n",
      " |    |-- linux: boolean (nullable = true)\n",
      " |    |-- mac: boolean (nullable = true)\n",
      " |    |-- windows: boolean (nullable = true)\n",
      " |-- price_overview: struct (nullable = true)\n",
      " |    |-- currency: string (nullable = true)\n",
      " |    |-- discount_percent: long (nullable = true)\n",
      " |    |-- final: long (nullable = true)\n",
      " |    |-- final_formatted: string (nullable = true)\n",
      " |    |-- initial: long (nullable = true)\n",
      " |    |-- initial_formatted: string (nullable = true)\n",
      " |    |-- recurring_sub: long (nullable = true)\n",
      " |    |-- recurring_sub_desc: string (nullable = true)\n",
      " |-- publishers: array (nullable = true)\n",
      " |    |-- element: string (containsNull = true)\n",
      " |-- ratings: string (nullable = true)\n",
      " |-- recommendations: struct (nullable = true)\n",
      " |    |-- total: long (nullable = true)\n",
      " |-- release_date: struct (nullable = true)\n",
      " |    |-- coming_soon: boolean (nullable = true)\n",
      " |    |-- date: string (nullable = true)\n",
      " |-- required_age: string (nullable = true)\n",
      " |-- reviews: string (nullable = true)\n",
      " |-- screenshots: array (nullable = true)\n",
      " |    |-- element: struct (containsNull = true)\n",
      " |    |    |-- id: long (nullable = true)\n",
      " |    |    |-- path_full: string (nullable = true)\n",
      " |    |    |-- path_thumbnail: string (nullable = true)\n",
      " |-- short_description: string (nullable = true)\n",
      " |-- steam_appid: long (nullable = true)\n",
      " |-- support_info: struct (nullable = true)\n",
      " |    |-- email: string (nullable = true)\n",
      " |    |-- url: string (nullable = true)\n",
      " |-- supported_languages: string (nullable = true)\n",
      " |-- type: string (nullable = true)\n",
      " |-- website: string (nullable = true)\n",
      "\n"
     ]
    }
   ],
   "source": [
    "df.printSchema()"
   ]
  },
  {
   "cell_type": "code",
   "execution_count": 10,
   "id": "5fb49751-a57a-46c9-be66-b06ab92944f4",
   "metadata": {},
   "outputs": [
    {
     "name": "stdout",
     "output_type": "stream",
     "text": [
      "+-------+--------------------+------------------+--------------------+--------------------+--------------------+--------------------+------------------+--------------------+------------------------+--------------------------+--------------------+---------------------+--------------------+--------------------+--------+--------------------+--------------------+------------------+------------------------+--------------------+------------------+--------------------+-----------+--------------------+\n",
      "|summary|      about_the_game|   alternate_appid|          background|      background_raw|       capsule_image|     capsule_imagev5|controller_support|detailed_description|              drm_notice|   ext_user_account_notice|        header_image|         legal_notice|  linux_requirements|    mac_requirements|    name|     pc_requirements|             ratings|      required_age|                 reviews|   short_description|       steam_appid| supported_languages|       type|             website|\n",
      "+-------+--------------------+------------------+--------------------+--------------------+--------------------+--------------------+------------------+--------------------+------------------------+--------------------------+--------------------+---------------------+--------------------+--------------------+--------+--------------------+--------------------+------------------+------------------------+--------------------+------------------+--------------------+-----------+--------------------+\n",
      "|  count|              223893|                14|              223893|              223893|              223893|              223893|             55687|              223893|                    1208|                      2048|              223893|                70537|              223893|              223893|  223893|              223893|              178050|            223893|                   12891|              223893|            223893|              207952|     223893|              102824|\n",
      "|   mean|                NULL|206317.64285714287|                NULL|                NULL|                NULL|                NULL|              NULL|                NULL|                    NULL|                      NULL|                NULL|   1439.7142857142858|                NULL|                NULL|Infinity|                NULL|                NULL|0.6658463160151504|                    NULL|                 1.0|1942528.7870679297|                NULL|       NULL|                NULL|\n",
      "| stddev|                NULL|341086.40801587264|                NULL|                NULL|                NULL|                NULL|              NULL|                NULL|                    NULL|                      NULL|                NULL|    982.8559939085201|                NULL|                NULL|     NaN|                NULL|                NULL|211.34749034289402|                    NULL|                NULL|1006721.9401962159|                NULL|       NULL|                NULL|\n",
      "|    min|                    |           1031360|https://store.aka...|https://shared.ak...|https://shared.ak...|https://shared.ak...|              full|                    |    -<br>- machine ac...|                        - |https://shared.ak...|                     |                  []|                  []|        |                  []|                    |                 0|    \\n\\t\\t\\t\\t\\t<p>\\n...|                    |                10|              Arabic|advertising|                    |\n",
      "|    max|🩸 Gore Mode Unle...|            900967|https://store.aka...|https://store.aka...|https://shared.ak...|https://shared.ak...|              full|🩸 Gore Mode Unle...|闪晃<br>闪晃 machine ...|타사 계정 필요: Google ...|https://shared.ak...|🔸 🔹 🔶 🔷【ᴄᴏᴘʏʀ...|{\"recommended\":\"D...|{\"recommended\":\"O...|      𣸩|{\"recommended\":\"<...|{\"video\":{\"use_ag...|              １８|焯 – 我超<br><br>值 –...|🪀💥YOU ARE A YOY...|           3789110|Vietnamese<strong...|      video|www.zombiedriver.com|\n",
      "+-------+--------------------+------------------+--------------------+--------------------+--------------------+--------------------+------------------+--------------------+------------------------+--------------------------+--------------------+---------------------+--------------------+--------------------+--------+--------------------+--------------------+------------------+------------------------+--------------------+------------------+--------------------+-----------+--------------------+\n",
      "\n"
     ]
    }
   ],
   "source": [
    "df.describe().show()\n"
   ]
  },
  {
   "cell_type": "markdown",
   "id": "4a705884-f152-4a0c-b907-868d7694e8e4",
   "metadata": {},
   "source": [
    "# Remove duplicates"
   ]
  },
  {
   "cell_type": "code",
   "execution_count": 11,
   "id": "d92d5a88-568c-4ae1-b784-b830e4591cc7",
   "metadata": {},
   "outputs": [
    {
     "name": "stdout",
     "output_type": "stream",
     "text": [
      "+-----------+--------+\n",
      "|steam_appid|count(1)|\n",
      "+-----------+--------+\n",
      "|     412020|       2|\n",
      "|        400|       2|\n",
      "|      10180|       2|\n",
      "|      33230|       2|\n",
      "|      32460|       2|\n",
      "|     244450|       2|\n",
      "|      38480|       2|\n",
      "|     311210|       3|\n",
      "|    2195250|       3|\n",
      "|      22330|       2|\n",
      "|    2669320|       2|\n",
      "|      34330|       2|\n",
      "|     238210|       2|\n",
      "|     359550|       2|\n",
      "|        620|       2|\n",
      "|      42680|       2|\n",
      "|    1426210|       2|\n",
      "+-----------+--------+\n",
      "\n"
     ]
    }
   ],
   "source": [
    "df.groupBy(\"steam_appid\").agg(f.count(\"*\")).filter(col('count(1)')>1).show()"
   ]
  },
  {
   "cell_type": "code",
   "execution_count": 12,
   "id": "830b089a-7f23-40f8-97a4-92d47311c614",
   "metadata": {},
   "outputs": [],
   "source": [
    "def find_differences_by_id(df, id_col):\n",
    "    dup_ids = df.groupBy(id_col).count().filter(col(\"count\") > 1).select(id_col)\n",
    "    dup_df = df.join(dup_ids, on=id_col, how=\"inner\")\n",
    "\n",
    "    cols_to_check = [c for c in df.columns if c != id_col]\n",
    "\n",
    "    diff_exprs = [\n",
    "        f.collect_set(col(c)).alias(c) for c in cols_to_check\n",
    "    ]\n",
    "\n",
    "    grouped = dup_df.groupBy(id_col).agg(*diff_exprs)\n",
    "\n",
    "    mismatch_exprs = [\n",
    "        (f.size(col(c)) > 1).alias(c) for c in cols_to_check\n",
    "    ]\n",
    "\n",
    "    mismatches = grouped.select(id_col, *mismatch_exprs)\n",
    "\n",
    "    mismatch_long = mismatches.selectExpr(\n",
    "        f\"`{id_col}`\", \n",
    "        \"stack(\" + str(len(cols_to_check)) + \", \" +\n",
    "        \", \".join([f\"'{c}', {c}\" for c in cols_to_check]) +\n",
    "        \") as (column, has_difference)\"\n",
    "    ).filter(\"has_difference = true\")\n",
    "\n",
    "    return mismatch_long\n"
   ]
  },
  {
   "cell_type": "code",
   "execution_count": 13,
   "id": "f73fa899-1f41-4a0d-a23b-01a803b828e1",
   "metadata": {},
   "outputs": [
    {
     "name": "stdout",
     "output_type": "stream",
     "text": [
      "+-----------+--------------------+--------------+\n",
      "|steam_appid|              column|has_difference|\n",
      "+-----------+--------------------+--------------+\n",
      "|      32460|      about_the_game|          true|\n",
      "|      32460|          background|          true|\n",
      "|      32460|      background_raw|          true|\n",
      "|      32460|       capsule_image|          true|\n",
      "|      32460|     capsule_imagev5|          true|\n",
      "|      32460|          categories|          true|\n",
      "|      32460|detailed_description|          true|\n",
      "|      32460|        header_image|          true|\n",
      "|      32460|                name|          true|\n",
      "|      32460|      package_groups|          true|\n",
      "|      32460|     pc_requirements|          true|\n",
      "|      32460|             ratings|          true|\n",
      "|      32460|         screenshots|          true|\n",
      "|      32460|   short_description|          true|\n",
      "|      32460|        support_info|          true|\n",
      "|      32460| supported_languages|          true|\n",
      "|      32460|                type|          true|\n",
      "|      32460|             website|          true|\n",
      "|      22330|      about_the_game|          true|\n",
      "|      22330|          background|          true|\n",
      "|      22330|      background_raw|          true|\n",
      "|      22330|       capsule_image|          true|\n",
      "|      22330|     capsule_imagev5|          true|\n",
      "|      22330|detailed_description|          true|\n",
      "|      22330|          developers|          true|\n",
      "|      22330|        header_image|          true|\n",
      "|      22330|                name|          true|\n",
      "|      22330|      package_groups|          true|\n",
      "|      22330|            packages|          true|\n",
      "|      22330|      price_overview|          true|\n",
      "|      22330|     recommendations|          true|\n",
      "|      22330|         screenshots|          true|\n",
      "|      22330|   short_description|          true|\n",
      "|      22330|        support_info|          true|\n",
      "|      22330| supported_languages|          true|\n",
      "|     238210|     recommendations|          true|\n",
      "|     412020|     recommendations|          true|\n",
      "|      38480|      about_the_game|          true|\n",
      "|      38480|          background|          true|\n",
      "|      38480|      background_raw|          true|\n",
      "|      38480|       capsule_image|          true|\n",
      "|      38480|     capsule_imagev5|          true|\n",
      "|      38480|detailed_description|          true|\n",
      "|      38480|              genres|          true|\n",
      "|      38480|        header_image|          true|\n",
      "|      38480|  linux_requirements|          true|\n",
      "|      38480|    mac_requirements|          true|\n",
      "|      38480|     pc_requirements|          true|\n",
      "|      38480|        release_date|          true|\n",
      "|      38480|         screenshots|          true|\n",
      "|      38480|   short_description|          true|\n",
      "|      38480|        support_info|          true|\n",
      "|    2669320|     recommendations|          true|\n",
      "|     311210|     recommendations|          true|\n",
      "|     244450|     recommendations|          true|\n",
      "|    2195250|      about_the_game|          true|\n",
      "|    2195250|          background|          true|\n",
      "|    2195250|      background_raw|          true|\n",
      "|    2195250|       capsule_image|          true|\n",
      "|    2195250|     capsule_imagev5|          true|\n",
      "|    2195250|detailed_description|          true|\n",
      "|    2195250|        header_image|          true|\n",
      "|    2195250|     recommendations|          true|\n",
      "|    2195250|         screenshots|          true|\n",
      "|     359550|     recommendations|          true|\n",
      "|        400|     recommendations|          true|\n",
      "|      10180|     recommendations|          true|\n",
      "|      33230|     recommendations|          true|\n",
      "|        620|     recommendations|          true|\n",
      "|      42680|     recommendations|          true|\n",
      "|      34330|     recommendations|          true|\n",
      "|    1426210|      about_the_game|          true|\n",
      "|    1426210|          background|          true|\n",
      "|    1426210|      background_raw|          true|\n",
      "|    1426210|       capsule_image|          true|\n",
      "|    1426210|     capsule_imagev5|          true|\n",
      "|    1426210|          categories|          true|\n",
      "|    1426210|detailed_description|          true|\n",
      "|    1426210|          developers|          true|\n",
      "|    1426210|              genres|          true|\n",
      "|    1426210|        header_image|          true|\n",
      "|    1426210|        legal_notice|          true|\n",
      "|    1426210|                name|          true|\n",
      "|    1426210|      package_groups|          true|\n",
      "|    1426210|            packages|          true|\n",
      "|    1426210|             ratings|          true|\n",
      "|    1426210|     recommendations|          true|\n",
      "|    1426210|        release_date|          true|\n",
      "|    1426210|         screenshots|          true|\n",
      "|    1426210|   short_description|          true|\n",
      "|    1426210| supported_languages|          true|\n",
      "+-----------+--------------------+--------------+\n",
      "\n"
     ]
    }
   ],
   "source": [
    "result = find_differences_by_id(df, \"steam_appid\")\n",
    "result.show(100)"
   ]
  },
  {
   "cell_type": "code",
   "execution_count": 14,
   "id": "0939bf4a-7934-4e3d-8fb4-c1bb2839bef8",
   "metadata": {},
   "outputs": [],
   "source": [
    "df.createOrReplaceTempView(\"df\")\n"
   ]
  },
  {
   "cell_type": "code",
   "execution_count": 15,
   "id": "e140bb21-f657-442a-9dcb-9f3223e0bb79",
   "metadata": {},
   "outputs": [
    {
     "name": "stdout",
     "output_type": "stream",
     "text": [
      "+---------------+----+\n",
      "|recommendations|rank|\n",
      "+---------------+----+\n",
      "|        {35065}|   1|\n",
      "|        {35062}|   2|\n",
      "+---------------+----+\n",
      "\n"
     ]
    }
   ],
   "source": [
    "spark.sql(\"\"\"\n",
    "SELECT recommendations, ROW_NUMBER() OVER (PARTITION BY steam_appid ORDER BY recommendations DESC) AS rank FROM df WHERE steam_appid = '34330'\n",
    "\"\"\").show()"
   ]
  },
  {
   "cell_type": "code",
   "execution_count": 16,
   "id": "cc167fa4-3650-4461-a6c6-97352be06bda",
   "metadata": {},
   "outputs": [],
   "source": [
    "df = spark.sql(\"\"\"\n",
    "SELECT *\n",
    "FROM\n",
    "(SELECT *, ROW_NUMBER() OVER (PARTITION BY steam_appid ORDER BY recommendations DESC) AS rank FROM df)\n",
    "WHERE rank = 1\n",
    "\"\"\").drop(\"rank\")"
   ]
  },
  {
   "cell_type": "code",
   "execution_count": 17,
   "id": "6916766a-dfc7-4c93-9009-bc82e6db7362",
   "metadata": {},
   "outputs": [
    {
     "name": "stdout",
     "output_type": "stream",
     "text": [
      "+-----------+------+--------------+\n",
      "|steam_appid|column|has_difference|\n",
      "+-----------+------+--------------+\n",
      "+-----------+------+--------------+\n",
      "\n"
     ]
    }
   ],
   "source": [
    "result = find_differences_by_id(df, \"steam_appid\")\n",
    "result.show(5)"
   ]
  },
  {
   "cell_type": "code",
   "execution_count": 18,
   "id": "a35efd8c-1157-4a3d-8b4f-1c734f97b0f4",
   "metadata": {},
   "outputs": [
    {
     "data": {
      "text/plain": [
       "223874"
      ]
     },
     "execution_count": 18,
     "metadata": {},
     "output_type": "execute_result"
    }
   ],
   "source": [
    "df.count()"
   ]
  },
  {
   "cell_type": "code",
   "execution_count": 30,
   "id": "63b952ec-2723-4f66-9155-122afe10cdc3",
   "metadata": {},
   "outputs": [
    {
     "name": "stdout",
     "output_type": "stream",
     "text": [
      "+-----------+--------+\n",
      "|steam_appid|count(1)|\n",
      "+-----------+--------+\n",
      "+-----------+--------+\n",
      "\n"
     ]
    }
   ],
   "source": [
    "df.groupBy(\"steam_appid\").agg(f.count(\"*\")).filter(col('count(1)')>1).show()"
   ]
  },
  {
   "cell_type": "code",
   "execution_count": null,
   "id": "c85a06c8-5816-4cc4-a331-8fc18813977e",
   "metadata": {},
   "outputs": [],
   "source": []
  },
  {
   "cell_type": "markdown",
   "id": "35a63425-6e60-4a98-8834-73497e1a8d02",
   "metadata": {},
   "source": [
    "# Clean columns"
   ]
  },
  {
   "cell_type": "code",
   "execution_count": 19,
   "id": "cd91ab29-abb8-4954-b358-d1400b7d73e3",
   "metadata": {},
   "outputs": [],
   "source": [
    "def get_null_counts(df):\n",
    "    null_counts = df.select([\n",
    "        _sum(f.when(col(c).isNull(), 1).otherwise(0)).alias(c)\n",
    "        for c in df.columns\n",
    "    ])\n",
    "    \n",
    "    result = null_counts.selectExpr(\n",
    "        \"stack({0}, {1}) as (column_name, null_count)\".format(\n",
    "            len(df.columns),\n",
    "            \", \".join([f\"'{c}', `{c}`\" for c in df.columns])\n",
    "        )\n",
    "    )\n",
    "    \n",
    "    return result.orderBy(f.desc(\"null_count\"))\n"
   ]
  },
  {
   "cell_type": "code",
   "execution_count": 20,
   "id": "3d494d83-0f9c-44d6-b1c4-285759a19254",
   "metadata": {},
   "outputs": [
    {
     "name": "stdout",
     "output_type": "stream",
     "text": [
      "+--------------------+----------+--------------------+\n",
      "|         column_name|null_count|             percent|\n",
      "+--------------------+----------+--------------------+\n",
      "|     alternate_appid|    223860|  0.9999374648239635|\n",
      "|          drm_notice|    222669|  0.9946175080625709|\n",
      "|ext_user_account_...|    221832|  0.9908787978952447|\n",
      "|          metacritic|    218735|  0.9770451235963087|\n",
      "|             reviews|    210986|  0.9424319036600945|\n",
      "|                 dlc|    207705|  0.9277763384761071|\n",
      "|               demos|    204100|  0.9116735306467031|\n",
      "|     recommendations|    202386|  0.9040174383805176|\n",
      "|  controller_support|    168197|  0.7513020717010461|\n",
      "|        achievements|    166183|  0.7423059399483638|\n",
      "|        legal_notice|    153354|  0.6850013847074694|\n",
      "|            fullgame|    141271|  0.6310290609896638|\n",
      "|             website|    121069|  0.5407908019689647|\n",
      "|              movies|     86407|  0.3859626396991165|\n",
      "|      price_overview|     86339|  0.3856588974155105|\n",
      "|            packages|     84801|  0.3787889616480699|\n",
      "|             ratings|     45843|  0.2047714339315865|\n",
      "|              genres|     28239| 0.12613791686395026|\n",
      "|          publishers|     22349|  0.0998284749457284|\n",
      "| supported_languages|     15941| 0.07120523151415528|\n",
      "|         screenshots|     14911|  0.0666044292771827|\n",
      "|          categories|     12654| 0.05652286554043792|\n",
      "|          developers|      8371|0.037391568471550965|\n",
      "|      about_the_game|         0|                 0.0|\n",
      "|          background|         0|                 0.0|\n",
      "|      background_raw|         0|                 0.0|\n",
      "|       capsule_image|         0|                 0.0|\n",
      "|     capsule_imagev5|         0|                 0.0|\n",
      "| content_descriptors|         0|                 0.0|\n",
      "|detailed_description|         0|                 0.0|\n",
      "|        header_image|         0|                 0.0|\n",
      "|             is_free|         0|                 0.0|\n",
      "|  linux_requirements|         0|                 0.0|\n",
      "|    mac_requirements|         0|                 0.0|\n",
      "|                name|         0|                 0.0|\n",
      "|      package_groups|         0|                 0.0|\n",
      "|     pc_requirements|         0|                 0.0|\n",
      "|           platforms|         0|                 0.0|\n",
      "|        release_date|         0|                 0.0|\n",
      "|        required_age|         0|                 0.0|\n",
      "|   short_description|         0|                 0.0|\n",
      "|         steam_appid|         0|                 0.0|\n",
      "|        support_info|         0|                 0.0|\n",
      "|                type|         0|                 0.0|\n",
      "+--------------------+----------+--------------------+\n",
      "\n"
     ]
    }
   ],
   "source": [
    "null_summary = get_null_counts(df)\n",
    "null_summary = null_summary.withColumn(\"percent\", col(\"null_count\")/df.count())\n",
    "null_summary.show(100)"
   ]
  },
  {
   "cell_type": "code",
   "execution_count": 28,
   "id": "902f79d6-b9c6-4235-8eb9-7a9343ce795c",
   "metadata": {},
   "outputs": [],
   "source": [
    "null_columns = null_summary.filter('percent >=0.8').select('column_name').rdd.flatMap(lambda row:row).collect()"
   ]
  },
  {
   "cell_type": "code",
   "execution_count": 29,
   "id": "b8aa939b-4143-4785-9ccb-53ce58f58cd3",
   "metadata": {},
   "outputs": [],
   "source": [
    "df = df.drop(*null_columns)"
   ]
  },
  {
   "cell_type": "code",
   "execution_count": 31,
   "id": "00d40fed-c1c2-4fe0-908a-23683ee27e39",
   "metadata": {},
   "outputs": [
    {
     "name": "stdout",
     "output_type": "stream",
     "text": [
      "root\n",
      " |-- about_the_game: string (nullable = true)\n",
      " |-- achievements: struct (nullable = true)\n",
      " |    |-- highlighted: array (nullable = true)\n",
      " |    |    |-- element: struct (containsNull = true)\n",
      " |    |    |    |-- name: string (nullable = true)\n",
      " |    |    |    |-- path: string (nullable = true)\n",
      " |    |-- total: long (nullable = true)\n",
      " |-- background: string (nullable = true)\n",
      " |-- background_raw: string (nullable = true)\n",
      " |-- capsule_image: string (nullable = true)\n",
      " |-- capsule_imagev5: string (nullable = true)\n",
      " |-- categories: array (nullable = true)\n",
      " |    |-- element: struct (containsNull = true)\n",
      " |    |    |-- description: string (nullable = true)\n",
      " |    |    |-- id: long (nullable = true)\n",
      " |-- content_descriptors: struct (nullable = true)\n",
      " |    |-- ids: array (nullable = true)\n",
      " |    |    |-- element: long (containsNull = true)\n",
      " |    |-- notes: string (nullable = true)\n",
      " |-- controller_support: string (nullable = true)\n",
      " |-- detailed_description: string (nullable = true)\n",
      " |-- developers: array (nullable = true)\n",
      " |    |-- element: string (containsNull = true)\n",
      " |-- fullgame: struct (nullable = true)\n",
      " |    |-- appid: string (nullable = true)\n",
      " |    |-- name: string (nullable = true)\n",
      " |-- genres: array (nullable = true)\n",
      " |    |-- element: struct (containsNull = true)\n",
      " |    |    |-- description: string (nullable = true)\n",
      " |    |    |-- id: string (nullable = true)\n",
      " |-- header_image: string (nullable = true)\n",
      " |-- is_free: boolean (nullable = true)\n",
      " |-- legal_notice: string (nullable = true)\n",
      " |-- linux_requirements: string (nullable = true)\n",
      " |-- mac_requirements: string (nullable = true)\n",
      " |-- movies: array (nullable = true)\n",
      " |    |-- element: struct (containsNull = true)\n",
      " |    |    |-- highlight: boolean (nullable = true)\n",
      " |    |    |-- id: long (nullable = true)\n",
      " |    |    |-- mp4: struct (nullable = true)\n",
      " |    |    |    |-- 480: string (nullable = true)\n",
      " |    |    |    |-- max: string (nullable = true)\n",
      " |    |    |-- name: string (nullable = true)\n",
      " |    |    |-- thumbnail: string (nullable = true)\n",
      " |    |    |-- webm: struct (nullable = true)\n",
      " |    |    |    |-- 480: string (nullable = true)\n",
      " |    |    |    |-- max: string (nullable = true)\n",
      " |-- name: string (nullable = true)\n",
      " |-- package_groups: array (nullable = true)\n",
      " |    |-- element: struct (containsNull = true)\n",
      " |    |    |-- description: string (nullable = true)\n",
      " |    |    |-- display_type: string (nullable = true)\n",
      " |    |    |-- is_recurring_subscription: string (nullable = true)\n",
      " |    |    |-- name: string (nullable = true)\n",
      " |    |    |-- save_text: string (nullable = true)\n",
      " |    |    |-- selection_text: string (nullable = true)\n",
      " |    |    |-- subs: array (nullable = true)\n",
      " |    |    |    |-- element: struct (containsNull = true)\n",
      " |    |    |    |    |-- can_get_free_license: string (nullable = true)\n",
      " |    |    |    |    |-- is_free_license: boolean (nullable = true)\n",
      " |    |    |    |    |-- option_description: string (nullable = true)\n",
      " |    |    |    |    |-- option_text: string (nullable = true)\n",
      " |    |    |    |    |-- packageid: long (nullable = true)\n",
      " |    |    |    |    |-- percent_savings: long (nullable = true)\n",
      " |    |    |    |    |-- percent_savings_text: string (nullable = true)\n",
      " |    |    |    |    |-- price_in_cents_with_discount: long (nullable = true)\n",
      " |    |    |-- title: string (nullable = true)\n",
      " |-- packages: array (nullable = true)\n",
      " |    |-- element: long (containsNull = true)\n",
      " |-- pc_requirements: string (nullable = true)\n",
      " |-- platforms: struct (nullable = true)\n",
      " |    |-- linux: boolean (nullable = true)\n",
      " |    |-- mac: boolean (nullable = true)\n",
      " |    |-- windows: boolean (nullable = true)\n",
      " |-- price_overview: struct (nullable = true)\n",
      " |    |-- currency: string (nullable = true)\n",
      " |    |-- discount_percent: long (nullable = true)\n",
      " |    |-- final: long (nullable = true)\n",
      " |    |-- final_formatted: string (nullable = true)\n",
      " |    |-- initial: long (nullable = true)\n",
      " |    |-- initial_formatted: string (nullable = true)\n",
      " |    |-- recurring_sub: long (nullable = true)\n",
      " |    |-- recurring_sub_desc: string (nullable = true)\n",
      " |-- publishers: array (nullable = true)\n",
      " |    |-- element: string (containsNull = true)\n",
      " |-- ratings: string (nullable = true)\n",
      " |-- release_date: struct (nullable = true)\n",
      " |    |-- coming_soon: boolean (nullable = true)\n",
      " |    |-- date: string (nullable = true)\n",
      " |-- required_age: string (nullable = true)\n",
      " |-- screenshots: array (nullable = true)\n",
      " |    |-- element: struct (containsNull = true)\n",
      " |    |    |-- id: long (nullable = true)\n",
      " |    |    |-- path_full: string (nullable = true)\n",
      " |    |    |-- path_thumbnail: string (nullable = true)\n",
      " |-- short_description: string (nullable = true)\n",
      " |-- steam_appid: long (nullable = true)\n",
      " |-- support_info: struct (nullable = true)\n",
      " |    |-- email: string (nullable = true)\n",
      " |    |-- url: string (nullable = true)\n",
      " |-- supported_languages: string (nullable = true)\n",
      " |-- type: string (nullable = true)\n",
      " |-- website: string (nullable = true)\n",
      "\n"
     ]
    }
   ],
   "source": [
    "df.printSchema()"
   ]
  },
  {
   "cell_type": "code",
   "execution_count": null,
   "id": "dd0a1be1-4164-4cbf-8f5f-cd7fcae2e4d7",
   "metadata": {},
   "outputs": [],
   "source": [
    "df.select('achievements.total').show()"
   ]
  },
  {
   "cell_type": "code",
   "execution_count": null,
   "id": "1dbf5b21-bc6f-48bd-a9be-5fd3e87aca48",
   "metadata": {},
   "outputs": [],
   "source": [
    "df.groupBy(\"type\").agg(f.count(\"*\")).filter(col('count(1)')>1).show()"
   ]
  },
  {
   "cell_type": "code",
   "execution_count": null,
   "id": "53f33a29-7a39-43ed-9cb4-504b0c069616",
   "metadata": {},
   "outputs": [],
   "source": []
  },
  {
   "cell_type": "code",
   "execution_count": 22,
   "id": "c01b4e30-c7a7-41cf-83c9-65490cabb092",
   "metadata": {},
   "outputs": [
    {
     "name": "stdout",
     "output_type": "stream",
     "text": [
      "== Physical Plan ==\n",
      "AdaptiveSparkPlan (13)\n",
      "+- Project (12)\n",
      "   +- Filter (11)\n",
      "      +- Window (10)\n",
      "         +- WindowGroupLimit (9)\n",
      "            +- Sort (8)\n",
      "               +- Exchange (7)\n",
      "                  +- WindowGroupLimit (6)\n",
      "                     +- Sort (5)\n",
      "                        +- HashAggregate (4)\n",
      "                           +- Exchange (3)\n",
      "                              +- HashAggregate (2)\n",
      "                                 +- Scan json  (1)\n",
      "\n",
      "\n",
      "(1) Scan json \n",
      "Output [44]: [about_the_game#8, achievements#9, alternate_appid#10, background#11, background_raw#12, capsule_image#13, capsule_imagev5#14, categories#15, content_descriptors#16, controller_support#17, demos#18, detailed_description#19, developers#20, dlc#21, drm_notice#22, ext_user_account_notice#23, fullgame#24, genres#25, header_image#26, is_free#27, legal_notice#28, linux_requirements#29, mac_requirements#30, metacritic#31, movies#32, name#33, package_groups#34, packages#35, pc_requirements#36, platforms#37, price_overview#38, publishers#39, ratings#40, recommendations#41, release_date#42, required_age#43, reviews#44, screenshots#45, short_description#46, steam_appid#47L, support_info#48, supported_languages#49, type#50, website#51]\n",
      "Batched: false\n",
      "Location: InMemoryFileIndex [file:/home/jovyan/data/test.jsonl, ... 1 entries]\n",
      "ReadSchema: struct<about_the_game:string,achievements:struct<highlighted:array<struct<name:string,path:string>>,total:bigint>,alternate_appid:string,background:string,background_raw:string,capsule_image:string,capsule_imagev5:string,categories:array<struct<description:string,id:bigint>>,content_descriptors:struct<ids:array<bigint>,notes:string>,controller_support:string,demos:array<struct<appid:bigint,description:string>>,detailed_description:string,developers:array<string>,dlc:array<bigint>,drm_notice:string,ext_user_account_notice:string,fullgame:struct<appid:string,name:string>,genres:array<struct<description:string,id:string>>,header_image:string,is_free:boolean,legal_notice:string,linux_requirements:string,mac_requirements:string,metacritic:struct<score:bigint,url:string>,movies:array<struct<highlight:boolean,id:bigint,mp4:struct<480:string,max:string>,name:string,thumbnail:string,webm:struct<480:string,max:string>>>,name:string,package_groups:array<struct<description:string,display_type:string,is_recurring_subscription:string,name:string,save_text:string,selection_text:string,subs:array<struct<can_get_free_license:string,is_free_license:boolean,option_description:string,option_text:string,packageid:bigint,percent_savings:bigint,percent_savings_text:string,price_in_cents_with_discount:bigint>>,title:string>>,packages:array<bigint>,pc_requirements:string,platforms:struct<linux:boolean,mac:boolean,windows:boolean>,price_overview:struct<currency:string,discount_percent:bigint,final:bigint,final_formatted:string,initial:bigint,initial_formatted:string,recurring_sub:bigint,recurring_sub_desc:string>,publishers:array<string>,ratings:string,recommendations:struct<total:bigint>,release_date:struct<coming_soon:boolean,date:string>,required_age:string,reviews:string,screenshots:array<struct<id:bigint,path_full:string,path_thumbnail:string>>,short_description:string,steam_appid:bigint,support_info:struct<email:string,url:string>,supported_languages:string,type:string,website:string>\n",
      "\n",
      "(2) HashAggregate\n",
      "Input [44]: [about_the_game#8, achievements#9, alternate_appid#10, background#11, background_raw#12, capsule_image#13, capsule_imagev5#14, categories#15, content_descriptors#16, controller_support#17, demos#18, detailed_description#19, developers#20, dlc#21, drm_notice#22, ext_user_account_notice#23, fullgame#24, genres#25, header_image#26, is_free#27, legal_notice#28, linux_requirements#29, mac_requirements#30, metacritic#31, movies#32, name#33, package_groups#34, packages#35, pc_requirements#36, platforms#37, price_overview#38, publishers#39, ratings#40, recommendations#41, release_date#42, required_age#43, reviews#44, screenshots#45, short_description#46, steam_appid#47L, support_info#48, supported_languages#49, type#50, website#51]\n",
      "Keys [44]: [required_age#43, pc_requirements#36, detailed_description#19, website#51, name#33, background_raw#12, fullgame#24, price_overview#38, capsule_image#13, background#11, controller_support#17, ext_user_account_notice#23, demos#18, short_description#46, is_free#27, linux_requirements#29, capsule_imagev5#14, screenshots#45, support_info#48, header_image#26, movies#32, platforms#37, content_descriptors#16, legal_notice#28, supported_languages#49, release_date#42, package_groups#34, reviews#44, about_the_game#8, mac_requirements#30, genres#25, categories#15, dlc#21, ratings#40, publishers#39, metacritic#31, developers#20, alternate_appid#10, steam_appid#47L, type#50, drm_notice#22, recommendations#41, packages#35, achievements#9]\n",
      "Functions: []\n",
      "Aggregate Attributes: []\n",
      "Results [44]: [required_age#43, pc_requirements#36, detailed_description#19, website#51, name#33, background_raw#12, fullgame#24, price_overview#38, capsule_image#13, background#11, controller_support#17, ext_user_account_notice#23, demos#18, short_description#46, is_free#27, linux_requirements#29, capsule_imagev5#14, screenshots#45, support_info#48, header_image#26, movies#32, platforms#37, content_descriptors#16, legal_notice#28, supported_languages#49, release_date#42, package_groups#34, reviews#44, about_the_game#8, mac_requirements#30, genres#25, categories#15, dlc#21, ratings#40, publishers#39, metacritic#31, developers#20, alternate_appid#10, steam_appid#47L, type#50, drm_notice#22, recommendations#41, packages#35, achievements#9]\n",
      "\n",
      "(3) Exchange\n",
      "Input [44]: [required_age#43, pc_requirements#36, detailed_description#19, website#51, name#33, background_raw#12, fullgame#24, price_overview#38, capsule_image#13, background#11, controller_support#17, ext_user_account_notice#23, demos#18, short_description#46, is_free#27, linux_requirements#29, capsule_imagev5#14, screenshots#45, support_info#48, header_image#26, movies#32, platforms#37, content_descriptors#16, legal_notice#28, supported_languages#49, release_date#42, package_groups#34, reviews#44, about_the_game#8, mac_requirements#30, genres#25, categories#15, dlc#21, ratings#40, publishers#39, metacritic#31, developers#20, alternate_appid#10, steam_appid#47L, type#50, drm_notice#22, recommendations#41, packages#35, achievements#9]\n",
      "Arguments: hashpartitioning(required_age#43, pc_requirements#36, detailed_description#19, website#51, name#33, background_raw#12, fullgame#24, price_overview#38, capsule_image#13, background#11, controller_support#17, ext_user_account_notice#23, demos#18, short_description#46, is_free#27, linux_requirements#29, capsule_imagev5#14, screenshots#45, support_info#48, header_image#26, movies#32, platforms#37, content_descriptors#16, legal_notice#28, ... 21 more fields), ENSURE_REQUIREMENTS, [plan_id=3007]\n",
      "\n",
      "(4) HashAggregate\n",
      "Input [44]: [required_age#43, pc_requirements#36, detailed_description#19, website#51, name#33, background_raw#12, fullgame#24, price_overview#38, capsule_image#13, background#11, controller_support#17, ext_user_account_notice#23, demos#18, short_description#46, is_free#27, linux_requirements#29, capsule_imagev5#14, screenshots#45, support_info#48, header_image#26, movies#32, platforms#37, content_descriptors#16, legal_notice#28, supported_languages#49, release_date#42, package_groups#34, reviews#44, about_the_game#8, mac_requirements#30, genres#25, categories#15, dlc#21, ratings#40, publishers#39, metacritic#31, developers#20, alternate_appid#10, steam_appid#47L, type#50, drm_notice#22, recommendations#41, packages#35, achievements#9]\n",
      "Keys [44]: [required_age#43, pc_requirements#36, detailed_description#19, website#51, name#33, background_raw#12, fullgame#24, price_overview#38, capsule_image#13, background#11, controller_support#17, ext_user_account_notice#23, demos#18, short_description#46, is_free#27, linux_requirements#29, capsule_imagev5#14, screenshots#45, support_info#48, header_image#26, movies#32, platforms#37, content_descriptors#16, legal_notice#28, supported_languages#49, release_date#42, package_groups#34, reviews#44, about_the_game#8, mac_requirements#30, genres#25, categories#15, dlc#21, ratings#40, publishers#39, metacritic#31, developers#20, alternate_appid#10, steam_appid#47L, type#50, drm_notice#22, recommendations#41, packages#35, achievements#9]\n",
      "Functions: []\n",
      "Aggregate Attributes: []\n",
      "Results [44]: [about_the_game#8, achievements#9, alternate_appid#10, background#11, background_raw#12, capsule_image#13, capsule_imagev5#14, categories#15, content_descriptors#16, controller_support#17, demos#18, detailed_description#19, developers#20, dlc#21, drm_notice#22, ext_user_account_notice#23, fullgame#24, genres#25, header_image#26, is_free#27, legal_notice#28, linux_requirements#29, mac_requirements#30, metacritic#31, movies#32, name#33, package_groups#34, packages#35, pc_requirements#36, platforms#37, price_overview#38, publishers#39, ratings#40, recommendations#41, release_date#42, required_age#43, reviews#44, screenshots#45, short_description#46, steam_appid#47L, support_info#48, supported_languages#49, type#50, website#51]\n",
      "\n",
      "(5) Sort\n",
      "Input [44]: [about_the_game#8, achievements#9, alternate_appid#10, background#11, background_raw#12, capsule_image#13, capsule_imagev5#14, categories#15, content_descriptors#16, controller_support#17, demos#18, detailed_description#19, developers#20, dlc#21, drm_notice#22, ext_user_account_notice#23, fullgame#24, genres#25, header_image#26, is_free#27, legal_notice#28, linux_requirements#29, mac_requirements#30, metacritic#31, movies#32, name#33, package_groups#34, packages#35, pc_requirements#36, platforms#37, price_overview#38, publishers#39, ratings#40, recommendations#41, release_date#42, required_age#43, reviews#44, screenshots#45, short_description#46, steam_appid#47L, support_info#48, supported_languages#49, type#50, website#51]\n",
      "Arguments: [steam_appid#47L ASC NULLS FIRST, recommendations#41 DESC NULLS LAST], false, 0\n",
      "\n",
      "(6) WindowGroupLimit\n",
      "Input [44]: [about_the_game#8, achievements#9, alternate_appid#10, background#11, background_raw#12, capsule_image#13, capsule_imagev5#14, categories#15, content_descriptors#16, controller_support#17, demos#18, detailed_description#19, developers#20, dlc#21, drm_notice#22, ext_user_account_notice#23, fullgame#24, genres#25, header_image#26, is_free#27, legal_notice#28, linux_requirements#29, mac_requirements#30, metacritic#31, movies#32, name#33, package_groups#34, packages#35, pc_requirements#36, platforms#37, price_overview#38, publishers#39, ratings#40, recommendations#41, release_date#42, required_age#43, reviews#44, screenshots#45, short_description#46, steam_appid#47L, support_info#48, supported_languages#49, type#50, website#51]\n",
      "Arguments: [steam_appid#47L], [recommendations#41 DESC NULLS LAST], row_number(), 1, Partial\n",
      "\n",
      "(7) Exchange\n",
      "Input [44]: [about_the_game#8, achievements#9, alternate_appid#10, background#11, background_raw#12, capsule_image#13, capsule_imagev5#14, categories#15, content_descriptors#16, controller_support#17, demos#18, detailed_description#19, developers#20, dlc#21, drm_notice#22, ext_user_account_notice#23, fullgame#24, genres#25, header_image#26, is_free#27, legal_notice#28, linux_requirements#29, mac_requirements#30, metacritic#31, movies#32, name#33, package_groups#34, packages#35, pc_requirements#36, platforms#37, price_overview#38, publishers#39, ratings#40, recommendations#41, release_date#42, required_age#43, reviews#44, screenshots#45, short_description#46, steam_appid#47L, support_info#48, supported_languages#49, type#50, website#51]\n",
      "Arguments: hashpartitioning(steam_appid#47L, 200), ENSURE_REQUIREMENTS, [plan_id=3013]\n",
      "\n",
      "(8) Sort\n",
      "Input [44]: [about_the_game#8, achievements#9, alternate_appid#10, background#11, background_raw#12, capsule_image#13, capsule_imagev5#14, categories#15, content_descriptors#16, controller_support#17, demos#18, detailed_description#19, developers#20, dlc#21, drm_notice#22, ext_user_account_notice#23, fullgame#24, genres#25, header_image#26, is_free#27, legal_notice#28, linux_requirements#29, mac_requirements#30, metacritic#31, movies#32, name#33, package_groups#34, packages#35, pc_requirements#36, platforms#37, price_overview#38, publishers#39, ratings#40, recommendations#41, release_date#42, required_age#43, reviews#44, screenshots#45, short_description#46, steam_appid#47L, support_info#48, supported_languages#49, type#50, website#51]\n",
      "Arguments: [steam_appid#47L ASC NULLS FIRST, recommendations#41 DESC NULLS LAST], false, 0\n",
      "\n",
      "(9) WindowGroupLimit\n",
      "Input [44]: [about_the_game#8, achievements#9, alternate_appid#10, background#11, background_raw#12, capsule_image#13, capsule_imagev5#14, categories#15, content_descriptors#16, controller_support#17, demos#18, detailed_description#19, developers#20, dlc#21, drm_notice#22, ext_user_account_notice#23, fullgame#24, genres#25, header_image#26, is_free#27, legal_notice#28, linux_requirements#29, mac_requirements#30, metacritic#31, movies#32, name#33, package_groups#34, packages#35, pc_requirements#36, platforms#37, price_overview#38, publishers#39, ratings#40, recommendations#41, release_date#42, required_age#43, reviews#44, screenshots#45, short_description#46, steam_appid#47L, support_info#48, supported_languages#49, type#50, website#51]\n",
      "Arguments: [steam_appid#47L], [recommendations#41 DESC NULLS LAST], row_number(), 1, Final\n",
      "\n",
      "(10) Window\n",
      "Input [44]: [about_the_game#8, achievements#9, alternate_appid#10, background#11, background_raw#12, capsule_image#13, capsule_imagev5#14, categories#15, content_descriptors#16, controller_support#17, demos#18, detailed_description#19, developers#20, dlc#21, drm_notice#22, ext_user_account_notice#23, fullgame#24, genres#25, header_image#26, is_free#27, legal_notice#28, linux_requirements#29, mac_requirements#30, metacritic#31, movies#32, name#33, package_groups#34, packages#35, pc_requirements#36, platforms#37, price_overview#38, publishers#39, ratings#40, recommendations#41, release_date#42, required_age#43, reviews#44, screenshots#45, short_description#46, steam_appid#47L, support_info#48, supported_languages#49, type#50, website#51]\n",
      "Arguments: [row_number() windowspecdefinition(steam_appid#47L, recommendations#41 DESC NULLS LAST, specifiedwindowframe(RowFrame, unboundedpreceding$(), currentrow$())) AS rank#6477], [steam_appid#47L], [recommendations#41 DESC NULLS LAST]\n",
      "\n",
      "(11) Filter\n",
      "Input [45]: [about_the_game#8, achievements#9, alternate_appid#10, background#11, background_raw#12, capsule_image#13, capsule_imagev5#14, categories#15, content_descriptors#16, controller_support#17, demos#18, detailed_description#19, developers#20, dlc#21, drm_notice#22, ext_user_account_notice#23, fullgame#24, genres#25, header_image#26, is_free#27, legal_notice#28, linux_requirements#29, mac_requirements#30, metacritic#31, movies#32, name#33, package_groups#34, packages#35, pc_requirements#36, platforms#37, price_overview#38, publishers#39, ratings#40, recommendations#41, release_date#42, required_age#43, reviews#44, screenshots#45, short_description#46, steam_appid#47L, support_info#48, supported_languages#49, type#50, website#51, rank#6477]\n",
      "Condition : (rank#6477 = 1)\n",
      "\n",
      "(12) Project\n",
      "Output [44]: [about_the_game#8, achievements#9, alternate_appid#10, background#11, background_raw#12, capsule_image#13, capsule_imagev5#14, categories#15, content_descriptors#16, controller_support#17, demos#18, detailed_description#19, developers#20, dlc#21, drm_notice#22, ext_user_account_notice#23, fullgame#24, genres#25, header_image#26, is_free#27, legal_notice#28, linux_requirements#29, mac_requirements#30, metacritic#31, movies#32, name#33, package_groups#34, packages#35, pc_requirements#36, platforms#37, price_overview#38, publishers#39, ratings#40, recommendations#41, release_date#42, required_age#43, reviews#44, screenshots#45, short_description#46, steam_appid#47L, support_info#48, supported_languages#49, type#50, website#51]\n",
      "Input [45]: [about_the_game#8, achievements#9, alternate_appid#10, background#11, background_raw#12, capsule_image#13, capsule_imagev5#14, categories#15, content_descriptors#16, controller_support#17, demos#18, detailed_description#19, developers#20, dlc#21, drm_notice#22, ext_user_account_notice#23, fullgame#24, genres#25, header_image#26, is_free#27, legal_notice#28, linux_requirements#29, mac_requirements#30, metacritic#31, movies#32, name#33, package_groups#34, packages#35, pc_requirements#36, platforms#37, price_overview#38, publishers#39, ratings#40, recommendations#41, release_date#42, required_age#43, reviews#44, screenshots#45, short_description#46, steam_appid#47L, support_info#48, supported_languages#49, type#50, website#51, rank#6477]\n",
      "\n",
      "(13) AdaptiveSparkPlan\n",
      "Output [44]: [about_the_game#8, achievements#9, alternate_appid#10, background#11, background_raw#12, capsule_image#13, capsule_imagev5#14, categories#15, content_descriptors#16, controller_support#17, demos#18, detailed_description#19, developers#20, dlc#21, drm_notice#22, ext_user_account_notice#23, fullgame#24, genres#25, header_image#26, is_free#27, legal_notice#28, linux_requirements#29, mac_requirements#30, metacritic#31, movies#32, name#33, package_groups#34, packages#35, pc_requirements#36, platforms#37, price_overview#38, publishers#39, ratings#40, recommendations#41, release_date#42, required_age#43, reviews#44, screenshots#45, short_description#46, steam_appid#47L, support_info#48, supported_languages#49, type#50, website#51]\n",
      "Arguments: isFinalPlan=false\n",
      "\n",
      "\n"
     ]
    }
   ],
   "source": [
    "df.explain(mode=\"formatted\")"
   ]
  },
  {
   "cell_type": "code",
   "execution_count": null,
   "id": "3a3044a1-4808-4e0d-a099-66a408102ee0",
   "metadata": {},
   "outputs": [],
   "source": []
  }
 ],
 "metadata": {
  "kernelspec": {
   "display_name": "Python 3 (ipykernel)",
   "language": "python",
   "name": "python3"
  },
  "language_info": {
   "codemirror_mode": {
    "name": "ipython",
    "version": 3
   },
   "file_extension": ".py",
   "mimetype": "text/x-python",
   "name": "python",
   "nbconvert_exporter": "python",
   "pygments_lexer": "ipython3",
   "version": "3.11.6"
  }
 },
 "nbformat": 4,
 "nbformat_minor": 5
}
